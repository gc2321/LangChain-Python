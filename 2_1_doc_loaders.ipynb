{
  "nbformat": 4,
  "nbformat_minor": 0,
  "metadata": {
    "colab": {
      "provenance": [],
      "authorship_tag": "ABX9TyPRHBxjPR5zfxRo+IGW3FzL",
      "include_colab_link": true
    },
    "kernelspec": {
      "name": "python3",
      "display_name": "Python 3"
    },
    "language_info": {
      "name": "python"
    }
  },
  "cells": [
    {
      "cell_type": "markdown",
      "metadata": {
        "id": "view-in-github",
        "colab_type": "text"
      },
      "source": [
        "<a href=\"https://colab.research.google.com/github/gc2321/LangChain-Python/blob/main/2_1_doc_loaders.ipynb\" target=\"_parent\"><img src=\"https://colab.research.google.com/assets/colab-badge.svg\" alt=\"Open In Colab\"/></a>"
      ]
    },
    {
      "cell_type": "code",
      "source": [
        "import os"
      ],
      "metadata": {
        "id": "0rhqmgDGfXS4"
      },
      "execution_count": 1,
      "outputs": []
    },
    {
      "cell_type": "code",
      "source": [
        "!pip install --upgrade --quiet langchain-openai langchain-community\n",
        "!pip install -quiet openai"
      ],
      "metadata": {
        "colab": {
          "base_uri": "https://localhost:8080/"
        },
        "id": "zWtxT39ffGb6",
        "outputId": "ee14fba0-4656-427b-cffa-b146f34051b2"
      },
      "execution_count": 2,
      "outputs": [
        {
          "output_type": "stream",
          "name": "stdout",
          "text": [
            "\u001b[2K     \u001b[90m━━━━━━━━━━━━━━━━━━━━━━━━━━━━━━━━━━━━━━━━\u001b[0m \u001b[32m2.1/2.1 MB\u001b[0m \u001b[31m21.1 MB/s\u001b[0m eta \u001b[36m0:00:00\u001b[0m\n",
            "\u001b[2K     \u001b[90m━━━━━━━━━━━━━━━━━━━━━━━━━━━━━━━━━━━━━━━━\u001b[0m \u001b[32m310.2/310.2 kB\u001b[0m \u001b[31m18.2 MB/s\u001b[0m eta \u001b[36m0:00:00\u001b[0m\n",
            "\u001b[2K     \u001b[90m━━━━━━━━━━━━━━━━━━━━━━━━━━━━━━━━━━━━━━━━\u001b[0m \u001b[32m320.7/320.7 kB\u001b[0m \u001b[31m23.7 MB/s\u001b[0m eta \u001b[36m0:00:00\u001b[0m\n",
            "\u001b[2K     \u001b[90m━━━━━━━━━━━━━━━━━━━━━━━━━━━━━━━━━━━━━━━━\u001b[0m \u001b[32m1.1/1.1 MB\u001b[0m \u001b[31m50.9 MB/s\u001b[0m eta \u001b[36m0:00:00\u001b[0m\n",
            "\u001b[2K     \u001b[90m━━━━━━━━━━━━━━━━━━━━━━━━━━━━━━━━━━━━━━━━\u001b[0m \u001b[32m973.5/973.5 kB\u001b[0m \u001b[31m41.8 MB/s\u001b[0m eta \u001b[36m0:00:00\u001b[0m\n",
            "\u001b[2K     \u001b[90m━━━━━━━━━━━━━━━━━━━━━━━━━━━━━━━━━━━━━━━━\u001b[0m \u001b[32m124.4/124.4 kB\u001b[0m \u001b[31m9.2 MB/s\u001b[0m eta \u001b[36m0:00:00\u001b[0m\n",
            "\u001b[2K     \u001b[90m━━━━━━━━━━━━━━━━━━━━━━━━━━━━━━━━━━━━━━━━\u001b[0m \u001b[32m49.3/49.3 kB\u001b[0m \u001b[31m4.3 MB/s\u001b[0m eta \u001b[36m0:00:00\u001b[0m\n",
            "\u001b[2K     \u001b[90m━━━━━━━━━━━━━━━━━━━━━━━━━━━━━━━━━━━━━━━━\u001b[0m \u001b[32m53.0/53.0 kB\u001b[0m \u001b[31m3.6 MB/s\u001b[0m eta \u001b[36m0:00:00\u001b[0m\n",
            "\u001b[2K     \u001b[90m━━━━━━━━━━━━━━━━━━━━━━━━━━━━━━━━━━━━━━━━\u001b[0m \u001b[32m142.5/142.5 kB\u001b[0m \u001b[31m3.7 MB/s\u001b[0m eta \u001b[36m0:00:00\u001b[0m\n",
            "\u001b[2K     \u001b[90m━━━━━━━━━━━━━━━━━━━━━━━━━━━━━━━━━━━━━━━━\u001b[0m \u001b[32m75.6/75.6 kB\u001b[0m \u001b[31m6.7 MB/s\u001b[0m eta \u001b[36m0:00:00\u001b[0m\n",
            "\u001b[2K     \u001b[90m━━━━━━━━━━━━━━━━━━━━━━━━━━━━━━━━━━━━━━━━\u001b[0m \u001b[32m77.9/77.9 kB\u001b[0m \u001b[31m6.3 MB/s\u001b[0m eta \u001b[36m0:00:00\u001b[0m\n",
            "\u001b[2K     \u001b[90m━━━━━━━━━━━━━━━━━━━━━━━━━━━━━━━━━━━━━━━━\u001b[0m \u001b[32m58.3/58.3 kB\u001b[0m \u001b[31m5.0 MB/s\u001b[0m eta \u001b[36m0:00:00\u001b[0m\n",
            "\u001b[?25h\n",
            "Usage:   \n",
            "  pip3 install [options] <requirement specifier> [package-index-options] ...\n",
            "  pip3 install [options] -r <requirements file> [package-index-options] ...\n",
            "  pip3 install [options] [-e] <vcs project url> ...\n",
            "  pip3 install [options] [-e] <local project path> ...\n",
            "  pip3 install [options] <archive url/path> ...\n",
            "\n",
            "no such option: -u\n"
          ]
        }
      ]
    },
    {
      "cell_type": "code",
      "source": [
        "from google.colab import drive\n",
        "drive.mount('/content/gdrive')"
      ],
      "metadata": {
        "colab": {
          "base_uri": "https://localhost:8080/"
        },
        "id": "RZ9bQosqpV5k",
        "outputId": "9dc96714-1022-4bc3-beaa-e600fd20e7af"
      },
      "execution_count": 3,
      "outputs": [
        {
          "output_type": "stream",
          "name": "stdout",
          "text": [
            "Mounted at /content/gdrive\n"
          ]
        }
      ]
    },
    {
      "cell_type": "code",
      "source": [
        "open_ai_api =\"/content/gdrive/MyDrive/llm/api_key.txt\"\n",
        "f = open(open_ai_api)\n",
        "api_key = f.read()"
      ],
      "metadata": {
        "id": "__dZDI4qp9JP"
      },
      "execution_count": 4,
      "outputs": []
    },
    {
      "cell_type": "markdown",
      "source": [
        "## Document Loaders"
      ],
      "metadata": {
        "id": "LXCf6PT9b_-U"
      }
    },
    {
      "cell_type": "markdown",
      "source": [
        "## CSV"
      ],
      "metadata": {
        "id": "RtYq5aGa-rdK"
      }
    },
    {
      "cell_type": "code",
      "source": [
        "from langchain.document_loaders import CSVLoader"
      ],
      "metadata": {
        "id": "1kBll8PtERP9"
      },
      "execution_count": 6,
      "outputs": []
    },
    {
      "cell_type": "code",
      "source": [
        "path = \"/content/gdrive/MyDrive/llm/langchain/some_data/penguins.csv\""
      ],
      "metadata": {
        "id": "mKj9bRjN-x07"
      },
      "execution_count": 14,
      "outputs": []
    },
    {
      "cell_type": "code",
      "source": [
        "loader = CSVLoader(path)\n",
        "data = loader.load()"
      ],
      "metadata": {
        "id": "QqHb_ovs-35C"
      },
      "execution_count": 9,
      "outputs": []
    },
    {
      "cell_type": "code",
      "source": [
        "print(data)"
      ],
      "metadata": {
        "colab": {
          "base_uri": "https://localhost:8080/"
        },
        "id": "Ab7jUm_d_e_r",
        "outputId": "f3c5ae80-b9c5-409e-d3ea-3cc65be9d86b"
      },
      "execution_count": 10,
      "outputs": [
        {
          "output_type": "stream",
          "name": "stdout",
          "text": [
            "[Document(page_content='species: Adelie\\nisland: Torgersen\\nbill_length_mm: 39.1\\nbill_depth_mm: 18.7\\nflipper_length_mm: 181\\nbody_mass_g: 3750\\nsex: MALE', metadata={'source': '/content/gdrive/MyDrive/llm/langchain/some_data/penguins.csv', 'row': 0}), Document(page_content='species: Adelie\\nisland: Torgersen\\nbill_length_mm: 39.5\\nbill_depth_mm: 17.4\\nflipper_length_mm: 186\\nbody_mass_g: 3800\\nsex: FEMALE', metadata={'source': '/content/gdrive/MyDrive/llm/langchain/some_data/penguins.csv', 'row': 1}), Document(page_content='species: Adelie\\nisland: Torgersen\\nbill_length_mm: 40.3\\nbill_depth_mm: 18\\nflipper_length_mm: 195\\nbody_mass_g: 3250\\nsex: FEMALE', metadata={'source': '/content/gdrive/MyDrive/llm/langchain/some_data/penguins.csv', 'row': 2}), Document(page_content='species: Adelie\\nisland: Torgersen\\nbill_length_mm: \\nbill_depth_mm: \\nflipper_length_mm: \\nbody_mass_g: \\nsex: ', metadata={'source': '/content/gdrive/MyDrive/llm/langchain/some_data/penguins.csv', 'row': 3}), Document(page_content='species: Adelie\\nisland: Torgersen\\nbill_length_mm: 36.7\\nbill_depth_mm: 19.3\\nflipper_length_mm: 193\\nbody_mass_g: 3450\\nsex: FEMALE', metadata={'source': '/content/gdrive/MyDrive/llm/langchain/some_data/penguins.csv', 'row': 4}), Document(page_content='species: Adelie\\nisland: Torgersen\\nbill_length_mm: 39.3\\nbill_depth_mm: 20.6\\nflipper_length_mm: 190\\nbody_mass_g: 3650\\nsex: MALE', metadata={'source': '/content/gdrive/MyDrive/llm/langchain/some_data/penguins.csv', 'row': 5}), Document(page_content='species: Adelie\\nisland: Torgersen\\nbill_length_mm: 38.9\\nbill_depth_mm: 17.8\\nflipper_length_mm: 181\\nbody_mass_g: 3625\\nsex: FEMALE', metadata={'source': '/content/gdrive/MyDrive/llm/langchain/some_data/penguins.csv', 'row': 6}), Document(page_content='species: Adelie\\nisland: Torgersen\\nbill_length_mm: 39.2\\nbill_depth_mm: 19.6\\nflipper_length_mm: 195\\nbody_mass_g: 4675\\nsex: MALE', metadata={'source': '/content/gdrive/MyDrive/llm/langchain/some_data/penguins.csv', 'row': 7}), Document(page_content='species: Adelie\\nisland: Torgersen\\nbill_length_mm: 34.1\\nbill_depth_mm: 18.1\\nflipper_length_mm: 193\\nbody_mass_g: 3475\\nsex: ', metadata={'source': '/content/gdrive/MyDrive/llm/langchain/some_data/penguins.csv', 'row': 8}), Document(page_content='species: Adelie\\nisland: Torgersen\\nbill_length_mm: 42\\nbill_depth_mm: 20.2\\nflipper_length_mm: 190\\nbody_mass_g: 4250\\nsex: ', metadata={'source': '/content/gdrive/MyDrive/llm/langchain/some_data/penguins.csv', 'row': 9}), Document(page_content='species: Adelie\\nisland: Torgersen\\nbill_length_mm: 37.8\\nbill_depth_mm: 17.1\\nflipper_length_mm: 186\\nbody_mass_g: 3300\\nsex: ', metadata={'source': '/content/gdrive/MyDrive/llm/langchain/some_data/penguins.csv', 'row': 10}), Document(page_content='species: Adelie\\nisland: Torgersen\\nbill_length_mm: 37.8\\nbill_depth_mm: 17.3\\nflipper_length_mm: 180\\nbody_mass_g: 3700\\nsex: ', metadata={'source': '/content/gdrive/MyDrive/llm/langchain/some_data/penguins.csv', 'row': 11}), Document(page_content='species: Adelie\\nisland: Torgersen\\nbill_length_mm: 41.1\\nbill_depth_mm: 17.6\\nflipper_length_mm: 182\\nbody_mass_g: 3200\\nsex: FEMALE', metadata={'source': '/content/gdrive/MyDrive/llm/langchain/some_data/penguins.csv', 'row': 12}), Document(page_content='species: Adelie\\nisland: Torgersen\\nbill_length_mm: 38.6\\nbill_depth_mm: 21.2\\nflipper_length_mm: 191\\nbody_mass_g: 3800\\nsex: MALE', metadata={'source': '/content/gdrive/MyDrive/llm/langchain/some_data/penguins.csv', 'row': 13}), Document(page_content='species: Adelie\\nisland: Torgersen\\nbill_length_mm: 34.6\\nbill_depth_mm: 21.1\\nflipper_length_mm: 198\\nbody_mass_g: 4400\\nsex: MALE', metadata={'source': '/content/gdrive/MyDrive/llm/langchain/some_data/penguins.csv', 'row': 14}), Document(page_content='species: Adelie\\nisland: Torgersen\\nbill_length_mm: 36.6\\nbill_depth_mm: 17.8\\nflipper_length_mm: 185\\nbody_mass_g: 3700\\nsex: FEMALE', metadata={'source': '/content/gdrive/MyDrive/llm/langchain/some_data/penguins.csv', 'row': 15}), Document(page_content='species: Adelie\\nisland: Torgersen\\nbill_length_mm: 38.7\\nbill_depth_mm: 19\\nflipper_length_mm: 195\\nbody_mass_g: 3450\\nsex: FEMALE', metadata={'source': '/content/gdrive/MyDrive/llm/langchain/some_data/penguins.csv', 'row': 16}), Document(page_content='species: Adelie\\nisland: Torgersen\\nbill_length_mm: 42.5\\nbill_depth_mm: 20.7\\nflipper_length_mm: 197\\nbody_mass_g: 4500\\nsex: MALE', metadata={'source': '/content/gdrive/MyDrive/llm/langchain/some_data/penguins.csv', 'row': 17}), Document(page_content='species: Adelie\\nisland: Torgersen\\nbill_length_mm: 34.4\\nbill_depth_mm: 18.4\\nflipper_length_mm: 184\\nbody_mass_g: 3325\\nsex: FEMALE', metadata={'source': '/content/gdrive/MyDrive/llm/langchain/some_data/penguins.csv', 'row': 18}), Document(page_content='species: Adelie\\nisland: Torgersen\\nbill_length_mm: 46\\nbill_depth_mm: 21.5\\nflipper_length_mm: 194\\nbody_mass_g: 4200\\nsex: MALE', metadata={'source': '/content/gdrive/MyDrive/llm/langchain/some_data/penguins.csv', 'row': 19}), Document(page_content='species: Adelie\\nisland: Biscoe\\nbill_length_mm: 37.8\\nbill_depth_mm: 18.3\\nflipper_length_mm: 174\\nbody_mass_g: 3400\\nsex: FEMALE', metadata={'source': '/content/gdrive/MyDrive/llm/langchain/some_data/penguins.csv', 'row': 20}), Document(page_content='species: Adelie\\nisland: Biscoe\\nbill_length_mm: 37.7\\nbill_depth_mm: 18.7\\nflipper_length_mm: 180\\nbody_mass_g: 3600\\nsex: MALE', metadata={'source': '/content/gdrive/MyDrive/llm/langchain/some_data/penguins.csv', 'row': 21}), Document(page_content='species: Adelie\\nisland: Biscoe\\nbill_length_mm: 35.9\\nbill_depth_mm: 19.2\\nflipper_length_mm: 189\\nbody_mass_g: 3800\\nsex: FEMALE', metadata={'source': '/content/gdrive/MyDrive/llm/langchain/some_data/penguins.csv', 'row': 22}), Document(page_content='species: Adelie\\nisland: Biscoe\\nbill_length_mm: 38.2\\nbill_depth_mm: 18.1\\nflipper_length_mm: 185\\nbody_mass_g: 3950\\nsex: MALE', metadata={'source': '/content/gdrive/MyDrive/llm/langchain/some_data/penguins.csv', 'row': 23}), Document(page_content='species: Adelie\\nisland: Biscoe\\nbill_length_mm: 38.8\\nbill_depth_mm: 17.2\\nflipper_length_mm: 180\\nbody_mass_g: 3800\\nsex: MALE', metadata={'source': '/content/gdrive/MyDrive/llm/langchain/some_data/penguins.csv', 'row': 24}), Document(page_content='species: Adelie\\nisland: Biscoe\\nbill_length_mm: 35.3\\nbill_depth_mm: 18.9\\nflipper_length_mm: 187\\nbody_mass_g: 3800\\nsex: FEMALE', metadata={'source': '/content/gdrive/MyDrive/llm/langchain/some_data/penguins.csv', 'row': 25}), Document(page_content='species: Adelie\\nisland: Biscoe\\nbill_length_mm: 40.6\\nbill_depth_mm: 18.6\\nflipper_length_mm: 183\\nbody_mass_g: 3550\\nsex: MALE', metadata={'source': '/content/gdrive/MyDrive/llm/langchain/some_data/penguins.csv', 'row': 26}), Document(page_content='species: Adelie\\nisland: Biscoe\\nbill_length_mm: 40.5\\nbill_depth_mm: 17.9\\nflipper_length_mm: 187\\nbody_mass_g: 3200\\nsex: FEMALE', metadata={'source': '/content/gdrive/MyDrive/llm/langchain/some_data/penguins.csv', 'row': 27}), Document(page_content='species: Adelie\\nisland: Biscoe\\nbill_length_mm: 37.9\\nbill_depth_mm: 18.6\\nflipper_length_mm: 172\\nbody_mass_g: 3150\\nsex: FEMALE', metadata={'source': '/content/gdrive/MyDrive/llm/langchain/some_data/penguins.csv', 'row': 28}), Document(page_content='species: Adelie\\nisland: Biscoe\\nbill_length_mm: 40.5\\nbill_depth_mm: 18.9\\nflipper_length_mm: 180\\nbody_mass_g: 3950\\nsex: MALE', metadata={'source': '/content/gdrive/MyDrive/llm/langchain/some_data/penguins.csv', 'row': 29}), Document(page_content='species: Adelie\\nisland: Dream\\nbill_length_mm: 39.5\\nbill_depth_mm: 16.7\\nflipper_length_mm: 178\\nbody_mass_g: 3250\\nsex: FEMALE', metadata={'source': '/content/gdrive/MyDrive/llm/langchain/some_data/penguins.csv', 'row': 30}), Document(page_content='species: Adelie\\nisland: Dream\\nbill_length_mm: 37.2\\nbill_depth_mm: 18.1\\nflipper_length_mm: 178\\nbody_mass_g: 3900\\nsex: MALE', metadata={'source': '/content/gdrive/MyDrive/llm/langchain/some_data/penguins.csv', 'row': 31}), Document(page_content='species: Adelie\\nisland: Dream\\nbill_length_mm: 39.5\\nbill_depth_mm: 17.8\\nflipper_length_mm: 188\\nbody_mass_g: 3300\\nsex: FEMALE', metadata={'source': '/content/gdrive/MyDrive/llm/langchain/some_data/penguins.csv', 'row': 32}), Document(page_content='species: Adelie\\nisland: Dream\\nbill_length_mm: 40.9\\nbill_depth_mm: 18.9\\nflipper_length_mm: 184\\nbody_mass_g: 3900\\nsex: MALE', metadata={'source': '/content/gdrive/MyDrive/llm/langchain/some_data/penguins.csv', 'row': 33}), Document(page_content='species: Adelie\\nisland: Dream\\nbill_length_mm: 36.4\\nbill_depth_mm: 17\\nflipper_length_mm: 195\\nbody_mass_g: 3325\\nsex: FEMALE', metadata={'source': '/content/gdrive/MyDrive/llm/langchain/some_data/penguins.csv', 'row': 34}), Document(page_content='species: Adelie\\nisland: Dream\\nbill_length_mm: 39.2\\nbill_depth_mm: 21.1\\nflipper_length_mm: 196\\nbody_mass_g: 4150\\nsex: MALE', metadata={'source': '/content/gdrive/MyDrive/llm/langchain/some_data/penguins.csv', 'row': 35}), Document(page_content='species: Adelie\\nisland: Dream\\nbill_length_mm: 38.8\\nbill_depth_mm: 20\\nflipper_length_mm: 190\\nbody_mass_g: 3950\\nsex: MALE', metadata={'source': '/content/gdrive/MyDrive/llm/langchain/some_data/penguins.csv', 'row': 36}), Document(page_content='species: Adelie\\nisland: Dream\\nbill_length_mm: 42.2\\nbill_depth_mm: 18.5\\nflipper_length_mm: 180\\nbody_mass_g: 3550\\nsex: FEMALE', metadata={'source': '/content/gdrive/MyDrive/llm/langchain/some_data/penguins.csv', 'row': 37}), Document(page_content='species: Adelie\\nisland: Dream\\nbill_length_mm: 37.6\\nbill_depth_mm: 19.3\\nflipper_length_mm: 181\\nbody_mass_g: 3300\\nsex: FEMALE', metadata={'source': '/content/gdrive/MyDrive/llm/langchain/some_data/penguins.csv', 'row': 38}), Document(page_content='species: Adelie\\nisland: Dream\\nbill_length_mm: 39.8\\nbill_depth_mm: 19.1\\nflipper_length_mm: 184\\nbody_mass_g: 4650\\nsex: MALE', metadata={'source': '/content/gdrive/MyDrive/llm/langchain/some_data/penguins.csv', 'row': 39}), Document(page_content='species: Adelie\\nisland: Dream\\nbill_length_mm: 36.5\\nbill_depth_mm: 18\\nflipper_length_mm: 182\\nbody_mass_g: 3150\\nsex: FEMALE', metadata={'source': '/content/gdrive/MyDrive/llm/langchain/some_data/penguins.csv', 'row': 40}), Document(page_content='species: Adelie\\nisland: Dream\\nbill_length_mm: 40.8\\nbill_depth_mm: 18.4\\nflipper_length_mm: 195\\nbody_mass_g: 3900\\nsex: MALE', metadata={'source': '/content/gdrive/MyDrive/llm/langchain/some_data/penguins.csv', 'row': 41}), Document(page_content='species: Adelie\\nisland: Dream\\nbill_length_mm: 36\\nbill_depth_mm: 18.5\\nflipper_length_mm: 186\\nbody_mass_g: 3100\\nsex: FEMALE', metadata={'source': '/content/gdrive/MyDrive/llm/langchain/some_data/penguins.csv', 'row': 42}), Document(page_content='species: Adelie\\nisland: Dream\\nbill_length_mm: 44.1\\nbill_depth_mm: 19.7\\nflipper_length_mm: 196\\nbody_mass_g: 4400\\nsex: MALE', metadata={'source': '/content/gdrive/MyDrive/llm/langchain/some_data/penguins.csv', 'row': 43}), Document(page_content='species: Adelie\\nisland: Dream\\nbill_length_mm: 37\\nbill_depth_mm: 16.9\\nflipper_length_mm: 185\\nbody_mass_g: 3000\\nsex: FEMALE', metadata={'source': '/content/gdrive/MyDrive/llm/langchain/some_data/penguins.csv', 'row': 44}), Document(page_content='species: Adelie\\nisland: Dream\\nbill_length_mm: 39.6\\nbill_depth_mm: 18.8\\nflipper_length_mm: 190\\nbody_mass_g: 4600\\nsex: MALE', metadata={'source': '/content/gdrive/MyDrive/llm/langchain/some_data/penguins.csv', 'row': 45}), Document(page_content='species: Adelie\\nisland: Dream\\nbill_length_mm: 41.1\\nbill_depth_mm: 19\\nflipper_length_mm: 182\\nbody_mass_g: 3425\\nsex: MALE', metadata={'source': '/content/gdrive/MyDrive/llm/langchain/some_data/penguins.csv', 'row': 46}), Document(page_content='species: Adelie\\nisland: Dream\\nbill_length_mm: 37.5\\nbill_depth_mm: 18.9\\nflipper_length_mm: 179\\nbody_mass_g: 2975\\nsex: ', metadata={'source': '/content/gdrive/MyDrive/llm/langchain/some_data/penguins.csv', 'row': 47}), Document(page_content='species: Adelie\\nisland: Dream\\nbill_length_mm: 36\\nbill_depth_mm: 17.9\\nflipper_length_mm: 190\\nbody_mass_g: 3450\\nsex: FEMALE', metadata={'source': '/content/gdrive/MyDrive/llm/langchain/some_data/penguins.csv', 'row': 48}), Document(page_content='species: Adelie\\nisland: Dream\\nbill_length_mm: 42.3\\nbill_depth_mm: 21.2\\nflipper_length_mm: 191\\nbody_mass_g: 4150\\nsex: MALE', metadata={'source': '/content/gdrive/MyDrive/llm/langchain/some_data/penguins.csv', 'row': 49}), Document(page_content='species: Adelie\\nisland: Biscoe\\nbill_length_mm: 39.6\\nbill_depth_mm: 17.7\\nflipper_length_mm: 186\\nbody_mass_g: 3500\\nsex: FEMALE', metadata={'source': '/content/gdrive/MyDrive/llm/langchain/some_data/penguins.csv', 'row': 50}), Document(page_content='species: Adelie\\nisland: Biscoe\\nbill_length_mm: 40.1\\nbill_depth_mm: 18.9\\nflipper_length_mm: 188\\nbody_mass_g: 4300\\nsex: MALE', metadata={'source': '/content/gdrive/MyDrive/llm/langchain/some_data/penguins.csv', 'row': 51}), Document(page_content='species: Adelie\\nisland: Biscoe\\nbill_length_mm: 35\\nbill_depth_mm: 17.9\\nflipper_length_mm: 190\\nbody_mass_g: 3450\\nsex: FEMALE', metadata={'source': '/content/gdrive/MyDrive/llm/langchain/some_data/penguins.csv', 'row': 52}), Document(page_content='species: Adelie\\nisland: Biscoe\\nbill_length_mm: 42\\nbill_depth_mm: 19.5\\nflipper_length_mm: 200\\nbody_mass_g: 4050\\nsex: MALE', metadata={'source': '/content/gdrive/MyDrive/llm/langchain/some_data/penguins.csv', 'row': 53}), Document(page_content='species: Adelie\\nisland: Biscoe\\nbill_length_mm: 34.5\\nbill_depth_mm: 18.1\\nflipper_length_mm: 187\\nbody_mass_g: 2900\\nsex: FEMALE', metadata={'source': '/content/gdrive/MyDrive/llm/langchain/some_data/penguins.csv', 'row': 54}), Document(page_content='species: Adelie\\nisland: Biscoe\\nbill_length_mm: 41.4\\nbill_depth_mm: 18.6\\nflipper_length_mm: 191\\nbody_mass_g: 3700\\nsex: MALE', metadata={'source': '/content/gdrive/MyDrive/llm/langchain/some_data/penguins.csv', 'row': 55}), Document(page_content='species: Adelie\\nisland: Biscoe\\nbill_length_mm: 39\\nbill_depth_mm: 17.5\\nflipper_length_mm: 186\\nbody_mass_g: 3550\\nsex: FEMALE', metadata={'source': '/content/gdrive/MyDrive/llm/langchain/some_data/penguins.csv', 'row': 56}), Document(page_content='species: Adelie\\nisland: Biscoe\\nbill_length_mm: 40.6\\nbill_depth_mm: 18.8\\nflipper_length_mm: 193\\nbody_mass_g: 3800\\nsex: MALE', metadata={'source': '/content/gdrive/MyDrive/llm/langchain/some_data/penguins.csv', 'row': 57}), Document(page_content='species: Adelie\\nisland: Biscoe\\nbill_length_mm: 36.5\\nbill_depth_mm: 16.6\\nflipper_length_mm: 181\\nbody_mass_g: 2850\\nsex: FEMALE', metadata={'source': '/content/gdrive/MyDrive/llm/langchain/some_data/penguins.csv', 'row': 58}), Document(page_content='species: Adelie\\nisland: Biscoe\\nbill_length_mm: 37.6\\nbill_depth_mm: 19.1\\nflipper_length_mm: 194\\nbody_mass_g: 3750\\nsex: MALE', metadata={'source': '/content/gdrive/MyDrive/llm/langchain/some_data/penguins.csv', 'row': 59}), Document(page_content='species: Adelie\\nisland: Biscoe\\nbill_length_mm: 35.7\\nbill_depth_mm: 16.9\\nflipper_length_mm: 185\\nbody_mass_g: 3150\\nsex: FEMALE', metadata={'source': '/content/gdrive/MyDrive/llm/langchain/some_data/penguins.csv', 'row': 60}), Document(page_content='species: Adelie\\nisland: Biscoe\\nbill_length_mm: 41.3\\nbill_depth_mm: 21.1\\nflipper_length_mm: 195\\nbody_mass_g: 4400\\nsex: MALE', metadata={'source': '/content/gdrive/MyDrive/llm/langchain/some_data/penguins.csv', 'row': 61}), Document(page_content='species: Adelie\\nisland: Biscoe\\nbill_length_mm: 37.6\\nbill_depth_mm: 17\\nflipper_length_mm: 185\\nbody_mass_g: 3600\\nsex: FEMALE', metadata={'source': '/content/gdrive/MyDrive/llm/langchain/some_data/penguins.csv', 'row': 62}), Document(page_content='species: Adelie\\nisland: Biscoe\\nbill_length_mm: 41.1\\nbill_depth_mm: 18.2\\nflipper_length_mm: 192\\nbody_mass_g: 4050\\nsex: MALE', metadata={'source': '/content/gdrive/MyDrive/llm/langchain/some_data/penguins.csv', 'row': 63}), Document(page_content='species: Adelie\\nisland: Biscoe\\nbill_length_mm: 36.4\\nbill_depth_mm: 17.1\\nflipper_length_mm: 184\\nbody_mass_g: 2850\\nsex: FEMALE', metadata={'source': '/content/gdrive/MyDrive/llm/langchain/some_data/penguins.csv', 'row': 64}), Document(page_content='species: Adelie\\nisland: Biscoe\\nbill_length_mm: 41.6\\nbill_depth_mm: 18\\nflipper_length_mm: 192\\nbody_mass_g: 3950\\nsex: MALE', metadata={'source': '/content/gdrive/MyDrive/llm/langchain/some_data/penguins.csv', 'row': 65}), Document(page_content='species: Adelie\\nisland: Biscoe\\nbill_length_mm: 35.5\\nbill_depth_mm: 16.2\\nflipper_length_mm: 195\\nbody_mass_g: 3350\\nsex: FEMALE', metadata={'source': '/content/gdrive/MyDrive/llm/langchain/some_data/penguins.csv', 'row': 66}), Document(page_content='species: Adelie\\nisland: Biscoe\\nbill_length_mm: 41.1\\nbill_depth_mm: 19.1\\nflipper_length_mm: 188\\nbody_mass_g: 4100\\nsex: MALE', metadata={'source': '/content/gdrive/MyDrive/llm/langchain/some_data/penguins.csv', 'row': 67}), Document(page_content='species: Adelie\\nisland: Torgersen\\nbill_length_mm: 35.9\\nbill_depth_mm: 16.6\\nflipper_length_mm: 190\\nbody_mass_g: 3050\\nsex: FEMALE', metadata={'source': '/content/gdrive/MyDrive/llm/langchain/some_data/penguins.csv', 'row': 68}), Document(page_content='species: Adelie\\nisland: Torgersen\\nbill_length_mm: 41.8\\nbill_depth_mm: 19.4\\nflipper_length_mm: 198\\nbody_mass_g: 4450\\nsex: MALE', metadata={'source': '/content/gdrive/MyDrive/llm/langchain/some_data/penguins.csv', 'row': 69}), Document(page_content='species: Adelie\\nisland: Torgersen\\nbill_length_mm: 33.5\\nbill_depth_mm: 19\\nflipper_length_mm: 190\\nbody_mass_g: 3600\\nsex: FEMALE', metadata={'source': '/content/gdrive/MyDrive/llm/langchain/some_data/penguins.csv', 'row': 70}), Document(page_content='species: Adelie\\nisland: Torgersen\\nbill_length_mm: 39.7\\nbill_depth_mm: 18.4\\nflipper_length_mm: 190\\nbody_mass_g: 3900\\nsex: MALE', metadata={'source': '/content/gdrive/MyDrive/llm/langchain/some_data/penguins.csv', 'row': 71}), Document(page_content='species: Adelie\\nisland: Torgersen\\nbill_length_mm: 39.6\\nbill_depth_mm: 17.2\\nflipper_length_mm: 196\\nbody_mass_g: 3550\\nsex: FEMALE', metadata={'source': '/content/gdrive/MyDrive/llm/langchain/some_data/penguins.csv', 'row': 72}), Document(page_content='species: Adelie\\nisland: Torgersen\\nbill_length_mm: 45.8\\nbill_depth_mm: 18.9\\nflipper_length_mm: 197\\nbody_mass_g: 4150\\nsex: MALE', metadata={'source': '/content/gdrive/MyDrive/llm/langchain/some_data/penguins.csv', 'row': 73}), Document(page_content='species: Adelie\\nisland: Torgersen\\nbill_length_mm: 35.5\\nbill_depth_mm: 17.5\\nflipper_length_mm: 190\\nbody_mass_g: 3700\\nsex: FEMALE', metadata={'source': '/content/gdrive/MyDrive/llm/langchain/some_data/penguins.csv', 'row': 74}), Document(page_content='species: Adelie\\nisland: Torgersen\\nbill_length_mm: 42.8\\nbill_depth_mm: 18.5\\nflipper_length_mm: 195\\nbody_mass_g: 4250\\nsex: MALE', metadata={'source': '/content/gdrive/MyDrive/llm/langchain/some_data/penguins.csv', 'row': 75}), Document(page_content='species: Adelie\\nisland: Torgersen\\nbill_length_mm: 40.9\\nbill_depth_mm: 16.8\\nflipper_length_mm: 191\\nbody_mass_g: 3700\\nsex: FEMALE', metadata={'source': '/content/gdrive/MyDrive/llm/langchain/some_data/penguins.csv', 'row': 76}), Document(page_content='species: Adelie\\nisland: Torgersen\\nbill_length_mm: 37.2\\nbill_depth_mm: 19.4\\nflipper_length_mm: 184\\nbody_mass_g: 3900\\nsex: MALE', metadata={'source': '/content/gdrive/MyDrive/llm/langchain/some_data/penguins.csv', 'row': 77}), Document(page_content='species: Adelie\\nisland: Torgersen\\nbill_length_mm: 36.2\\nbill_depth_mm: 16.1\\nflipper_length_mm: 187\\nbody_mass_g: 3550\\nsex: FEMALE', metadata={'source': '/content/gdrive/MyDrive/llm/langchain/some_data/penguins.csv', 'row': 78}), Document(page_content='species: Adelie\\nisland: Torgersen\\nbill_length_mm: 42.1\\nbill_depth_mm: 19.1\\nflipper_length_mm: 195\\nbody_mass_g: 4000\\nsex: MALE', metadata={'source': '/content/gdrive/MyDrive/llm/langchain/some_data/penguins.csv', 'row': 79}), Document(page_content='species: Adelie\\nisland: Torgersen\\nbill_length_mm: 34.6\\nbill_depth_mm: 17.2\\nflipper_length_mm: 189\\nbody_mass_g: 3200\\nsex: FEMALE', metadata={'source': '/content/gdrive/MyDrive/llm/langchain/some_data/penguins.csv', 'row': 80}), Document(page_content='species: Adelie\\nisland: Torgersen\\nbill_length_mm: 42.9\\nbill_depth_mm: 17.6\\nflipper_length_mm: 196\\nbody_mass_g: 4700\\nsex: MALE', metadata={'source': '/content/gdrive/MyDrive/llm/langchain/some_data/penguins.csv', 'row': 81}), Document(page_content='species: Adelie\\nisland: Torgersen\\nbill_length_mm: 36.7\\nbill_depth_mm: 18.8\\nflipper_length_mm: 187\\nbody_mass_g: 3800\\nsex: FEMALE', metadata={'source': '/content/gdrive/MyDrive/llm/langchain/some_data/penguins.csv', 'row': 82}), Document(page_content='species: Adelie\\nisland: Torgersen\\nbill_length_mm: 35.1\\nbill_depth_mm: 19.4\\nflipper_length_mm: 193\\nbody_mass_g: 4200\\nsex: MALE', metadata={'source': '/content/gdrive/MyDrive/llm/langchain/some_data/penguins.csv', 'row': 83}), Document(page_content='species: Adelie\\nisland: Dream\\nbill_length_mm: 37.3\\nbill_depth_mm: 17.8\\nflipper_length_mm: 191\\nbody_mass_g: 3350\\nsex: FEMALE', metadata={'source': '/content/gdrive/MyDrive/llm/langchain/some_data/penguins.csv', 'row': 84}), Document(page_content='species: Adelie\\nisland: Dream\\nbill_length_mm: 41.3\\nbill_depth_mm: 20.3\\nflipper_length_mm: 194\\nbody_mass_g: 3550\\nsex: MALE', metadata={'source': '/content/gdrive/MyDrive/llm/langchain/some_data/penguins.csv', 'row': 85}), Document(page_content='species: Adelie\\nisland: Dream\\nbill_length_mm: 36.3\\nbill_depth_mm: 19.5\\nflipper_length_mm: 190\\nbody_mass_g: 3800\\nsex: MALE', metadata={'source': '/content/gdrive/MyDrive/llm/langchain/some_data/penguins.csv', 'row': 86}), Document(page_content='species: Adelie\\nisland: Dream\\nbill_length_mm: 36.9\\nbill_depth_mm: 18.6\\nflipper_length_mm: 189\\nbody_mass_g: 3500\\nsex: FEMALE', metadata={'source': '/content/gdrive/MyDrive/llm/langchain/some_data/penguins.csv', 'row': 87}), Document(page_content='species: Adelie\\nisland: Dream\\nbill_length_mm: 38.3\\nbill_depth_mm: 19.2\\nflipper_length_mm: 189\\nbody_mass_g: 3950\\nsex: MALE', metadata={'source': '/content/gdrive/MyDrive/llm/langchain/some_data/penguins.csv', 'row': 88}), Document(page_content='species: Adelie\\nisland: Dream\\nbill_length_mm: 38.9\\nbill_depth_mm: 18.8\\nflipper_length_mm: 190\\nbody_mass_g: 3600\\nsex: FEMALE', metadata={'source': '/content/gdrive/MyDrive/llm/langchain/some_data/penguins.csv', 'row': 89}), Document(page_content='species: Adelie\\nisland: Dream\\nbill_length_mm: 35.7\\nbill_depth_mm: 18\\nflipper_length_mm: 202\\nbody_mass_g: 3550\\nsex: FEMALE', metadata={'source': '/content/gdrive/MyDrive/llm/langchain/some_data/penguins.csv', 'row': 90}), Document(page_content='species: Adelie\\nisland: Dream\\nbill_length_mm: 41.1\\nbill_depth_mm: 18.1\\nflipper_length_mm: 205\\nbody_mass_g: 4300\\nsex: MALE', metadata={'source': '/content/gdrive/MyDrive/llm/langchain/some_data/penguins.csv', 'row': 91}), Document(page_content='species: Adelie\\nisland: Dream\\nbill_length_mm: 34\\nbill_depth_mm: 17.1\\nflipper_length_mm: 185\\nbody_mass_g: 3400\\nsex: FEMALE', metadata={'source': '/content/gdrive/MyDrive/llm/langchain/some_data/penguins.csv', 'row': 92}), Document(page_content='species: Adelie\\nisland: Dream\\nbill_length_mm: 39.6\\nbill_depth_mm: 18.1\\nflipper_length_mm: 186\\nbody_mass_g: 4450\\nsex: MALE', metadata={'source': '/content/gdrive/MyDrive/llm/langchain/some_data/penguins.csv', 'row': 93}), Document(page_content='species: Adelie\\nisland: Dream\\nbill_length_mm: 36.2\\nbill_depth_mm: 17.3\\nflipper_length_mm: 187\\nbody_mass_g: 3300\\nsex: FEMALE', metadata={'source': '/content/gdrive/MyDrive/llm/langchain/some_data/penguins.csv', 'row': 94}), Document(page_content='species: Adelie\\nisland: Dream\\nbill_length_mm: 40.8\\nbill_depth_mm: 18.9\\nflipper_length_mm: 208\\nbody_mass_g: 4300\\nsex: MALE', metadata={'source': '/content/gdrive/MyDrive/llm/langchain/some_data/penguins.csv', 'row': 95}), Document(page_content='species: Adelie\\nisland: Dream\\nbill_length_mm: 38.1\\nbill_depth_mm: 18.6\\nflipper_length_mm: 190\\nbody_mass_g: 3700\\nsex: FEMALE', metadata={'source': '/content/gdrive/MyDrive/llm/langchain/some_data/penguins.csv', 'row': 96}), Document(page_content='species: Adelie\\nisland: Dream\\nbill_length_mm: 40.3\\nbill_depth_mm: 18.5\\nflipper_length_mm: 196\\nbody_mass_g: 4350\\nsex: MALE', metadata={'source': '/content/gdrive/MyDrive/llm/langchain/some_data/penguins.csv', 'row': 97}), Document(page_content='species: Adelie\\nisland: Dream\\nbill_length_mm: 33.1\\nbill_depth_mm: 16.1\\nflipper_length_mm: 178\\nbody_mass_g: 2900\\nsex: FEMALE', metadata={'source': '/content/gdrive/MyDrive/llm/langchain/some_data/penguins.csv', 'row': 98}), Document(page_content='species: Adelie\\nisland: Dream\\nbill_length_mm: 43.2\\nbill_depth_mm: 18.5\\nflipper_length_mm: 192\\nbody_mass_g: 4100\\nsex: MALE', metadata={'source': '/content/gdrive/MyDrive/llm/langchain/some_data/penguins.csv', 'row': 99}), Document(page_content='species: Adelie\\nisland: Biscoe\\nbill_length_mm: 35\\nbill_depth_mm: 17.9\\nflipper_length_mm: 192\\nbody_mass_g: 3725\\nsex: FEMALE', metadata={'source': '/content/gdrive/MyDrive/llm/langchain/some_data/penguins.csv', 'row': 100}), Document(page_content='species: Adelie\\nisland: Biscoe\\nbill_length_mm: 41\\nbill_depth_mm: 20\\nflipper_length_mm: 203\\nbody_mass_g: 4725\\nsex: MALE', metadata={'source': '/content/gdrive/MyDrive/llm/langchain/some_data/penguins.csv', 'row': 101}), Document(page_content='species: Adelie\\nisland: Biscoe\\nbill_length_mm: 37.7\\nbill_depth_mm: 16\\nflipper_length_mm: 183\\nbody_mass_g: 3075\\nsex: FEMALE', metadata={'source': '/content/gdrive/MyDrive/llm/langchain/some_data/penguins.csv', 'row': 102}), Document(page_content='species: Adelie\\nisland: Biscoe\\nbill_length_mm: 37.8\\nbill_depth_mm: 20\\nflipper_length_mm: 190\\nbody_mass_g: 4250\\nsex: MALE', metadata={'source': '/content/gdrive/MyDrive/llm/langchain/some_data/penguins.csv', 'row': 103}), Document(page_content='species: Adelie\\nisland: Biscoe\\nbill_length_mm: 37.9\\nbill_depth_mm: 18.6\\nflipper_length_mm: 193\\nbody_mass_g: 2925\\nsex: FEMALE', metadata={'source': '/content/gdrive/MyDrive/llm/langchain/some_data/penguins.csv', 'row': 104}), Document(page_content='species: Adelie\\nisland: Biscoe\\nbill_length_mm: 39.7\\nbill_depth_mm: 18.9\\nflipper_length_mm: 184\\nbody_mass_g: 3550\\nsex: MALE', metadata={'source': '/content/gdrive/MyDrive/llm/langchain/some_data/penguins.csv', 'row': 105}), Document(page_content='species: Adelie\\nisland: Biscoe\\nbill_length_mm: 38.6\\nbill_depth_mm: 17.2\\nflipper_length_mm: 199\\nbody_mass_g: 3750\\nsex: FEMALE', metadata={'source': '/content/gdrive/MyDrive/llm/langchain/some_data/penguins.csv', 'row': 106}), Document(page_content='species: Adelie\\nisland: Biscoe\\nbill_length_mm: 38.2\\nbill_depth_mm: 20\\nflipper_length_mm: 190\\nbody_mass_g: 3900\\nsex: MALE', metadata={'source': '/content/gdrive/MyDrive/llm/langchain/some_data/penguins.csv', 'row': 107}), Document(page_content='species: Adelie\\nisland: Biscoe\\nbill_length_mm: 38.1\\nbill_depth_mm: 17\\nflipper_length_mm: 181\\nbody_mass_g: 3175\\nsex: FEMALE', metadata={'source': '/content/gdrive/MyDrive/llm/langchain/some_data/penguins.csv', 'row': 108}), Document(page_content='species: Adelie\\nisland: Biscoe\\nbill_length_mm: 43.2\\nbill_depth_mm: 19\\nflipper_length_mm: 197\\nbody_mass_g: 4775\\nsex: MALE', metadata={'source': '/content/gdrive/MyDrive/llm/langchain/some_data/penguins.csv', 'row': 109}), Document(page_content='species: Adelie\\nisland: Biscoe\\nbill_length_mm: 38.1\\nbill_depth_mm: 16.5\\nflipper_length_mm: 198\\nbody_mass_g: 3825\\nsex: FEMALE', metadata={'source': '/content/gdrive/MyDrive/llm/langchain/some_data/penguins.csv', 'row': 110}), Document(page_content='species: Adelie\\nisland: Biscoe\\nbill_length_mm: 45.6\\nbill_depth_mm: 20.3\\nflipper_length_mm: 191\\nbody_mass_g: 4600\\nsex: MALE', metadata={'source': '/content/gdrive/MyDrive/llm/langchain/some_data/penguins.csv', 'row': 111}), Document(page_content='species: Adelie\\nisland: Biscoe\\nbill_length_mm: 39.7\\nbill_depth_mm: 17.7\\nflipper_length_mm: 193\\nbody_mass_g: 3200\\nsex: FEMALE', metadata={'source': '/content/gdrive/MyDrive/llm/langchain/some_data/penguins.csv', 'row': 112}), Document(page_content='species: Adelie\\nisland: Biscoe\\nbill_length_mm: 42.2\\nbill_depth_mm: 19.5\\nflipper_length_mm: 197\\nbody_mass_g: 4275\\nsex: MALE', metadata={'source': '/content/gdrive/MyDrive/llm/langchain/some_data/penguins.csv', 'row': 113}), Document(page_content='species: Adelie\\nisland: Biscoe\\nbill_length_mm: 39.6\\nbill_depth_mm: 20.7\\nflipper_length_mm: 191\\nbody_mass_g: 3900\\nsex: FEMALE', metadata={'source': '/content/gdrive/MyDrive/llm/langchain/some_data/penguins.csv', 'row': 114}), Document(page_content='species: Adelie\\nisland: Biscoe\\nbill_length_mm: 42.7\\nbill_depth_mm: 18.3\\nflipper_length_mm: 196\\nbody_mass_g: 4075\\nsex: MALE', metadata={'source': '/content/gdrive/MyDrive/llm/langchain/some_data/penguins.csv', 'row': 115}), Document(page_content='species: Adelie\\nisland: Torgersen\\nbill_length_mm: 38.6\\nbill_depth_mm: 17\\nflipper_length_mm: 188\\nbody_mass_g: 2900\\nsex: FEMALE', metadata={'source': '/content/gdrive/MyDrive/llm/langchain/some_data/penguins.csv', 'row': 116}), Document(page_content='species: Adelie\\nisland: Torgersen\\nbill_length_mm: 37.3\\nbill_depth_mm: 20.5\\nflipper_length_mm: 199\\nbody_mass_g: 3775\\nsex: MALE', metadata={'source': '/content/gdrive/MyDrive/llm/langchain/some_data/penguins.csv', 'row': 117}), Document(page_content='species: Adelie\\nisland: Torgersen\\nbill_length_mm: 35.7\\nbill_depth_mm: 17\\nflipper_length_mm: 189\\nbody_mass_g: 3350\\nsex: FEMALE', metadata={'source': '/content/gdrive/MyDrive/llm/langchain/some_data/penguins.csv', 'row': 118}), Document(page_content='species: Adelie\\nisland: Torgersen\\nbill_length_mm: 41.1\\nbill_depth_mm: 18.6\\nflipper_length_mm: 189\\nbody_mass_g: 3325\\nsex: MALE', metadata={'source': '/content/gdrive/MyDrive/llm/langchain/some_data/penguins.csv', 'row': 119}), Document(page_content='species: Adelie\\nisland: Torgersen\\nbill_length_mm: 36.2\\nbill_depth_mm: 17.2\\nflipper_length_mm: 187\\nbody_mass_g: 3150\\nsex: FEMALE', metadata={'source': '/content/gdrive/MyDrive/llm/langchain/some_data/penguins.csv', 'row': 120}), Document(page_content='species: Adelie\\nisland: Torgersen\\nbill_length_mm: 37.7\\nbill_depth_mm: 19.8\\nflipper_length_mm: 198\\nbody_mass_g: 3500\\nsex: MALE', metadata={'source': '/content/gdrive/MyDrive/llm/langchain/some_data/penguins.csv', 'row': 121}), Document(page_content='species: Adelie\\nisland: Torgersen\\nbill_length_mm: 40.2\\nbill_depth_mm: 17\\nflipper_length_mm: 176\\nbody_mass_g: 3450\\nsex: FEMALE', metadata={'source': '/content/gdrive/MyDrive/llm/langchain/some_data/penguins.csv', 'row': 122}), Document(page_content='species: Adelie\\nisland: Torgersen\\nbill_length_mm: 41.4\\nbill_depth_mm: 18.5\\nflipper_length_mm: 202\\nbody_mass_g: 3875\\nsex: MALE', metadata={'source': '/content/gdrive/MyDrive/llm/langchain/some_data/penguins.csv', 'row': 123}), Document(page_content='species: Adelie\\nisland: Torgersen\\nbill_length_mm: 35.2\\nbill_depth_mm: 15.9\\nflipper_length_mm: 186\\nbody_mass_g: 3050\\nsex: FEMALE', metadata={'source': '/content/gdrive/MyDrive/llm/langchain/some_data/penguins.csv', 'row': 124}), Document(page_content='species: Adelie\\nisland: Torgersen\\nbill_length_mm: 40.6\\nbill_depth_mm: 19\\nflipper_length_mm: 199\\nbody_mass_g: 4000\\nsex: MALE', metadata={'source': '/content/gdrive/MyDrive/llm/langchain/some_data/penguins.csv', 'row': 125}), Document(page_content='species: Adelie\\nisland: Torgersen\\nbill_length_mm: 38.8\\nbill_depth_mm: 17.6\\nflipper_length_mm: 191\\nbody_mass_g: 3275\\nsex: FEMALE', metadata={'source': '/content/gdrive/MyDrive/llm/langchain/some_data/penguins.csv', 'row': 126}), Document(page_content='species: Adelie\\nisland: Torgersen\\nbill_length_mm: 41.5\\nbill_depth_mm: 18.3\\nflipper_length_mm: 195\\nbody_mass_g: 4300\\nsex: MALE', metadata={'source': '/content/gdrive/MyDrive/llm/langchain/some_data/penguins.csv', 'row': 127}), Document(page_content='species: Adelie\\nisland: Torgersen\\nbill_length_mm: 39\\nbill_depth_mm: 17.1\\nflipper_length_mm: 191\\nbody_mass_g: 3050\\nsex: FEMALE', metadata={'source': '/content/gdrive/MyDrive/llm/langchain/some_data/penguins.csv', 'row': 128}), Document(page_content='species: Adelie\\nisland: Torgersen\\nbill_length_mm: 44.1\\nbill_depth_mm: 18\\nflipper_length_mm: 210\\nbody_mass_g: 4000\\nsex: MALE', metadata={'source': '/content/gdrive/MyDrive/llm/langchain/some_data/penguins.csv', 'row': 129}), Document(page_content='species: Adelie\\nisland: Torgersen\\nbill_length_mm: 38.5\\nbill_depth_mm: 17.9\\nflipper_length_mm: 190\\nbody_mass_g: 3325\\nsex: FEMALE', metadata={'source': '/content/gdrive/MyDrive/llm/langchain/some_data/penguins.csv', 'row': 130}), Document(page_content='species: Adelie\\nisland: Torgersen\\nbill_length_mm: 43.1\\nbill_depth_mm: 19.2\\nflipper_length_mm: 197\\nbody_mass_g: 3500\\nsex: MALE', metadata={'source': '/content/gdrive/MyDrive/llm/langchain/some_data/penguins.csv', 'row': 131}), Document(page_content='species: Adelie\\nisland: Dream\\nbill_length_mm: 36.8\\nbill_depth_mm: 18.5\\nflipper_length_mm: 193\\nbody_mass_g: 3500\\nsex: FEMALE', metadata={'source': '/content/gdrive/MyDrive/llm/langchain/some_data/penguins.csv', 'row': 132}), Document(page_content='species: Adelie\\nisland: Dream\\nbill_length_mm: 37.5\\nbill_depth_mm: 18.5\\nflipper_length_mm: 199\\nbody_mass_g: 4475\\nsex: MALE', metadata={'source': '/content/gdrive/MyDrive/llm/langchain/some_data/penguins.csv', 'row': 133}), Document(page_content='species: Adelie\\nisland: Dream\\nbill_length_mm: 38.1\\nbill_depth_mm: 17.6\\nflipper_length_mm: 187\\nbody_mass_g: 3425\\nsex: FEMALE', metadata={'source': '/content/gdrive/MyDrive/llm/langchain/some_data/penguins.csv', 'row': 134}), Document(page_content='species: Adelie\\nisland: Dream\\nbill_length_mm: 41.1\\nbill_depth_mm: 17.5\\nflipper_length_mm: 190\\nbody_mass_g: 3900\\nsex: MALE', metadata={'source': '/content/gdrive/MyDrive/llm/langchain/some_data/penguins.csv', 'row': 135}), Document(page_content='species: Adelie\\nisland: Dream\\nbill_length_mm: 35.6\\nbill_depth_mm: 17.5\\nflipper_length_mm: 191\\nbody_mass_g: 3175\\nsex: FEMALE', metadata={'source': '/content/gdrive/MyDrive/llm/langchain/some_data/penguins.csv', 'row': 136}), Document(page_content='species: Adelie\\nisland: Dream\\nbill_length_mm: 40.2\\nbill_depth_mm: 20.1\\nflipper_length_mm: 200\\nbody_mass_g: 3975\\nsex: MALE', metadata={'source': '/content/gdrive/MyDrive/llm/langchain/some_data/penguins.csv', 'row': 137}), Document(page_content='species: Adelie\\nisland: Dream\\nbill_length_mm: 37\\nbill_depth_mm: 16.5\\nflipper_length_mm: 185\\nbody_mass_g: 3400\\nsex: FEMALE', metadata={'source': '/content/gdrive/MyDrive/llm/langchain/some_data/penguins.csv', 'row': 138}), Document(page_content='species: Adelie\\nisland: Dream\\nbill_length_mm: 39.7\\nbill_depth_mm: 17.9\\nflipper_length_mm: 193\\nbody_mass_g: 4250\\nsex: MALE', metadata={'source': '/content/gdrive/MyDrive/llm/langchain/some_data/penguins.csv', 'row': 139}), Document(page_content='species: Adelie\\nisland: Dream\\nbill_length_mm: 40.2\\nbill_depth_mm: 17.1\\nflipper_length_mm: 193\\nbody_mass_g: 3400\\nsex: FEMALE', metadata={'source': '/content/gdrive/MyDrive/llm/langchain/some_data/penguins.csv', 'row': 140}), Document(page_content='species: Adelie\\nisland: Dream\\nbill_length_mm: 40.6\\nbill_depth_mm: 17.2\\nflipper_length_mm: 187\\nbody_mass_g: 3475\\nsex: MALE', metadata={'source': '/content/gdrive/MyDrive/llm/langchain/some_data/penguins.csv', 'row': 141}), Document(page_content='species: Adelie\\nisland: Dream\\nbill_length_mm: 32.1\\nbill_depth_mm: 15.5\\nflipper_length_mm: 188\\nbody_mass_g: 3050\\nsex: FEMALE', metadata={'source': '/content/gdrive/MyDrive/llm/langchain/some_data/penguins.csv', 'row': 142}), Document(page_content='species: Adelie\\nisland: Dream\\nbill_length_mm: 40.7\\nbill_depth_mm: 17\\nflipper_length_mm: 190\\nbody_mass_g: 3725\\nsex: MALE', metadata={'source': '/content/gdrive/MyDrive/llm/langchain/some_data/penguins.csv', 'row': 143}), Document(page_content='species: Adelie\\nisland: Dream\\nbill_length_mm: 37.3\\nbill_depth_mm: 16.8\\nflipper_length_mm: 192\\nbody_mass_g: 3000\\nsex: FEMALE', metadata={'source': '/content/gdrive/MyDrive/llm/langchain/some_data/penguins.csv', 'row': 144}), Document(page_content='species: Adelie\\nisland: Dream\\nbill_length_mm: 39\\nbill_depth_mm: 18.7\\nflipper_length_mm: 185\\nbody_mass_g: 3650\\nsex: MALE', metadata={'source': '/content/gdrive/MyDrive/llm/langchain/some_data/penguins.csv', 'row': 145}), Document(page_content='species: Adelie\\nisland: Dream\\nbill_length_mm: 39.2\\nbill_depth_mm: 18.6\\nflipper_length_mm: 190\\nbody_mass_g: 4250\\nsex: MALE', metadata={'source': '/content/gdrive/MyDrive/llm/langchain/some_data/penguins.csv', 'row': 146}), Document(page_content='species: Adelie\\nisland: Dream\\nbill_length_mm: 36.6\\nbill_depth_mm: 18.4\\nflipper_length_mm: 184\\nbody_mass_g: 3475\\nsex: FEMALE', metadata={'source': '/content/gdrive/MyDrive/llm/langchain/some_data/penguins.csv', 'row': 147}), Document(page_content='species: Adelie\\nisland: Dream\\nbill_length_mm: 36\\nbill_depth_mm: 17.8\\nflipper_length_mm: 195\\nbody_mass_g: 3450\\nsex: FEMALE', metadata={'source': '/content/gdrive/MyDrive/llm/langchain/some_data/penguins.csv', 'row': 148}), Document(page_content='species: Adelie\\nisland: Dream\\nbill_length_mm: 37.8\\nbill_depth_mm: 18.1\\nflipper_length_mm: 193\\nbody_mass_g: 3750\\nsex: MALE', metadata={'source': '/content/gdrive/MyDrive/llm/langchain/some_data/penguins.csv', 'row': 149}), Document(page_content='species: Adelie\\nisland: Dream\\nbill_length_mm: 36\\nbill_depth_mm: 17.1\\nflipper_length_mm: 187\\nbody_mass_g: 3700\\nsex: FEMALE', metadata={'source': '/content/gdrive/MyDrive/llm/langchain/some_data/penguins.csv', 'row': 150}), Document(page_content='species: Adelie\\nisland: Dream\\nbill_length_mm: 41.5\\nbill_depth_mm: 18.5\\nflipper_length_mm: 201\\nbody_mass_g: 4000\\nsex: MALE', metadata={'source': '/content/gdrive/MyDrive/llm/langchain/some_data/penguins.csv', 'row': 151}), Document(page_content='species: Chinstrap\\nisland: Dream\\nbill_length_mm: 46.5\\nbill_depth_mm: 17.9\\nflipper_length_mm: 192\\nbody_mass_g: 3500\\nsex: FEMALE', metadata={'source': '/content/gdrive/MyDrive/llm/langchain/some_data/penguins.csv', 'row': 152}), Document(page_content='species: Chinstrap\\nisland: Dream\\nbill_length_mm: 50\\nbill_depth_mm: 19.5\\nflipper_length_mm: 196\\nbody_mass_g: 3900\\nsex: MALE', metadata={'source': '/content/gdrive/MyDrive/llm/langchain/some_data/penguins.csv', 'row': 153}), Document(page_content='species: Chinstrap\\nisland: Dream\\nbill_length_mm: 51.3\\nbill_depth_mm: 19.2\\nflipper_length_mm: 193\\nbody_mass_g: 3650\\nsex: MALE', metadata={'source': '/content/gdrive/MyDrive/llm/langchain/some_data/penguins.csv', 'row': 154}), Document(page_content='species: Chinstrap\\nisland: Dream\\nbill_length_mm: 45.4\\nbill_depth_mm: 18.7\\nflipper_length_mm: 188\\nbody_mass_g: 3525\\nsex: FEMALE', metadata={'source': '/content/gdrive/MyDrive/llm/langchain/some_data/penguins.csv', 'row': 155}), Document(page_content='species: Chinstrap\\nisland: Dream\\nbill_length_mm: 52.7\\nbill_depth_mm: 19.8\\nflipper_length_mm: 197\\nbody_mass_g: 3725\\nsex: MALE', metadata={'source': '/content/gdrive/MyDrive/llm/langchain/some_data/penguins.csv', 'row': 156}), Document(page_content='species: Chinstrap\\nisland: Dream\\nbill_length_mm: 45.2\\nbill_depth_mm: 17.8\\nflipper_length_mm: 198\\nbody_mass_g: 3950\\nsex: FEMALE', metadata={'source': '/content/gdrive/MyDrive/llm/langchain/some_data/penguins.csv', 'row': 157}), Document(page_content='species: Chinstrap\\nisland: Dream\\nbill_length_mm: 46.1\\nbill_depth_mm: 18.2\\nflipper_length_mm: 178\\nbody_mass_g: 3250\\nsex: FEMALE', metadata={'source': '/content/gdrive/MyDrive/llm/langchain/some_data/penguins.csv', 'row': 158}), Document(page_content='species: Chinstrap\\nisland: Dream\\nbill_length_mm: 51.3\\nbill_depth_mm: 18.2\\nflipper_length_mm: 197\\nbody_mass_g: 3750\\nsex: MALE', metadata={'source': '/content/gdrive/MyDrive/llm/langchain/some_data/penguins.csv', 'row': 159}), Document(page_content='species: Chinstrap\\nisland: Dream\\nbill_length_mm: 46\\nbill_depth_mm: 18.9\\nflipper_length_mm: 195\\nbody_mass_g: 4150\\nsex: FEMALE', metadata={'source': '/content/gdrive/MyDrive/llm/langchain/some_data/penguins.csv', 'row': 160}), Document(page_content='species: Chinstrap\\nisland: Dream\\nbill_length_mm: 51.3\\nbill_depth_mm: 19.9\\nflipper_length_mm: 198\\nbody_mass_g: 3700\\nsex: MALE', metadata={'source': '/content/gdrive/MyDrive/llm/langchain/some_data/penguins.csv', 'row': 161}), Document(page_content='species: Chinstrap\\nisland: Dream\\nbill_length_mm: 46.6\\nbill_depth_mm: 17.8\\nflipper_length_mm: 193\\nbody_mass_g: 3800\\nsex: FEMALE', metadata={'source': '/content/gdrive/MyDrive/llm/langchain/some_data/penguins.csv', 'row': 162}), Document(page_content='species: Chinstrap\\nisland: Dream\\nbill_length_mm: 51.7\\nbill_depth_mm: 20.3\\nflipper_length_mm: 194\\nbody_mass_g: 3775\\nsex: MALE', metadata={'source': '/content/gdrive/MyDrive/llm/langchain/some_data/penguins.csv', 'row': 163}), Document(page_content='species: Chinstrap\\nisland: Dream\\nbill_length_mm: 47\\nbill_depth_mm: 17.3\\nflipper_length_mm: 185\\nbody_mass_g: 3700\\nsex: FEMALE', metadata={'source': '/content/gdrive/MyDrive/llm/langchain/some_data/penguins.csv', 'row': 164}), Document(page_content='species: Chinstrap\\nisland: Dream\\nbill_length_mm: 52\\nbill_depth_mm: 18.1\\nflipper_length_mm: 201\\nbody_mass_g: 4050\\nsex: MALE', metadata={'source': '/content/gdrive/MyDrive/llm/langchain/some_data/penguins.csv', 'row': 165}), Document(page_content='species: Chinstrap\\nisland: Dream\\nbill_length_mm: 45.9\\nbill_depth_mm: 17.1\\nflipper_length_mm: 190\\nbody_mass_g: 3575\\nsex: FEMALE', metadata={'source': '/content/gdrive/MyDrive/llm/langchain/some_data/penguins.csv', 'row': 166}), Document(page_content='species: Chinstrap\\nisland: Dream\\nbill_length_mm: 50.5\\nbill_depth_mm: 19.6\\nflipper_length_mm: 201\\nbody_mass_g: 4050\\nsex: MALE', metadata={'source': '/content/gdrive/MyDrive/llm/langchain/some_data/penguins.csv', 'row': 167}), Document(page_content='species: Chinstrap\\nisland: Dream\\nbill_length_mm: 50.3\\nbill_depth_mm: 20\\nflipper_length_mm: 197\\nbody_mass_g: 3300\\nsex: MALE', metadata={'source': '/content/gdrive/MyDrive/llm/langchain/some_data/penguins.csv', 'row': 168}), Document(page_content='species: Chinstrap\\nisland: Dream\\nbill_length_mm: 58\\nbill_depth_mm: 17.8\\nflipper_length_mm: 181\\nbody_mass_g: 3700\\nsex: FEMALE', metadata={'source': '/content/gdrive/MyDrive/llm/langchain/some_data/penguins.csv', 'row': 169}), Document(page_content='species: Chinstrap\\nisland: Dream\\nbill_length_mm: 46.4\\nbill_depth_mm: 18.6\\nflipper_length_mm: 190\\nbody_mass_g: 3450\\nsex: FEMALE', metadata={'source': '/content/gdrive/MyDrive/llm/langchain/some_data/penguins.csv', 'row': 170}), Document(page_content='species: Chinstrap\\nisland: Dream\\nbill_length_mm: 49.2\\nbill_depth_mm: 18.2\\nflipper_length_mm: 195\\nbody_mass_g: 4400\\nsex: MALE', metadata={'source': '/content/gdrive/MyDrive/llm/langchain/some_data/penguins.csv', 'row': 171}), Document(page_content='species: Chinstrap\\nisland: Dream\\nbill_length_mm: 42.4\\nbill_depth_mm: 17.3\\nflipper_length_mm: 181\\nbody_mass_g: 3600\\nsex: FEMALE', metadata={'source': '/content/gdrive/MyDrive/llm/langchain/some_data/penguins.csv', 'row': 172}), Document(page_content='species: Chinstrap\\nisland: Dream\\nbill_length_mm: 48.5\\nbill_depth_mm: 17.5\\nflipper_length_mm: 191\\nbody_mass_g: 3400\\nsex: MALE', metadata={'source': '/content/gdrive/MyDrive/llm/langchain/some_data/penguins.csv', 'row': 173}), Document(page_content='species: Chinstrap\\nisland: Dream\\nbill_length_mm: 43.2\\nbill_depth_mm: 16.6\\nflipper_length_mm: 187\\nbody_mass_g: 2900\\nsex: FEMALE', metadata={'source': '/content/gdrive/MyDrive/llm/langchain/some_data/penguins.csv', 'row': 174}), Document(page_content='species: Chinstrap\\nisland: Dream\\nbill_length_mm: 50.6\\nbill_depth_mm: 19.4\\nflipper_length_mm: 193\\nbody_mass_g: 3800\\nsex: MALE', metadata={'source': '/content/gdrive/MyDrive/llm/langchain/some_data/penguins.csv', 'row': 175}), Document(page_content='species: Chinstrap\\nisland: Dream\\nbill_length_mm: 46.7\\nbill_depth_mm: 17.9\\nflipper_length_mm: 195\\nbody_mass_g: 3300\\nsex: FEMALE', metadata={'source': '/content/gdrive/MyDrive/llm/langchain/some_data/penguins.csv', 'row': 176}), Document(page_content='species: Chinstrap\\nisland: Dream\\nbill_length_mm: 52\\nbill_depth_mm: 19\\nflipper_length_mm: 197\\nbody_mass_g: 4150\\nsex: MALE', metadata={'source': '/content/gdrive/MyDrive/llm/langchain/some_data/penguins.csv', 'row': 177}), Document(page_content='species: Chinstrap\\nisland: Dream\\nbill_length_mm: 50.5\\nbill_depth_mm: 18.4\\nflipper_length_mm: 200\\nbody_mass_g: 3400\\nsex: FEMALE', metadata={'source': '/content/gdrive/MyDrive/llm/langchain/some_data/penguins.csv', 'row': 178}), Document(page_content='species: Chinstrap\\nisland: Dream\\nbill_length_mm: 49.5\\nbill_depth_mm: 19\\nflipper_length_mm: 200\\nbody_mass_g: 3800\\nsex: MALE', metadata={'source': '/content/gdrive/MyDrive/llm/langchain/some_data/penguins.csv', 'row': 179}), Document(page_content='species: Chinstrap\\nisland: Dream\\nbill_length_mm: 46.4\\nbill_depth_mm: 17.8\\nflipper_length_mm: 191\\nbody_mass_g: 3700\\nsex: FEMALE', metadata={'source': '/content/gdrive/MyDrive/llm/langchain/some_data/penguins.csv', 'row': 180}), Document(page_content='species: Chinstrap\\nisland: Dream\\nbill_length_mm: 52.8\\nbill_depth_mm: 20\\nflipper_length_mm: 205\\nbody_mass_g: 4550\\nsex: MALE', metadata={'source': '/content/gdrive/MyDrive/llm/langchain/some_data/penguins.csv', 'row': 181}), Document(page_content='species: Chinstrap\\nisland: Dream\\nbill_length_mm: 40.9\\nbill_depth_mm: 16.6\\nflipper_length_mm: 187\\nbody_mass_g: 3200\\nsex: FEMALE', metadata={'source': '/content/gdrive/MyDrive/llm/langchain/some_data/penguins.csv', 'row': 182}), Document(page_content='species: Chinstrap\\nisland: Dream\\nbill_length_mm: 54.2\\nbill_depth_mm: 20.8\\nflipper_length_mm: 201\\nbody_mass_g: 4300\\nsex: MALE', metadata={'source': '/content/gdrive/MyDrive/llm/langchain/some_data/penguins.csv', 'row': 183}), Document(page_content='species: Chinstrap\\nisland: Dream\\nbill_length_mm: 42.5\\nbill_depth_mm: 16.7\\nflipper_length_mm: 187\\nbody_mass_g: 3350\\nsex: FEMALE', metadata={'source': '/content/gdrive/MyDrive/llm/langchain/some_data/penguins.csv', 'row': 184}), Document(page_content='species: Chinstrap\\nisland: Dream\\nbill_length_mm: 51\\nbill_depth_mm: 18.8\\nflipper_length_mm: 203\\nbody_mass_g: 4100\\nsex: MALE', metadata={'source': '/content/gdrive/MyDrive/llm/langchain/some_data/penguins.csv', 'row': 185}), Document(page_content='species: Chinstrap\\nisland: Dream\\nbill_length_mm: 49.7\\nbill_depth_mm: 18.6\\nflipper_length_mm: 195\\nbody_mass_g: 3600\\nsex: MALE', metadata={'source': '/content/gdrive/MyDrive/llm/langchain/some_data/penguins.csv', 'row': 186}), Document(page_content='species: Chinstrap\\nisland: Dream\\nbill_length_mm: 47.5\\nbill_depth_mm: 16.8\\nflipper_length_mm: 199\\nbody_mass_g: 3900\\nsex: FEMALE', metadata={'source': '/content/gdrive/MyDrive/llm/langchain/some_data/penguins.csv', 'row': 187}), Document(page_content='species: Chinstrap\\nisland: Dream\\nbill_length_mm: 47.6\\nbill_depth_mm: 18.3\\nflipper_length_mm: 195\\nbody_mass_g: 3850\\nsex: FEMALE', metadata={'source': '/content/gdrive/MyDrive/llm/langchain/some_data/penguins.csv', 'row': 188}), Document(page_content='species: Chinstrap\\nisland: Dream\\nbill_length_mm: 52\\nbill_depth_mm: 20.7\\nflipper_length_mm: 210\\nbody_mass_g: 4800\\nsex: MALE', metadata={'source': '/content/gdrive/MyDrive/llm/langchain/some_data/penguins.csv', 'row': 189}), Document(page_content='species: Chinstrap\\nisland: Dream\\nbill_length_mm: 46.9\\nbill_depth_mm: 16.6\\nflipper_length_mm: 192\\nbody_mass_g: 2700\\nsex: FEMALE', metadata={'source': '/content/gdrive/MyDrive/llm/langchain/some_data/penguins.csv', 'row': 190}), Document(page_content='species: Chinstrap\\nisland: Dream\\nbill_length_mm: 53.5\\nbill_depth_mm: 19.9\\nflipper_length_mm: 205\\nbody_mass_g: 4500\\nsex: MALE', metadata={'source': '/content/gdrive/MyDrive/llm/langchain/some_data/penguins.csv', 'row': 191}), Document(page_content='species: Chinstrap\\nisland: Dream\\nbill_length_mm: 49\\nbill_depth_mm: 19.5\\nflipper_length_mm: 210\\nbody_mass_g: 3950\\nsex: MALE', metadata={'source': '/content/gdrive/MyDrive/llm/langchain/some_data/penguins.csv', 'row': 192}), Document(page_content='species: Chinstrap\\nisland: Dream\\nbill_length_mm: 46.2\\nbill_depth_mm: 17.5\\nflipper_length_mm: 187\\nbody_mass_g: 3650\\nsex: FEMALE', metadata={'source': '/content/gdrive/MyDrive/llm/langchain/some_data/penguins.csv', 'row': 193}), Document(page_content='species: Chinstrap\\nisland: Dream\\nbill_length_mm: 50.9\\nbill_depth_mm: 19.1\\nflipper_length_mm: 196\\nbody_mass_g: 3550\\nsex: MALE', metadata={'source': '/content/gdrive/MyDrive/llm/langchain/some_data/penguins.csv', 'row': 194}), Document(page_content='species: Chinstrap\\nisland: Dream\\nbill_length_mm: 45.5\\nbill_depth_mm: 17\\nflipper_length_mm: 196\\nbody_mass_g: 3500\\nsex: FEMALE', metadata={'source': '/content/gdrive/MyDrive/llm/langchain/some_data/penguins.csv', 'row': 195}), Document(page_content='species: Chinstrap\\nisland: Dream\\nbill_length_mm: 50.9\\nbill_depth_mm: 17.9\\nflipper_length_mm: 196\\nbody_mass_g: 3675\\nsex: FEMALE', metadata={'source': '/content/gdrive/MyDrive/llm/langchain/some_data/penguins.csv', 'row': 196}), Document(page_content='species: Chinstrap\\nisland: Dream\\nbill_length_mm: 50.8\\nbill_depth_mm: 18.5\\nflipper_length_mm: 201\\nbody_mass_g: 4450\\nsex: MALE', metadata={'source': '/content/gdrive/MyDrive/llm/langchain/some_data/penguins.csv', 'row': 197}), Document(page_content='species: Chinstrap\\nisland: Dream\\nbill_length_mm: 50.1\\nbill_depth_mm: 17.9\\nflipper_length_mm: 190\\nbody_mass_g: 3400\\nsex: FEMALE', metadata={'source': '/content/gdrive/MyDrive/llm/langchain/some_data/penguins.csv', 'row': 198}), Document(page_content='species: Chinstrap\\nisland: Dream\\nbill_length_mm: 49\\nbill_depth_mm: 19.6\\nflipper_length_mm: 212\\nbody_mass_g: 4300\\nsex: MALE', metadata={'source': '/content/gdrive/MyDrive/llm/langchain/some_data/penguins.csv', 'row': 199}), Document(page_content='species: Chinstrap\\nisland: Dream\\nbill_length_mm: 51.5\\nbill_depth_mm: 18.7\\nflipper_length_mm: 187\\nbody_mass_g: 3250\\nsex: MALE', metadata={'source': '/content/gdrive/MyDrive/llm/langchain/some_data/penguins.csv', 'row': 200}), Document(page_content='species: Chinstrap\\nisland: Dream\\nbill_length_mm: 49.8\\nbill_depth_mm: 17.3\\nflipper_length_mm: 198\\nbody_mass_g: 3675\\nsex: FEMALE', metadata={'source': '/content/gdrive/MyDrive/llm/langchain/some_data/penguins.csv', 'row': 201}), Document(page_content='species: Chinstrap\\nisland: Dream\\nbill_length_mm: 48.1\\nbill_depth_mm: 16.4\\nflipper_length_mm: 199\\nbody_mass_g: 3325\\nsex: FEMALE', metadata={'source': '/content/gdrive/MyDrive/llm/langchain/some_data/penguins.csv', 'row': 202}), Document(page_content='species: Chinstrap\\nisland: Dream\\nbill_length_mm: 51.4\\nbill_depth_mm: 19\\nflipper_length_mm: 201\\nbody_mass_g: 3950\\nsex: MALE', metadata={'source': '/content/gdrive/MyDrive/llm/langchain/some_data/penguins.csv', 'row': 203}), Document(page_content='species: Chinstrap\\nisland: Dream\\nbill_length_mm: 45.7\\nbill_depth_mm: 17.3\\nflipper_length_mm: 193\\nbody_mass_g: 3600\\nsex: FEMALE', metadata={'source': '/content/gdrive/MyDrive/llm/langchain/some_data/penguins.csv', 'row': 204}), Document(page_content='species: Chinstrap\\nisland: Dream\\nbill_length_mm: 50.7\\nbill_depth_mm: 19.7\\nflipper_length_mm: 203\\nbody_mass_g: 4050\\nsex: MALE', metadata={'source': '/content/gdrive/MyDrive/llm/langchain/some_data/penguins.csv', 'row': 205}), Document(page_content='species: Chinstrap\\nisland: Dream\\nbill_length_mm: 42.5\\nbill_depth_mm: 17.3\\nflipper_length_mm: 187\\nbody_mass_g: 3350\\nsex: FEMALE', metadata={'source': '/content/gdrive/MyDrive/llm/langchain/some_data/penguins.csv', 'row': 206}), Document(page_content='species: Chinstrap\\nisland: Dream\\nbill_length_mm: 52.2\\nbill_depth_mm: 18.8\\nflipper_length_mm: 197\\nbody_mass_g: 3450\\nsex: MALE', metadata={'source': '/content/gdrive/MyDrive/llm/langchain/some_data/penguins.csv', 'row': 207}), Document(page_content='species: Chinstrap\\nisland: Dream\\nbill_length_mm: 45.2\\nbill_depth_mm: 16.6\\nflipper_length_mm: 191\\nbody_mass_g: 3250\\nsex: FEMALE', metadata={'source': '/content/gdrive/MyDrive/llm/langchain/some_data/penguins.csv', 'row': 208}), Document(page_content='species: Chinstrap\\nisland: Dream\\nbill_length_mm: 49.3\\nbill_depth_mm: 19.9\\nflipper_length_mm: 203\\nbody_mass_g: 4050\\nsex: MALE', metadata={'source': '/content/gdrive/MyDrive/llm/langchain/some_data/penguins.csv', 'row': 209}), Document(page_content='species: Chinstrap\\nisland: Dream\\nbill_length_mm: 50.2\\nbill_depth_mm: 18.8\\nflipper_length_mm: 202\\nbody_mass_g: 3800\\nsex: MALE', metadata={'source': '/content/gdrive/MyDrive/llm/langchain/some_data/penguins.csv', 'row': 210}), Document(page_content='species: Chinstrap\\nisland: Dream\\nbill_length_mm: 45.6\\nbill_depth_mm: 19.4\\nflipper_length_mm: 194\\nbody_mass_g: 3525\\nsex: FEMALE', metadata={'source': '/content/gdrive/MyDrive/llm/langchain/some_data/penguins.csv', 'row': 211}), Document(page_content='species: Chinstrap\\nisland: Dream\\nbill_length_mm: 51.9\\nbill_depth_mm: 19.5\\nflipper_length_mm: 206\\nbody_mass_g: 3950\\nsex: MALE', metadata={'source': '/content/gdrive/MyDrive/llm/langchain/some_data/penguins.csv', 'row': 212}), Document(page_content='species: Chinstrap\\nisland: Dream\\nbill_length_mm: 46.8\\nbill_depth_mm: 16.5\\nflipper_length_mm: 189\\nbody_mass_g: 3650\\nsex: FEMALE', metadata={'source': '/content/gdrive/MyDrive/llm/langchain/some_data/penguins.csv', 'row': 213}), Document(page_content='species: Chinstrap\\nisland: Dream\\nbill_length_mm: 45.7\\nbill_depth_mm: 17\\nflipper_length_mm: 195\\nbody_mass_g: 3650\\nsex: FEMALE', metadata={'source': '/content/gdrive/MyDrive/llm/langchain/some_data/penguins.csv', 'row': 214}), Document(page_content='species: Chinstrap\\nisland: Dream\\nbill_length_mm: 55.8\\nbill_depth_mm: 19.8\\nflipper_length_mm: 207\\nbody_mass_g: 4000\\nsex: MALE', metadata={'source': '/content/gdrive/MyDrive/llm/langchain/some_data/penguins.csv', 'row': 215}), Document(page_content='species: Chinstrap\\nisland: Dream\\nbill_length_mm: 43.5\\nbill_depth_mm: 18.1\\nflipper_length_mm: 202\\nbody_mass_g: 3400\\nsex: FEMALE', metadata={'source': '/content/gdrive/MyDrive/llm/langchain/some_data/penguins.csv', 'row': 216}), Document(page_content='species: Chinstrap\\nisland: Dream\\nbill_length_mm: 49.6\\nbill_depth_mm: 18.2\\nflipper_length_mm: 193\\nbody_mass_g: 3775\\nsex: MALE', metadata={'source': '/content/gdrive/MyDrive/llm/langchain/some_data/penguins.csv', 'row': 217}), Document(page_content='species: Chinstrap\\nisland: Dream\\nbill_length_mm: 50.8\\nbill_depth_mm: 19\\nflipper_length_mm: 210\\nbody_mass_g: 4100\\nsex: MALE', metadata={'source': '/content/gdrive/MyDrive/llm/langchain/some_data/penguins.csv', 'row': 218}), Document(page_content='species: Chinstrap\\nisland: Dream\\nbill_length_mm: 50.2\\nbill_depth_mm: 18.7\\nflipper_length_mm: 198\\nbody_mass_g: 3775\\nsex: FEMALE', metadata={'source': '/content/gdrive/MyDrive/llm/langchain/some_data/penguins.csv', 'row': 219}), Document(page_content='species: Gentoo\\nisland: Biscoe\\nbill_length_mm: 46.1\\nbill_depth_mm: 13.2\\nflipper_length_mm: 211\\nbody_mass_g: 4500\\nsex: FEMALE', metadata={'source': '/content/gdrive/MyDrive/llm/langchain/some_data/penguins.csv', 'row': 220}), Document(page_content='species: Gentoo\\nisland: Biscoe\\nbill_length_mm: 50\\nbill_depth_mm: 16.3\\nflipper_length_mm: 230\\nbody_mass_g: 5700\\nsex: MALE', metadata={'source': '/content/gdrive/MyDrive/llm/langchain/some_data/penguins.csv', 'row': 221}), Document(page_content='species: Gentoo\\nisland: Biscoe\\nbill_length_mm: 48.7\\nbill_depth_mm: 14.1\\nflipper_length_mm: 210\\nbody_mass_g: 4450\\nsex: FEMALE', metadata={'source': '/content/gdrive/MyDrive/llm/langchain/some_data/penguins.csv', 'row': 222}), Document(page_content='species: Gentoo\\nisland: Biscoe\\nbill_length_mm: 50\\nbill_depth_mm: 15.2\\nflipper_length_mm: 218\\nbody_mass_g: 5700\\nsex: MALE', metadata={'source': '/content/gdrive/MyDrive/llm/langchain/some_data/penguins.csv', 'row': 223}), Document(page_content='species: Gentoo\\nisland: Biscoe\\nbill_length_mm: 47.6\\nbill_depth_mm: 14.5\\nflipper_length_mm: 215\\nbody_mass_g: 5400\\nsex: MALE', metadata={'source': '/content/gdrive/MyDrive/llm/langchain/some_data/penguins.csv', 'row': 224}), Document(page_content='species: Gentoo\\nisland: Biscoe\\nbill_length_mm: 46.5\\nbill_depth_mm: 13.5\\nflipper_length_mm: 210\\nbody_mass_g: 4550\\nsex: FEMALE', metadata={'source': '/content/gdrive/MyDrive/llm/langchain/some_data/penguins.csv', 'row': 225}), Document(page_content='species: Gentoo\\nisland: Biscoe\\nbill_length_mm: 45.4\\nbill_depth_mm: 14.6\\nflipper_length_mm: 211\\nbody_mass_g: 4800\\nsex: FEMALE', metadata={'source': '/content/gdrive/MyDrive/llm/langchain/some_data/penguins.csv', 'row': 226}), Document(page_content='species: Gentoo\\nisland: Biscoe\\nbill_length_mm: 46.7\\nbill_depth_mm: 15.3\\nflipper_length_mm: 219\\nbody_mass_g: 5200\\nsex: MALE', metadata={'source': '/content/gdrive/MyDrive/llm/langchain/some_data/penguins.csv', 'row': 227}), Document(page_content='species: Gentoo\\nisland: Biscoe\\nbill_length_mm: 43.3\\nbill_depth_mm: 13.4\\nflipper_length_mm: 209\\nbody_mass_g: 4400\\nsex: FEMALE', metadata={'source': '/content/gdrive/MyDrive/llm/langchain/some_data/penguins.csv', 'row': 228}), Document(page_content='species: Gentoo\\nisland: Biscoe\\nbill_length_mm: 46.8\\nbill_depth_mm: 15.4\\nflipper_length_mm: 215\\nbody_mass_g: 5150\\nsex: MALE', metadata={'source': '/content/gdrive/MyDrive/llm/langchain/some_data/penguins.csv', 'row': 229}), Document(page_content='species: Gentoo\\nisland: Biscoe\\nbill_length_mm: 40.9\\nbill_depth_mm: 13.7\\nflipper_length_mm: 214\\nbody_mass_g: 4650\\nsex: FEMALE', metadata={'source': '/content/gdrive/MyDrive/llm/langchain/some_data/penguins.csv', 'row': 230}), Document(page_content='species: Gentoo\\nisland: Biscoe\\nbill_length_mm: 49\\nbill_depth_mm: 16.1\\nflipper_length_mm: 216\\nbody_mass_g: 5550\\nsex: MALE', metadata={'source': '/content/gdrive/MyDrive/llm/langchain/some_data/penguins.csv', 'row': 231}), Document(page_content='species: Gentoo\\nisland: Biscoe\\nbill_length_mm: 45.5\\nbill_depth_mm: 13.7\\nflipper_length_mm: 214\\nbody_mass_g: 4650\\nsex: FEMALE', metadata={'source': '/content/gdrive/MyDrive/llm/langchain/some_data/penguins.csv', 'row': 232}), Document(page_content='species: Gentoo\\nisland: Biscoe\\nbill_length_mm: 48.4\\nbill_depth_mm: 14.6\\nflipper_length_mm: 213\\nbody_mass_g: 5850\\nsex: MALE', metadata={'source': '/content/gdrive/MyDrive/llm/langchain/some_data/penguins.csv', 'row': 233}), Document(page_content='species: Gentoo\\nisland: Biscoe\\nbill_length_mm: 45.8\\nbill_depth_mm: 14.6\\nflipper_length_mm: 210\\nbody_mass_g: 4200\\nsex: FEMALE', metadata={'source': '/content/gdrive/MyDrive/llm/langchain/some_data/penguins.csv', 'row': 234}), Document(page_content='species: Gentoo\\nisland: Biscoe\\nbill_length_mm: 49.3\\nbill_depth_mm: 15.7\\nflipper_length_mm: 217\\nbody_mass_g: 5850\\nsex: MALE', metadata={'source': '/content/gdrive/MyDrive/llm/langchain/some_data/penguins.csv', 'row': 235}), Document(page_content='species: Gentoo\\nisland: Biscoe\\nbill_length_mm: 42\\nbill_depth_mm: 13.5\\nflipper_length_mm: 210\\nbody_mass_g: 4150\\nsex: FEMALE', metadata={'source': '/content/gdrive/MyDrive/llm/langchain/some_data/penguins.csv', 'row': 236}), Document(page_content='species: Gentoo\\nisland: Biscoe\\nbill_length_mm: 49.2\\nbill_depth_mm: 15.2\\nflipper_length_mm: 221\\nbody_mass_g: 6300\\nsex: MALE', metadata={'source': '/content/gdrive/MyDrive/llm/langchain/some_data/penguins.csv', 'row': 237}), Document(page_content='species: Gentoo\\nisland: Biscoe\\nbill_length_mm: 46.2\\nbill_depth_mm: 14.5\\nflipper_length_mm: 209\\nbody_mass_g: 4800\\nsex: FEMALE', metadata={'source': '/content/gdrive/MyDrive/llm/langchain/some_data/penguins.csv', 'row': 238}), Document(page_content='species: Gentoo\\nisland: Biscoe\\nbill_length_mm: 48.7\\nbill_depth_mm: 15.1\\nflipper_length_mm: 222\\nbody_mass_g: 5350\\nsex: MALE', metadata={'source': '/content/gdrive/MyDrive/llm/langchain/some_data/penguins.csv', 'row': 239}), Document(page_content='species: Gentoo\\nisland: Biscoe\\nbill_length_mm: 50.2\\nbill_depth_mm: 14.3\\nflipper_length_mm: 218\\nbody_mass_g: 5700\\nsex: MALE', metadata={'source': '/content/gdrive/MyDrive/llm/langchain/some_data/penguins.csv', 'row': 240}), Document(page_content='species: Gentoo\\nisland: Biscoe\\nbill_length_mm: 45.1\\nbill_depth_mm: 14.5\\nflipper_length_mm: 215\\nbody_mass_g: 5000\\nsex: FEMALE', metadata={'source': '/content/gdrive/MyDrive/llm/langchain/some_data/penguins.csv', 'row': 241}), Document(page_content='species: Gentoo\\nisland: Biscoe\\nbill_length_mm: 46.5\\nbill_depth_mm: 14.5\\nflipper_length_mm: 213\\nbody_mass_g: 4400\\nsex: FEMALE', metadata={'source': '/content/gdrive/MyDrive/llm/langchain/some_data/penguins.csv', 'row': 242}), Document(page_content='species: Gentoo\\nisland: Biscoe\\nbill_length_mm: 46.3\\nbill_depth_mm: 15.8\\nflipper_length_mm: 215\\nbody_mass_g: 5050\\nsex: MALE', metadata={'source': '/content/gdrive/MyDrive/llm/langchain/some_data/penguins.csv', 'row': 243}), Document(page_content='species: Gentoo\\nisland: Biscoe\\nbill_length_mm: 42.9\\nbill_depth_mm: 13.1\\nflipper_length_mm: 215\\nbody_mass_g: 5000\\nsex: FEMALE', metadata={'source': '/content/gdrive/MyDrive/llm/langchain/some_data/penguins.csv', 'row': 244}), Document(page_content='species: Gentoo\\nisland: Biscoe\\nbill_length_mm: 46.1\\nbill_depth_mm: 15.1\\nflipper_length_mm: 215\\nbody_mass_g: 5100\\nsex: MALE', metadata={'source': '/content/gdrive/MyDrive/llm/langchain/some_data/penguins.csv', 'row': 245}), Document(page_content='species: Gentoo\\nisland: Biscoe\\nbill_length_mm: 44.5\\nbill_depth_mm: 14.3\\nflipper_length_mm: 216\\nbody_mass_g: 4100\\nsex: ', metadata={'source': '/content/gdrive/MyDrive/llm/langchain/some_data/penguins.csv', 'row': 246}), Document(page_content='species: Gentoo\\nisland: Biscoe\\nbill_length_mm: 47.8\\nbill_depth_mm: 15\\nflipper_length_mm: 215\\nbody_mass_g: 5650\\nsex: MALE', metadata={'source': '/content/gdrive/MyDrive/llm/langchain/some_data/penguins.csv', 'row': 247}), Document(page_content='species: Gentoo\\nisland: Biscoe\\nbill_length_mm: 48.2\\nbill_depth_mm: 14.3\\nflipper_length_mm: 210\\nbody_mass_g: 4600\\nsex: FEMALE', metadata={'source': '/content/gdrive/MyDrive/llm/langchain/some_data/penguins.csv', 'row': 248}), Document(page_content='species: Gentoo\\nisland: Biscoe\\nbill_length_mm: 50\\nbill_depth_mm: 15.3\\nflipper_length_mm: 220\\nbody_mass_g: 5550\\nsex: MALE', metadata={'source': '/content/gdrive/MyDrive/llm/langchain/some_data/penguins.csv', 'row': 249}), Document(page_content='species: Gentoo\\nisland: Biscoe\\nbill_length_mm: 47.3\\nbill_depth_mm: 15.3\\nflipper_length_mm: 222\\nbody_mass_g: 5250\\nsex: MALE', metadata={'source': '/content/gdrive/MyDrive/llm/langchain/some_data/penguins.csv', 'row': 250}), Document(page_content='species: Gentoo\\nisland: Biscoe\\nbill_length_mm: 42.8\\nbill_depth_mm: 14.2\\nflipper_length_mm: 209\\nbody_mass_g: 4700\\nsex: FEMALE', metadata={'source': '/content/gdrive/MyDrive/llm/langchain/some_data/penguins.csv', 'row': 251}), Document(page_content='species: Gentoo\\nisland: Biscoe\\nbill_length_mm: 45.1\\nbill_depth_mm: 14.5\\nflipper_length_mm: 207\\nbody_mass_g: 5050\\nsex: FEMALE', metadata={'source': '/content/gdrive/MyDrive/llm/langchain/some_data/penguins.csv', 'row': 252}), Document(page_content='species: Gentoo\\nisland: Biscoe\\nbill_length_mm: 59.6\\nbill_depth_mm: 17\\nflipper_length_mm: 230\\nbody_mass_g: 6050\\nsex: MALE', metadata={'source': '/content/gdrive/MyDrive/llm/langchain/some_data/penguins.csv', 'row': 253}), Document(page_content='species: Gentoo\\nisland: Biscoe\\nbill_length_mm: 49.1\\nbill_depth_mm: 14.8\\nflipper_length_mm: 220\\nbody_mass_g: 5150\\nsex: FEMALE', metadata={'source': '/content/gdrive/MyDrive/llm/langchain/some_data/penguins.csv', 'row': 254}), Document(page_content='species: Gentoo\\nisland: Biscoe\\nbill_length_mm: 48.4\\nbill_depth_mm: 16.3\\nflipper_length_mm: 220\\nbody_mass_g: 5400\\nsex: MALE', metadata={'source': '/content/gdrive/MyDrive/llm/langchain/some_data/penguins.csv', 'row': 255}), Document(page_content='species: Gentoo\\nisland: Biscoe\\nbill_length_mm: 42.6\\nbill_depth_mm: 13.7\\nflipper_length_mm: 213\\nbody_mass_g: 4950\\nsex: FEMALE', metadata={'source': '/content/gdrive/MyDrive/llm/langchain/some_data/penguins.csv', 'row': 256}), Document(page_content='species: Gentoo\\nisland: Biscoe\\nbill_length_mm: 44.4\\nbill_depth_mm: 17.3\\nflipper_length_mm: 219\\nbody_mass_g: 5250\\nsex: MALE', metadata={'source': '/content/gdrive/MyDrive/llm/langchain/some_data/penguins.csv', 'row': 257}), Document(page_content='species: Gentoo\\nisland: Biscoe\\nbill_length_mm: 44\\nbill_depth_mm: 13.6\\nflipper_length_mm: 208\\nbody_mass_g: 4350\\nsex: FEMALE', metadata={'source': '/content/gdrive/MyDrive/llm/langchain/some_data/penguins.csv', 'row': 258}), Document(page_content='species: Gentoo\\nisland: Biscoe\\nbill_length_mm: 48.7\\nbill_depth_mm: 15.7\\nflipper_length_mm: 208\\nbody_mass_g: 5350\\nsex: MALE', metadata={'source': '/content/gdrive/MyDrive/llm/langchain/some_data/penguins.csv', 'row': 259}), Document(page_content='species: Gentoo\\nisland: Biscoe\\nbill_length_mm: 42.7\\nbill_depth_mm: 13.7\\nflipper_length_mm: 208\\nbody_mass_g: 3950\\nsex: FEMALE', metadata={'source': '/content/gdrive/MyDrive/llm/langchain/some_data/penguins.csv', 'row': 260}), Document(page_content='species: Gentoo\\nisland: Biscoe\\nbill_length_mm: 49.6\\nbill_depth_mm: 16\\nflipper_length_mm: 225\\nbody_mass_g: 5700\\nsex: MALE', metadata={'source': '/content/gdrive/MyDrive/llm/langchain/some_data/penguins.csv', 'row': 261}), Document(page_content='species: Gentoo\\nisland: Biscoe\\nbill_length_mm: 45.3\\nbill_depth_mm: 13.7\\nflipper_length_mm: 210\\nbody_mass_g: 4300\\nsex: FEMALE', metadata={'source': '/content/gdrive/MyDrive/llm/langchain/some_data/penguins.csv', 'row': 262}), Document(page_content='species: Gentoo\\nisland: Biscoe\\nbill_length_mm: 49.6\\nbill_depth_mm: 15\\nflipper_length_mm: 216\\nbody_mass_g: 4750\\nsex: MALE', metadata={'source': '/content/gdrive/MyDrive/llm/langchain/some_data/penguins.csv', 'row': 263}), Document(page_content='species: Gentoo\\nisland: Biscoe\\nbill_length_mm: 50.5\\nbill_depth_mm: 15.9\\nflipper_length_mm: 222\\nbody_mass_g: 5550\\nsex: MALE', metadata={'source': '/content/gdrive/MyDrive/llm/langchain/some_data/penguins.csv', 'row': 264}), Document(page_content='species: Gentoo\\nisland: Biscoe\\nbill_length_mm: 43.6\\nbill_depth_mm: 13.9\\nflipper_length_mm: 217\\nbody_mass_g: 4900\\nsex: FEMALE', metadata={'source': '/content/gdrive/MyDrive/llm/langchain/some_data/penguins.csv', 'row': 265}), Document(page_content='species: Gentoo\\nisland: Biscoe\\nbill_length_mm: 45.5\\nbill_depth_mm: 13.9\\nflipper_length_mm: 210\\nbody_mass_g: 4200\\nsex: FEMALE', metadata={'source': '/content/gdrive/MyDrive/llm/langchain/some_data/penguins.csv', 'row': 266}), Document(page_content='species: Gentoo\\nisland: Biscoe\\nbill_length_mm: 50.5\\nbill_depth_mm: 15.9\\nflipper_length_mm: 225\\nbody_mass_g: 5400\\nsex: MALE', metadata={'source': '/content/gdrive/MyDrive/llm/langchain/some_data/penguins.csv', 'row': 267}), Document(page_content='species: Gentoo\\nisland: Biscoe\\nbill_length_mm: 44.9\\nbill_depth_mm: 13.3\\nflipper_length_mm: 213\\nbody_mass_g: 5100\\nsex: FEMALE', metadata={'source': '/content/gdrive/MyDrive/llm/langchain/some_data/penguins.csv', 'row': 268}), Document(page_content='species: Gentoo\\nisland: Biscoe\\nbill_length_mm: 45.2\\nbill_depth_mm: 15.8\\nflipper_length_mm: 215\\nbody_mass_g: 5300\\nsex: MALE', metadata={'source': '/content/gdrive/MyDrive/llm/langchain/some_data/penguins.csv', 'row': 269}), Document(page_content='species: Gentoo\\nisland: Biscoe\\nbill_length_mm: 46.6\\nbill_depth_mm: 14.2\\nflipper_length_mm: 210\\nbody_mass_g: 4850\\nsex: FEMALE', metadata={'source': '/content/gdrive/MyDrive/llm/langchain/some_data/penguins.csv', 'row': 270}), Document(page_content='species: Gentoo\\nisland: Biscoe\\nbill_length_mm: 48.5\\nbill_depth_mm: 14.1\\nflipper_length_mm: 220\\nbody_mass_g: 5300\\nsex: MALE', metadata={'source': '/content/gdrive/MyDrive/llm/langchain/some_data/penguins.csv', 'row': 271}), Document(page_content='species: Gentoo\\nisland: Biscoe\\nbill_length_mm: 45.1\\nbill_depth_mm: 14.4\\nflipper_length_mm: 210\\nbody_mass_g: 4400\\nsex: FEMALE', metadata={'source': '/content/gdrive/MyDrive/llm/langchain/some_data/penguins.csv', 'row': 272}), Document(page_content='species: Gentoo\\nisland: Biscoe\\nbill_length_mm: 50.1\\nbill_depth_mm: 15\\nflipper_length_mm: 225\\nbody_mass_g: 5000\\nsex: MALE', metadata={'source': '/content/gdrive/MyDrive/llm/langchain/some_data/penguins.csv', 'row': 273}), Document(page_content='species: Gentoo\\nisland: Biscoe\\nbill_length_mm: 46.5\\nbill_depth_mm: 14.4\\nflipper_length_mm: 217\\nbody_mass_g: 4900\\nsex: FEMALE', metadata={'source': '/content/gdrive/MyDrive/llm/langchain/some_data/penguins.csv', 'row': 274}), Document(page_content='species: Gentoo\\nisland: Biscoe\\nbill_length_mm: 45\\nbill_depth_mm: 15.4\\nflipper_length_mm: 220\\nbody_mass_g: 5050\\nsex: MALE', metadata={'source': '/content/gdrive/MyDrive/llm/langchain/some_data/penguins.csv', 'row': 275}), Document(page_content='species: Gentoo\\nisland: Biscoe\\nbill_length_mm: 43.8\\nbill_depth_mm: 13.9\\nflipper_length_mm: 208\\nbody_mass_g: 4300\\nsex: FEMALE', metadata={'source': '/content/gdrive/MyDrive/llm/langchain/some_data/penguins.csv', 'row': 276}), Document(page_content='species: Gentoo\\nisland: Biscoe\\nbill_length_mm: 45.5\\nbill_depth_mm: 15\\nflipper_length_mm: 220\\nbody_mass_g: 5000\\nsex: MALE', metadata={'source': '/content/gdrive/MyDrive/llm/langchain/some_data/penguins.csv', 'row': 277}), Document(page_content='species: Gentoo\\nisland: Biscoe\\nbill_length_mm: 43.2\\nbill_depth_mm: 14.5\\nflipper_length_mm: 208\\nbody_mass_g: 4450\\nsex: FEMALE', metadata={'source': '/content/gdrive/MyDrive/llm/langchain/some_data/penguins.csv', 'row': 278}), Document(page_content='species: Gentoo\\nisland: Biscoe\\nbill_length_mm: 50.4\\nbill_depth_mm: 15.3\\nflipper_length_mm: 224\\nbody_mass_g: 5550\\nsex: MALE', metadata={'source': '/content/gdrive/MyDrive/llm/langchain/some_data/penguins.csv', 'row': 279}), Document(page_content='species: Gentoo\\nisland: Biscoe\\nbill_length_mm: 45.3\\nbill_depth_mm: 13.8\\nflipper_length_mm: 208\\nbody_mass_g: 4200\\nsex: FEMALE', metadata={'source': '/content/gdrive/MyDrive/llm/langchain/some_data/penguins.csv', 'row': 280}), Document(page_content='species: Gentoo\\nisland: Biscoe\\nbill_length_mm: 46.2\\nbill_depth_mm: 14.9\\nflipper_length_mm: 221\\nbody_mass_g: 5300\\nsex: MALE', metadata={'source': '/content/gdrive/MyDrive/llm/langchain/some_data/penguins.csv', 'row': 281}), Document(page_content='species: Gentoo\\nisland: Biscoe\\nbill_length_mm: 45.7\\nbill_depth_mm: 13.9\\nflipper_length_mm: 214\\nbody_mass_g: 4400\\nsex: FEMALE', metadata={'source': '/content/gdrive/MyDrive/llm/langchain/some_data/penguins.csv', 'row': 282}), Document(page_content='species: Gentoo\\nisland: Biscoe\\nbill_length_mm: 54.3\\nbill_depth_mm: 15.7\\nflipper_length_mm: 231\\nbody_mass_g: 5650\\nsex: MALE', metadata={'source': '/content/gdrive/MyDrive/llm/langchain/some_data/penguins.csv', 'row': 283}), Document(page_content='species: Gentoo\\nisland: Biscoe\\nbill_length_mm: 45.8\\nbill_depth_mm: 14.2\\nflipper_length_mm: 219\\nbody_mass_g: 4700\\nsex: FEMALE', metadata={'source': '/content/gdrive/MyDrive/llm/langchain/some_data/penguins.csv', 'row': 284}), Document(page_content='species: Gentoo\\nisland: Biscoe\\nbill_length_mm: 49.8\\nbill_depth_mm: 16.8\\nflipper_length_mm: 230\\nbody_mass_g: 5700\\nsex: MALE', metadata={'source': '/content/gdrive/MyDrive/llm/langchain/some_data/penguins.csv', 'row': 285}), Document(page_content='species: Gentoo\\nisland: Biscoe\\nbill_length_mm: 46.2\\nbill_depth_mm: 14.4\\nflipper_length_mm: 214\\nbody_mass_g: 4650\\nsex: ', metadata={'source': '/content/gdrive/MyDrive/llm/langchain/some_data/penguins.csv', 'row': 286}), Document(page_content='species: Gentoo\\nisland: Biscoe\\nbill_length_mm: 49.5\\nbill_depth_mm: 16.2\\nflipper_length_mm: 229\\nbody_mass_g: 5800\\nsex: MALE', metadata={'source': '/content/gdrive/MyDrive/llm/langchain/some_data/penguins.csv', 'row': 287}), Document(page_content='species: Gentoo\\nisland: Biscoe\\nbill_length_mm: 43.5\\nbill_depth_mm: 14.2\\nflipper_length_mm: 220\\nbody_mass_g: 4700\\nsex: FEMALE', metadata={'source': '/content/gdrive/MyDrive/llm/langchain/some_data/penguins.csv', 'row': 288}), Document(page_content='species: Gentoo\\nisland: Biscoe\\nbill_length_mm: 50.7\\nbill_depth_mm: 15\\nflipper_length_mm: 223\\nbody_mass_g: 5550\\nsex: MALE', metadata={'source': '/content/gdrive/MyDrive/llm/langchain/some_data/penguins.csv', 'row': 289}), Document(page_content='species: Gentoo\\nisland: Biscoe\\nbill_length_mm: 47.7\\nbill_depth_mm: 15\\nflipper_length_mm: 216\\nbody_mass_g: 4750\\nsex: FEMALE', metadata={'source': '/content/gdrive/MyDrive/llm/langchain/some_data/penguins.csv', 'row': 290}), Document(page_content='species: Gentoo\\nisland: Biscoe\\nbill_length_mm: 46.4\\nbill_depth_mm: 15.6\\nflipper_length_mm: 221\\nbody_mass_g: 5000\\nsex: MALE', metadata={'source': '/content/gdrive/MyDrive/llm/langchain/some_data/penguins.csv', 'row': 291}), Document(page_content='species: Gentoo\\nisland: Biscoe\\nbill_length_mm: 48.2\\nbill_depth_mm: 15.6\\nflipper_length_mm: 221\\nbody_mass_g: 5100\\nsex: MALE', metadata={'source': '/content/gdrive/MyDrive/llm/langchain/some_data/penguins.csv', 'row': 292}), Document(page_content='species: Gentoo\\nisland: Biscoe\\nbill_length_mm: 46.5\\nbill_depth_mm: 14.8\\nflipper_length_mm: 217\\nbody_mass_g: 5200\\nsex: FEMALE', metadata={'source': '/content/gdrive/MyDrive/llm/langchain/some_data/penguins.csv', 'row': 293}), Document(page_content='species: Gentoo\\nisland: Biscoe\\nbill_length_mm: 46.4\\nbill_depth_mm: 15\\nflipper_length_mm: 216\\nbody_mass_g: 4700\\nsex: FEMALE', metadata={'source': '/content/gdrive/MyDrive/llm/langchain/some_data/penguins.csv', 'row': 294}), Document(page_content='species: Gentoo\\nisland: Biscoe\\nbill_length_mm: 48.6\\nbill_depth_mm: 16\\nflipper_length_mm: 230\\nbody_mass_g: 5800\\nsex: MALE', metadata={'source': '/content/gdrive/MyDrive/llm/langchain/some_data/penguins.csv', 'row': 295}), Document(page_content='species: Gentoo\\nisland: Biscoe\\nbill_length_mm: 47.5\\nbill_depth_mm: 14.2\\nflipper_length_mm: 209\\nbody_mass_g: 4600\\nsex: FEMALE', metadata={'source': '/content/gdrive/MyDrive/llm/langchain/some_data/penguins.csv', 'row': 296}), Document(page_content='species: Gentoo\\nisland: Biscoe\\nbill_length_mm: 51.1\\nbill_depth_mm: 16.3\\nflipper_length_mm: 220\\nbody_mass_g: 6000\\nsex: MALE', metadata={'source': '/content/gdrive/MyDrive/llm/langchain/some_data/penguins.csv', 'row': 297}), Document(page_content='species: Gentoo\\nisland: Biscoe\\nbill_length_mm: 45.2\\nbill_depth_mm: 13.8\\nflipper_length_mm: 215\\nbody_mass_g: 4750\\nsex: FEMALE', metadata={'source': '/content/gdrive/MyDrive/llm/langchain/some_data/penguins.csv', 'row': 298}), Document(page_content='species: Gentoo\\nisland: Biscoe\\nbill_length_mm: 45.2\\nbill_depth_mm: 16.4\\nflipper_length_mm: 223\\nbody_mass_g: 5950\\nsex: MALE', metadata={'source': '/content/gdrive/MyDrive/llm/langchain/some_data/penguins.csv', 'row': 299}), Document(page_content='species: Gentoo\\nisland: Biscoe\\nbill_length_mm: 49.1\\nbill_depth_mm: 14.5\\nflipper_length_mm: 212\\nbody_mass_g: 4625\\nsex: FEMALE', metadata={'source': '/content/gdrive/MyDrive/llm/langchain/some_data/penguins.csv', 'row': 300}), Document(page_content='species: Gentoo\\nisland: Biscoe\\nbill_length_mm: 52.5\\nbill_depth_mm: 15.6\\nflipper_length_mm: 221\\nbody_mass_g: 5450\\nsex: MALE', metadata={'source': '/content/gdrive/MyDrive/llm/langchain/some_data/penguins.csv', 'row': 301}), Document(page_content='species: Gentoo\\nisland: Biscoe\\nbill_length_mm: 47.4\\nbill_depth_mm: 14.6\\nflipper_length_mm: 212\\nbody_mass_g: 4725\\nsex: FEMALE', metadata={'source': '/content/gdrive/MyDrive/llm/langchain/some_data/penguins.csv', 'row': 302}), Document(page_content='species: Gentoo\\nisland: Biscoe\\nbill_length_mm: 50\\nbill_depth_mm: 15.9\\nflipper_length_mm: 224\\nbody_mass_g: 5350\\nsex: MALE', metadata={'source': '/content/gdrive/MyDrive/llm/langchain/some_data/penguins.csv', 'row': 303}), Document(page_content='species: Gentoo\\nisland: Biscoe\\nbill_length_mm: 44.9\\nbill_depth_mm: 13.8\\nflipper_length_mm: 212\\nbody_mass_g: 4750\\nsex: FEMALE', metadata={'source': '/content/gdrive/MyDrive/llm/langchain/some_data/penguins.csv', 'row': 304}), Document(page_content='species: Gentoo\\nisland: Biscoe\\nbill_length_mm: 50.8\\nbill_depth_mm: 17.3\\nflipper_length_mm: 228\\nbody_mass_g: 5600\\nsex: MALE', metadata={'source': '/content/gdrive/MyDrive/llm/langchain/some_data/penguins.csv', 'row': 305}), Document(page_content='species: Gentoo\\nisland: Biscoe\\nbill_length_mm: 43.4\\nbill_depth_mm: 14.4\\nflipper_length_mm: 218\\nbody_mass_g: 4600\\nsex: FEMALE', metadata={'source': '/content/gdrive/MyDrive/llm/langchain/some_data/penguins.csv', 'row': 306}), Document(page_content='species: Gentoo\\nisland: Biscoe\\nbill_length_mm: 51.3\\nbill_depth_mm: 14.2\\nflipper_length_mm: 218\\nbody_mass_g: 5300\\nsex: MALE', metadata={'source': '/content/gdrive/MyDrive/llm/langchain/some_data/penguins.csv', 'row': 307}), Document(page_content='species: Gentoo\\nisland: Biscoe\\nbill_length_mm: 47.5\\nbill_depth_mm: 14\\nflipper_length_mm: 212\\nbody_mass_g: 4875\\nsex: FEMALE', metadata={'source': '/content/gdrive/MyDrive/llm/langchain/some_data/penguins.csv', 'row': 308}), Document(page_content='species: Gentoo\\nisland: Biscoe\\nbill_length_mm: 52.1\\nbill_depth_mm: 17\\nflipper_length_mm: 230\\nbody_mass_g: 5550\\nsex: MALE', metadata={'source': '/content/gdrive/MyDrive/llm/langchain/some_data/penguins.csv', 'row': 309}), Document(page_content='species: Gentoo\\nisland: Biscoe\\nbill_length_mm: 47.5\\nbill_depth_mm: 15\\nflipper_length_mm: 218\\nbody_mass_g: 4950\\nsex: FEMALE', metadata={'source': '/content/gdrive/MyDrive/llm/langchain/some_data/penguins.csv', 'row': 310}), Document(page_content='species: Gentoo\\nisland: Biscoe\\nbill_length_mm: 52.2\\nbill_depth_mm: 17.1\\nflipper_length_mm: 228\\nbody_mass_g: 5400\\nsex: MALE', metadata={'source': '/content/gdrive/MyDrive/llm/langchain/some_data/penguins.csv', 'row': 311}), Document(page_content='species: Gentoo\\nisland: Biscoe\\nbill_length_mm: 45.5\\nbill_depth_mm: 14.5\\nflipper_length_mm: 212\\nbody_mass_g: 4750\\nsex: FEMALE', metadata={'source': '/content/gdrive/MyDrive/llm/langchain/some_data/penguins.csv', 'row': 312}), Document(page_content='species: Gentoo\\nisland: Biscoe\\nbill_length_mm: 49.5\\nbill_depth_mm: 16.1\\nflipper_length_mm: 224\\nbody_mass_g: 5650\\nsex: MALE', metadata={'source': '/content/gdrive/MyDrive/llm/langchain/some_data/penguins.csv', 'row': 313}), Document(page_content='species: Gentoo\\nisland: Biscoe\\nbill_length_mm: 44.5\\nbill_depth_mm: 14.7\\nflipper_length_mm: 214\\nbody_mass_g: 4850\\nsex: FEMALE', metadata={'source': '/content/gdrive/MyDrive/llm/langchain/some_data/penguins.csv', 'row': 314}), Document(page_content='species: Gentoo\\nisland: Biscoe\\nbill_length_mm: 50.8\\nbill_depth_mm: 15.7\\nflipper_length_mm: 226\\nbody_mass_g: 5200\\nsex: MALE', metadata={'source': '/content/gdrive/MyDrive/llm/langchain/some_data/penguins.csv', 'row': 315}), Document(page_content='species: Gentoo\\nisland: Biscoe\\nbill_length_mm: 49.4\\nbill_depth_mm: 15.8\\nflipper_length_mm: 216\\nbody_mass_g: 4925\\nsex: MALE', metadata={'source': '/content/gdrive/MyDrive/llm/langchain/some_data/penguins.csv', 'row': 316}), Document(page_content='species: Gentoo\\nisland: Biscoe\\nbill_length_mm: 46.9\\nbill_depth_mm: 14.6\\nflipper_length_mm: 222\\nbody_mass_g: 4875\\nsex: FEMALE', metadata={'source': '/content/gdrive/MyDrive/llm/langchain/some_data/penguins.csv', 'row': 317}), Document(page_content='species: Gentoo\\nisland: Biscoe\\nbill_length_mm: 48.4\\nbill_depth_mm: 14.4\\nflipper_length_mm: 203\\nbody_mass_g: 4625\\nsex: FEMALE', metadata={'source': '/content/gdrive/MyDrive/llm/langchain/some_data/penguins.csv', 'row': 318}), Document(page_content='species: Gentoo\\nisland: Biscoe\\nbill_length_mm: 51.1\\nbill_depth_mm: 16.5\\nflipper_length_mm: 225\\nbody_mass_g: 5250\\nsex: MALE', metadata={'source': '/content/gdrive/MyDrive/llm/langchain/some_data/penguins.csv', 'row': 319}), Document(page_content='species: Gentoo\\nisland: Biscoe\\nbill_length_mm: 48.5\\nbill_depth_mm: 15\\nflipper_length_mm: 219\\nbody_mass_g: 4850\\nsex: FEMALE', metadata={'source': '/content/gdrive/MyDrive/llm/langchain/some_data/penguins.csv', 'row': 320}), Document(page_content='species: Gentoo\\nisland: Biscoe\\nbill_length_mm: 55.9\\nbill_depth_mm: 17\\nflipper_length_mm: 228\\nbody_mass_g: 5600\\nsex: MALE', metadata={'source': '/content/gdrive/MyDrive/llm/langchain/some_data/penguins.csv', 'row': 321}), Document(page_content='species: Gentoo\\nisland: Biscoe\\nbill_length_mm: 47.2\\nbill_depth_mm: 15.5\\nflipper_length_mm: 215\\nbody_mass_g: 4975\\nsex: FEMALE', metadata={'source': '/content/gdrive/MyDrive/llm/langchain/some_data/penguins.csv', 'row': 322}), Document(page_content='species: Gentoo\\nisland: Biscoe\\nbill_length_mm: 49.1\\nbill_depth_mm: 15\\nflipper_length_mm: 228\\nbody_mass_g: 5500\\nsex: MALE', metadata={'source': '/content/gdrive/MyDrive/llm/langchain/some_data/penguins.csv', 'row': 323}), Document(page_content='species: Gentoo\\nisland: Biscoe\\nbill_length_mm: 47.3\\nbill_depth_mm: 13.8\\nflipper_length_mm: 216\\nbody_mass_g: 4725\\nsex: ', metadata={'source': '/content/gdrive/MyDrive/llm/langchain/some_data/penguins.csv', 'row': 324}), Document(page_content='species: Gentoo\\nisland: Biscoe\\nbill_length_mm: 46.8\\nbill_depth_mm: 16.1\\nflipper_length_mm: 215\\nbody_mass_g: 5500\\nsex: MALE', metadata={'source': '/content/gdrive/MyDrive/llm/langchain/some_data/penguins.csv', 'row': 325}), Document(page_content='species: Gentoo\\nisland: Biscoe\\nbill_length_mm: 41.7\\nbill_depth_mm: 14.7\\nflipper_length_mm: 210\\nbody_mass_g: 4700\\nsex: FEMALE', metadata={'source': '/content/gdrive/MyDrive/llm/langchain/some_data/penguins.csv', 'row': 326}), Document(page_content='species: Gentoo\\nisland: Biscoe\\nbill_length_mm: 53.4\\nbill_depth_mm: 15.8\\nflipper_length_mm: 219\\nbody_mass_g: 5500\\nsex: MALE', metadata={'source': '/content/gdrive/MyDrive/llm/langchain/some_data/penguins.csv', 'row': 327}), Document(page_content='species: Gentoo\\nisland: Biscoe\\nbill_length_mm: 43.3\\nbill_depth_mm: 14\\nflipper_length_mm: 208\\nbody_mass_g: 4575\\nsex: FEMALE', metadata={'source': '/content/gdrive/MyDrive/llm/langchain/some_data/penguins.csv', 'row': 328}), Document(page_content='species: Gentoo\\nisland: Biscoe\\nbill_length_mm: 48.1\\nbill_depth_mm: 15.1\\nflipper_length_mm: 209\\nbody_mass_g: 5500\\nsex: MALE', metadata={'source': '/content/gdrive/MyDrive/llm/langchain/some_data/penguins.csv', 'row': 329}), Document(page_content='species: Gentoo\\nisland: Biscoe\\nbill_length_mm: 50.5\\nbill_depth_mm: 15.2\\nflipper_length_mm: 216\\nbody_mass_g: 5000\\nsex: FEMALE', metadata={'source': '/content/gdrive/MyDrive/llm/langchain/some_data/penguins.csv', 'row': 330}), Document(page_content='species: Gentoo\\nisland: Biscoe\\nbill_length_mm: 49.8\\nbill_depth_mm: 15.9\\nflipper_length_mm: 229\\nbody_mass_g: 5950\\nsex: MALE', metadata={'source': '/content/gdrive/MyDrive/llm/langchain/some_data/penguins.csv', 'row': 331}), Document(page_content='species: Gentoo\\nisland: Biscoe\\nbill_length_mm: 43.5\\nbill_depth_mm: 15.2\\nflipper_length_mm: 213\\nbody_mass_g: 4650\\nsex: FEMALE', metadata={'source': '/content/gdrive/MyDrive/llm/langchain/some_data/penguins.csv', 'row': 332}), Document(page_content='species: Gentoo\\nisland: Biscoe\\nbill_length_mm: 51.5\\nbill_depth_mm: 16.3\\nflipper_length_mm: 230\\nbody_mass_g: 5500\\nsex: MALE', metadata={'source': '/content/gdrive/MyDrive/llm/langchain/some_data/penguins.csv', 'row': 333}), Document(page_content='species: Gentoo\\nisland: Biscoe\\nbill_length_mm: 46.2\\nbill_depth_mm: 14.1\\nflipper_length_mm: 217\\nbody_mass_g: 4375\\nsex: FEMALE', metadata={'source': '/content/gdrive/MyDrive/llm/langchain/some_data/penguins.csv', 'row': 334}), Document(page_content='species: Gentoo\\nisland: Biscoe\\nbill_length_mm: 55.1\\nbill_depth_mm: 16\\nflipper_length_mm: 230\\nbody_mass_g: 5850\\nsex: MALE', metadata={'source': '/content/gdrive/MyDrive/llm/langchain/some_data/penguins.csv', 'row': 335}), Document(page_content='species: Gentoo\\nisland: Biscoe\\nbill_length_mm: 44.5\\nbill_depth_mm: 15.7\\nflipper_length_mm: 217\\nbody_mass_g: 4875\\nsex: ', metadata={'source': '/content/gdrive/MyDrive/llm/langchain/some_data/penguins.csv', 'row': 336}), Document(page_content='species: Gentoo\\nisland: Biscoe\\nbill_length_mm: 48.8\\nbill_depth_mm: 16.2\\nflipper_length_mm: 222\\nbody_mass_g: 6000\\nsex: MALE', metadata={'source': '/content/gdrive/MyDrive/llm/langchain/some_data/penguins.csv', 'row': 337}), Document(page_content='species: Gentoo\\nisland: Biscoe\\nbill_length_mm: 47.2\\nbill_depth_mm: 13.7\\nflipper_length_mm: 214\\nbody_mass_g: 4925\\nsex: FEMALE', metadata={'source': '/content/gdrive/MyDrive/llm/langchain/some_data/penguins.csv', 'row': 338}), Document(page_content='species: Gentoo\\nisland: Biscoe\\nbill_length_mm: \\nbill_depth_mm: \\nflipper_length_mm: \\nbody_mass_g: \\nsex: ', metadata={'source': '/content/gdrive/MyDrive/llm/langchain/some_data/penguins.csv', 'row': 339}), Document(page_content='species: Gentoo\\nisland: Biscoe\\nbill_length_mm: 46.8\\nbill_depth_mm: 14.3\\nflipper_length_mm: 215\\nbody_mass_g: 4850\\nsex: FEMALE', metadata={'source': '/content/gdrive/MyDrive/llm/langchain/some_data/penguins.csv', 'row': 340}), Document(page_content='species: Gentoo\\nisland: Biscoe\\nbill_length_mm: 50.4\\nbill_depth_mm: 15.7\\nflipper_length_mm: 222\\nbody_mass_g: 5750\\nsex: MALE', metadata={'source': '/content/gdrive/MyDrive/llm/langchain/some_data/penguins.csv', 'row': 341}), Document(page_content='species: Gentoo\\nisland: Biscoe\\nbill_length_mm: 45.2\\nbill_depth_mm: 14.8\\nflipper_length_mm: 212\\nbody_mass_g: 5200\\nsex: FEMALE', metadata={'source': '/content/gdrive/MyDrive/llm/langchain/some_data/penguins.csv', 'row': 342}), Document(page_content='species: Gentoo\\nisland: Biscoe\\nbill_length_mm: 49.9\\nbill_depth_mm: 16.1\\nflipper_length_mm: 213\\nbody_mass_g: 5400\\nsex: MALE', metadata={'source': '/content/gdrive/MyDrive/llm/langchain/some_data/penguins.csv', 'row': 343})]\n"
          ]
        }
      ]
    },
    {
      "cell_type": "code",
      "source": [
        "type(data)"
      ],
      "metadata": {
        "colab": {
          "base_uri": "https://localhost:8080/"
        },
        "id": "ktUe8G0Q_m8F",
        "outputId": "d91d4be7-7d5b-4776-de23-7454805c873a"
      },
      "execution_count": 11,
      "outputs": [
        {
          "output_type": "execute_result",
          "data": {
            "text/plain": [
              "list"
            ]
          },
          "metadata": {},
          "execution_count": 11
        }
      ]
    },
    {
      "cell_type": "code",
      "source": [
        "data[0]"
      ],
      "metadata": {
        "colab": {
          "base_uri": "https://localhost:8080/"
        },
        "id": "2IbsKejo_n3i",
        "outputId": "1ed615ee-de8b-42d6-e034-41c0f0cd59e5"
      },
      "execution_count": 12,
      "outputs": [
        {
          "output_type": "execute_result",
          "data": {
            "text/plain": [
              "Document(page_content='species: Adelie\\nisland: Torgersen\\nbill_length_mm: 39.1\\nbill_depth_mm: 18.7\\nflipper_length_mm: 181\\nbody_mass_g: 3750\\nsex: MALE', metadata={'source': '/content/gdrive/MyDrive/llm/langchain/some_data/penguins.csv', 'row': 0})"
            ]
          },
          "metadata": {},
          "execution_count": 12
        }
      ]
    },
    {
      "cell_type": "code",
      "source": [
        "print(data[0].page_content)"
      ],
      "metadata": {
        "colab": {
          "base_uri": "https://localhost:8080/"
        },
        "id": "1EtclhT6_1aQ",
        "outputId": "daa41892-2e33-41ee-f864-07cc7244fc02"
      },
      "execution_count": 13,
      "outputs": [
        {
          "output_type": "stream",
          "name": "stdout",
          "text": [
            "species: Adelie\n",
            "island: Torgersen\n",
            "bill_length_mm: 39.1\n",
            "bill_depth_mm: 18.7\n",
            "flipper_length_mm: 181\n",
            "body_mass_g: 3750\n",
            "sex: MALE\n"
          ]
        }
      ]
    },
    {
      "cell_type": "markdown",
      "source": [
        "## HTML"
      ],
      "metadata": {
        "id": "UZENbJ5P_75N"
      }
    },
    {
      "cell_type": "code",
      "source": [
        "from langchain.document_loaders import BSHTMLLoader\n",
        "path = \"/content/gdrive/MyDrive/llm/langchain/some_data/some_website.html\"\n",
        "loader = BSHTMLLoader(path)\n",
        "data = loader.load()"
      ],
      "metadata": {
        "id": "psf-AqAt_5x7"
      },
      "execution_count": 20,
      "outputs": []
    },
    {
      "cell_type": "code",
      "source": [
        "data"
      ],
      "metadata": {
        "colab": {
          "base_uri": "https://localhost:8080/"
        },
        "id": "1f3LVgKyAGhz",
        "outputId": "8df91cd2-e2e1-42e1-939e-21cbd6d7bec5"
      },
      "execution_count": 21,
      "outputs": [
        {
          "output_type": "execute_result",
          "data": {
            "text/plain": [
              "[Document(page_content='Heading 1', metadata={'source': '/content/gdrive/MyDrive/llm/langchain/some_data/some_website.html', 'title': ''})]"
            ]
          },
          "metadata": {},
          "execution_count": 21
        }
      ]
    },
    {
      "cell_type": "markdown",
      "source": [
        "## PDF"
      ],
      "metadata": {
        "id": "pYNo4A8DAd4r"
      }
    },
    {
      "cell_type": "code",
      "source": [
        "!pip install pypdf"
      ],
      "metadata": {
        "colab": {
          "base_uri": "https://localhost:8080/"
        },
        "id": "sJjMVtg9AgkM",
        "outputId": "22546a3b-1d69-4358-e356-d653bf49045d"
      },
      "execution_count": 28,
      "outputs": [
        {
          "output_type": "stream",
          "name": "stdout",
          "text": [
            "Collecting pypdf\n",
            "  Downloading pypdf-4.2.0-py3-none-any.whl (290 kB)\n",
            "\u001b[?25l     \u001b[90m━━━━━━━━━━━━━━━━━━━━━━━━━━━━━━━━━━━━━━━━\u001b[0m \u001b[32m0.0/290.4 kB\u001b[0m \u001b[31m?\u001b[0m eta \u001b[36m-:--:--\u001b[0m\r\u001b[2K     \u001b[91m━━━━━━━━━━━━━━━\u001b[0m\u001b[91m╸\u001b[0m\u001b[90m━━━━━━━━━━━━━━━━━━━━━━━━\u001b[0m \u001b[32m112.6/290.4 kB\u001b[0m \u001b[31m3.2 MB/s\u001b[0m eta \u001b[36m0:00:01\u001b[0m\r\u001b[2K     \u001b[90m━━━━━━━━━━━━━━━━━━━━━━━━━━━━━━━━━━━━━━━━\u001b[0m \u001b[32m290.4/290.4 kB\u001b[0m \u001b[31m5.1 MB/s\u001b[0m eta \u001b[36m0:00:00\u001b[0m\n",
            "\u001b[?25hRequirement already satisfied: typing_extensions>=4.0 in /usr/local/lib/python3.10/dist-packages (from pypdf) (4.11.0)\n",
            "Installing collected packages: pypdf\n",
            "Successfully installed pypdf-4.2.0\n"
          ]
        }
      ]
    },
    {
      "cell_type": "code",
      "source": [
        "from langchain.document_loaders import PyPDFLoader"
      ],
      "metadata": {
        "id": "idSxy3XwAlrc"
      },
      "execution_count": 29,
      "outputs": []
    },
    {
      "cell_type": "code",
      "source": [
        "path = \"/content/gdrive/MyDrive/llm/langchain/some_data/SomeReport.pdf\"\n",
        "loader = PyPDFLoader(path)\n",
        "pages = loader.load_and_split()"
      ],
      "metadata": {
        "id": "UwlU08xeAo04"
      },
      "execution_count": 30,
      "outputs": []
    },
    {
      "cell_type": "code",
      "source": [
        "type(pages)"
      ],
      "metadata": {
        "colab": {
          "base_uri": "https://localhost:8080/"
        },
        "id": "FGCnGcRABohm",
        "outputId": "9d0357da-62a2-4000-f286-1ccbd73e6bb5"
      },
      "execution_count": 32,
      "outputs": [
        {
          "output_type": "execute_result",
          "data": {
            "text/plain": [
              "list"
            ]
          },
          "metadata": {},
          "execution_count": 32
        }
      ]
    },
    {
      "cell_type": "code",
      "source": [
        "pages[0]"
      ],
      "metadata": {
        "colab": {
          "base_uri": "https://localhost:8080/"
        },
        "id": "Plebyh0yBph_",
        "outputId": "c92cd0fb-944a-4e16-a9b8-c7c97e610318"
      },
      "execution_count": 33,
      "outputs": [
        {
          "output_type": "execute_result",
          "data": {
            "text/plain": [
              "Document(page_content='This\\nis\\nthe\\nfirst\\nline\\nPDF.\\nThis\\nis\\nthe\\nsecond\\nline\\nin\\nthe\\nPDF.\\nThis\\nis\\nthe\\nthird\\nline\\nin\\nthe\\nPDF.', metadata={'source': '/content/gdrive/MyDrive/llm/langchain/some_data/SomeReport.pdf', 'page': 0})"
            ]
          },
          "metadata": {},
          "execution_count": 33
        }
      ]
    },
    {
      "cell_type": "code",
      "source": [
        "print(pages[0].page_content)"
      ],
      "metadata": {
        "colab": {
          "base_uri": "https://localhost:8080/"
        },
        "id": "uoCNP0diB07M",
        "outputId": "1592047c-6b48-4ea9-ff0c-d01685470c07"
      },
      "execution_count": 37,
      "outputs": [
        {
          "output_type": "stream",
          "name": "stdout",
          "text": [
            "This\n",
            "is\n",
            "the\n",
            "first\n",
            "line\n",
            "PDF.\n",
            "This\n",
            "is\n",
            "the\n",
            "second\n",
            "line\n",
            "in\n",
            "the\n",
            "PDF.\n",
            "This\n",
            "is\n",
            "the\n",
            "third\n",
            "line\n",
            "in\n",
            "the\n",
            "PDF.\n"
          ]
        }
      ]
    },
    {
      "cell_type": "markdown",
      "source": [
        "## Integrations"
      ],
      "metadata": {
        "id": "Sij01UJaCN9w"
      }
    },
    {
      "cell_type": "code",
      "source": [
        "from langchain.document_loaders import HNLoader"
      ],
      "metadata": {
        "id": "ZZxF_XFQCQUP"
      },
      "execution_count": 35,
      "outputs": []
    },
    {
      "cell_type": "code",
      "source": [
        "loader = HNLoader('https://news.ycombinator.com/item?id=30084169')"
      ],
      "metadata": {
        "id": "KJ8chvMvCTCL"
      },
      "execution_count": 38,
      "outputs": []
    },
    {
      "cell_type": "code",
      "source": [
        "data = loader.load()\n",
        "print(data[0].page_content)"
      ],
      "metadata": {
        "colab": {
          "base_uri": "https://localhost:8080/"
        },
        "id": "6X5RIqDYC7Jm",
        "outputId": "1c1087fd-7e93-428c-bbed-2d32a9739b54"
      },
      "execution_count": 39,
      "outputs": [
        {
          "output_type": "stream",
          "name": "stdout",
          "text": [
            "nicholast on Jan 26, 2022  \n",
            "             | next [–] \n",
            "\n",
            "He was also a jazz musician (the clarinet), a somewhat accomplished juggler, a devoted unicycle enthusiast, and left behind a basement full of contraptions he was building in various states of finish - like the electronic mouse navigating a maze, a chess playing machine, and all other kinds of curiosities. His papers are coherent and still relevant to this day and follow the birth of each of these fields like information theory and artificial intelligence. Who knows what else he might have been working on at Bell labs that we may not be privy too.\n"
          ]
        }
      ]
    },
    {
      "cell_type": "code",
      "source": [
        "data[0].metadata"
      ],
      "metadata": {
        "colab": {
          "base_uri": "https://localhost:8080/"
        },
        "id": "ApqUs2EaC_rX",
        "outputId": "980bc844-6d86-4143-9788-117df2170bfa"
      },
      "execution_count": 40,
      "outputs": [
        {
          "output_type": "execute_result",
          "data": {
            "text/plain": [
              "{'source': 'https://news.ycombinator.com/item?id=30084169',\n",
              " 'title': 'How Claude Shannon helped kick-start machine learning'}"
            ]
          },
          "metadata": {},
          "execution_count": 40
        }
      ]
    },
    {
      "cell_type": "markdown",
      "source": [
        "## Create Summary of First Comment"
      ],
      "metadata": {
        "id": "Ga85hT_RDYC-"
      }
    },
    {
      "cell_type": "code",
      "source": [
        "from langchain.prompts import (\n",
        "    ChatPromptTemplate,\n",
        "    SystemMessagePromptTemplate,\n",
        "    HumanMessagePromptTemplate,\n",
        ")\n",
        "from langchain_openai.chat_models import ChatOpenAI"
      ],
      "metadata": {
        "id": "dkjC-OfdDDTZ"
      },
      "execution_count": 41,
      "outputs": []
    },
    {
      "cell_type": "code",
      "source": [
        "model = ChatOpenAI(openai_api_key=api_key)"
      ],
      "metadata": {
        "id": "1YK0Gs24Deq4"
      },
      "execution_count": 42,
      "outputs": []
    },
    {
      "cell_type": "code",
      "source": [
        "human_prompt = HumanMessagePromptTemplate.from_template('Please give me a single sentence summary of the following:\\n{document}')"
      ],
      "metadata": {
        "id": "DcJsfk98DhVf"
      },
      "execution_count": 43,
      "outputs": []
    },
    {
      "cell_type": "code",
      "source": [
        "chat_prompt = ChatPromptTemplate.from_messages([human_prompt])"
      ],
      "metadata": {
        "id": "IXEDH91tDlIv"
      },
      "execution_count": 44,
      "outputs": []
    },
    {
      "cell_type": "code",
      "source": [
        "result = model.invoke(chat_prompt.format_prompt(document=data[0].page_content).to_messages())"
      ],
      "metadata": {
        "id": "EXJ7FTCBDnY9"
      },
      "execution_count": 45,
      "outputs": []
    },
    {
      "cell_type": "code",
      "source": [
        "result.content"
      ],
      "metadata": {
        "colab": {
          "base_uri": "https://localhost:8080/",
          "height": 73
        },
        "id": "OOpLQ5huDpO7",
        "outputId": "7d205919-6d14-46d4-ab51-447f171d0299"
      },
      "execution_count": 46,
      "outputs": [
        {
          "output_type": "execute_result",
          "data": {
            "text/plain": [
              "'Nicholast was a multi-talented jazz musician, juggler, and unicycle enthusiast who left behind a collection of innovative contraptions and relevant papers in the fields of information theory and artificial intelligence.'"
            ],
            "application/vnd.google.colaboratory.intrinsic+json": {
              "type": "string"
            }
          },
          "metadata": {},
          "execution_count": 46
        }
      ]
    },
    {
      "cell_type": "markdown",
      "source": [
        "## Documnent Loading - Answering Single Question"
      ],
      "metadata": {
        "id": "joJn4pOUEk4C"
      }
    },
    {
      "cell_type": "code",
      "source": [
        "from langchain.prompts import (\n",
        "    ChatPromptTemplate,\n",
        "    SystemMessagePromptTemplate,\n",
        "    HumanMessagePromptTemplate,\n",
        ")\n",
        "from langchain_openai.chat_models import ChatOpenAI\n",
        "from langchain.document_loaders import WikipediaLoader\n"
      ],
      "metadata": {
        "id": "oLc-Ksr6EtEc"
      },
      "execution_count": 52,
      "outputs": []
    },
    {
      "cell_type": "code",
      "source": [
        "!pip install wikipedia"
      ],
      "metadata": {
        "id": "aD23dr4gFde-",
        "outputId": "945c12ed-6ddd-432b-aa6f-d982a9ba2508",
        "colab": {
          "base_uri": "https://localhost:8080/"
        }
      },
      "execution_count": 53,
      "outputs": [
        {
          "output_type": "stream",
          "name": "stdout",
          "text": [
            "Collecting wikipedia\n",
            "  Downloading wikipedia-1.4.0.tar.gz (27 kB)\n",
            "  Preparing metadata (setup.py) ... \u001b[?25l\u001b[?25hdone\n",
            "Requirement already satisfied: beautifulsoup4 in /usr/local/lib/python3.10/dist-packages (from wikipedia) (4.12.3)\n",
            "Requirement already satisfied: requests<3.0.0,>=2.0.0 in /usr/local/lib/python3.10/dist-packages (from wikipedia) (2.31.0)\n",
            "Requirement already satisfied: charset-normalizer<4,>=2 in /usr/local/lib/python3.10/dist-packages (from requests<3.0.0,>=2.0.0->wikipedia) (3.3.2)\n",
            "Requirement already satisfied: idna<4,>=2.5 in /usr/local/lib/python3.10/dist-packages (from requests<3.0.0,>=2.0.0->wikipedia) (3.7)\n",
            "Requirement already satisfied: urllib3<3,>=1.21.1 in /usr/local/lib/python3.10/dist-packages (from requests<3.0.0,>=2.0.0->wikipedia) (2.0.7)\n",
            "Requirement already satisfied: certifi>=2017.4.17 in /usr/local/lib/python3.10/dist-packages (from requests<3.0.0,>=2.0.0->wikipedia) (2024.2.2)\n",
            "Requirement already satisfied: soupsieve>1.2 in /usr/local/lib/python3.10/dist-packages (from beautifulsoup4->wikipedia) (2.5)\n",
            "Building wheels for collected packages: wikipedia\n",
            "  Building wheel for wikipedia (setup.py) ... \u001b[?25l\u001b[?25hdone\n",
            "  Created wheel for wikipedia: filename=wikipedia-1.4.0-py3-none-any.whl size=11680 sha256=9474a438df29bf0eba827da8e0886d9a9af8da8dfb1741ac02a6b649450d1013\n",
            "  Stored in directory: /root/.cache/pip/wheels/5e/b6/c5/93f3dec388ae76edc830cb42901bb0232504dfc0df02fc50de\n",
            "Successfully built wikipedia\n",
            "Installing collected packages: wikipedia\n",
            "Successfully installed wikipedia-1.4.0\n"
          ]
        }
      ]
    },
    {
      "cell_type": "code",
      "source": [
        "def answer_question_about(person_name,question):\n",
        "    # Get Wikipedia Article\n",
        "    docs = WikipediaLoader(query=person_name,load_max_docs=1)\n",
        "    context_text = docs.load()[0].page_content\n",
        "\n",
        "    # Connect to OpenAI Model\n",
        "    model = ChatOpenAI(openai_api_key=api_key)\n",
        "\n",
        "    # Ask Model Question\n",
        "    human_prompt = HumanMessagePromptTemplate.from_template('Answer this question\\n{question}, using this context:\\n{document}')\n",
        "\n",
        "    # Assemble chat prompt\n",
        "    chat_prompt = ChatPromptTemplate.from_messages([human_prompt])\n",
        "\n",
        "    #result\n",
        "    result = model.invoke(chat_prompt.format_prompt(question=question,document=context_text).to_messages())\n",
        "\n",
        "    print(result.content)"
      ],
      "metadata": {
        "id": "JxbmRKZZE7FV"
      },
      "execution_count": 58,
      "outputs": []
    },
    {
      "cell_type": "code",
      "source": [
        "answer_question_about(\"Claude Shannon\",\"When was Claude Shannon born?\")"
      ],
      "metadata": {
        "id": "uofl9nCaFH7_",
        "outputId": "2fa4fb80-28c3-4259-da3e-6acc27d3008b",
        "colab": {
          "base_uri": "https://localhost:8080/"
        }
      },
      "execution_count": 59,
      "outputs": [
        {
          "output_type": "stream",
          "name": "stdout",
          "text": [
            "mathematics. Shannon then went on to pursue a master's degree at the Massachusetts Institute of Technology (MIT), where he wrote his groundbreaking thesis on the application of Boolean algebra to digital circuits.\n",
            "\n",
            "Therefore, Claude Shannon was born on April 30, 1916.\n"
          ]
        }
      ]
    },
    {
      "cell_type": "code",
      "source": [],
      "metadata": {
        "id": "IPR9sI6NFIi8"
      },
      "execution_count": null,
      "outputs": []
    }
  ]
}