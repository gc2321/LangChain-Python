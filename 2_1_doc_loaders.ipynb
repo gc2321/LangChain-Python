{
  "nbformat": 4,
  "nbformat_minor": 0,
  "metadata": {
    "colab": {
      "provenance": [],
      "authorship_tag": "ABX9TyOv2JZEoqYl5x+iH3IYTo1D",
      "include_colab_link": true
    },
    "kernelspec": {
      "name": "python3",
      "display_name": "Python 3"
    },
    "language_info": {
      "name": "python"
    }
  },
  "cells": [
    {
      "cell_type": "markdown",
      "metadata": {
        "id": "view-in-github",
        "colab_type": "text"
      },
      "source": [
        "<a href=\"https://colab.research.google.com/github/gc2321/LangChain-Python/blob/main/2_1_doc_loaders.ipynb\" target=\"_parent\"><img src=\"https://colab.research.google.com/assets/colab-badge.svg\" alt=\"Open In Colab\"/></a>"
      ]
    },
    {
      "cell_type": "code",
      "source": [
        "import os"
      ],
      "metadata": {
        "id": "0rhqmgDGfXS4"
      },
      "execution_count": null,
      "outputs": []
    },
    {
      "cell_type": "code",
      "source": [
        "!pip install --upgrade --quiet langchain-openai langchain-community\n",
        "!pip install -quiet openai"
      ],
      "metadata": {
        "colab": {
          "base_uri": "https://localhost:8080/"
        },
        "id": "zWtxT39ffGb6",
        "outputId": "e16e4cc1-f4bf-46c8-e6ef-24bf0133442e"
      },
      "execution_count": null,
      "outputs": [
        {
          "output_type": "stream",
          "name": "stdout",
          "text": [
            "\u001b[2K     \u001b[90m━━━━━━━━━━━━━━━━━━━━━━━━━━━━━━━━━━━━━━━━\u001b[0m \u001b[32m2.1/2.1 MB\u001b[0m \u001b[31m16.9 MB/s\u001b[0m eta \u001b[36m0:00:00\u001b[0m\n",
            "\u001b[2K     \u001b[90m━━━━━━━━━━━━━━━━━━━━━━━━━━━━━━━━━━━━━━━━\u001b[0m \u001b[32m310.2/310.2 kB\u001b[0m \u001b[31m13.7 MB/s\u001b[0m eta \u001b[36m0:00:00\u001b[0m\n",
            "\u001b[2K     \u001b[90m━━━━━━━━━━━━━━━━━━━━━━━━━━━━━━━━━━━━━━━━\u001b[0m \u001b[32m320.7/320.7 kB\u001b[0m \u001b[31m10.1 MB/s\u001b[0m eta \u001b[36m0:00:00\u001b[0m\n",
            "\u001b[2K     \u001b[90m━━━━━━━━━━━━━━━━━━━━━━━━━━━━━━━━━━━━━━━━\u001b[0m \u001b[32m1.1/1.1 MB\u001b[0m \u001b[31m24.3 MB/s\u001b[0m eta \u001b[36m0:00:00\u001b[0m\n",
            "\u001b[2K     \u001b[90m━━━━━━━━━━━━━━━━━━━━━━━━━━━━━━━━━━━━━━━━\u001b[0m \u001b[32m973.5/973.5 kB\u001b[0m \u001b[31m10.9 MB/s\u001b[0m eta \u001b[36m0:00:00\u001b[0m\n",
            "\u001b[2K     \u001b[90m━━━━━━━━━━━━━━━━━━━━━━━━━━━━━━━━━━━━━━━━\u001b[0m \u001b[32m124.3/124.3 kB\u001b[0m \u001b[31m7.1 MB/s\u001b[0m eta \u001b[36m0:00:00\u001b[0m\n",
            "\u001b[2K     \u001b[90m━━━━━━━━━━━━━━━━━━━━━━━━━━━━━━━━━━━━━━━━\u001b[0m \u001b[32m49.3/49.3 kB\u001b[0m \u001b[31m3.3 MB/s\u001b[0m eta \u001b[36m0:00:00\u001b[0m\n",
            "\u001b[2K     \u001b[90m━━━━━━━━━━━━━━━━━━━━━━━━━━━━━━━━━━━━━━━━\u001b[0m \u001b[32m53.0/53.0 kB\u001b[0m \u001b[31m4.3 MB/s\u001b[0m eta \u001b[36m0:00:00\u001b[0m\n",
            "\u001b[2K     \u001b[90m━━━━━━━━━━━━━━━━━━━━━━━━━━━━━━━━━━━━━━━━\u001b[0m \u001b[32m142.5/142.5 kB\u001b[0m \u001b[31m4.8 MB/s\u001b[0m eta \u001b[36m0:00:00\u001b[0m\n",
            "\u001b[2K     \u001b[90m━━━━━━━━━━━━━━━━━━━━━━━━━━━━━━━━━━━━━━━━\u001b[0m \u001b[32m75.6/75.6 kB\u001b[0m \u001b[31m6.9 MB/s\u001b[0m eta \u001b[36m0:00:00\u001b[0m\n",
            "\u001b[2K     \u001b[90m━━━━━━━━━━━━━━━━━━━━━━━━━━━━━━━━━━━━━━━━\u001b[0m \u001b[32m77.9/77.9 kB\u001b[0m \u001b[31m5.9 MB/s\u001b[0m eta \u001b[36m0:00:00\u001b[0m\n",
            "\u001b[2K     \u001b[90m━━━━━━━━━━━━━━━━━━━━━━━━━━━━━━━━━━━━━━━━\u001b[0m \u001b[32m58.3/58.3 kB\u001b[0m \u001b[31m5.5 MB/s\u001b[0m eta \u001b[36m0:00:00\u001b[0m\n",
            "\u001b[?25h\n",
            "Usage:   \n",
            "  pip3 install [options] <requirement specifier> [package-index-options] ...\n",
            "  pip3 install [options] -r <requirements file> [package-index-options] ...\n",
            "  pip3 install [options] [-e] <vcs project url> ...\n",
            "  pip3 install [options] [-e] <local project path> ...\n",
            "  pip3 install [options] <archive url/path> ...\n",
            "\n",
            "no such option: -u\n"
          ]
        }
      ]
    },
    {
      "cell_type": "code",
      "source": [
        "from google.colab import drive\n",
        "drive.mount('/content/gdrive')"
      ],
      "metadata": {
        "colab": {
          "base_uri": "https://localhost:8080/"
        },
        "id": "RZ9bQosqpV5k",
        "outputId": "f3c720bf-dc21-4348-893b-433536e1f449"
      },
      "execution_count": null,
      "outputs": [
        {
          "output_type": "stream",
          "name": "stdout",
          "text": [
            "Mounted at /content/gdrive\n"
          ]
        }
      ]
    },
    {
      "cell_type": "code",
      "source": [
        "open_ai_api =\"/content/gdrive/MyDrive/llm/api_key.txt\"\n",
        "f = open(open_ai_api)\n",
        "api_key = f.read()"
      ],
      "metadata": {
        "id": "__dZDI4qp9JP"
      },
      "execution_count": null,
      "outputs": []
    },
    {
      "cell_type": "markdown",
      "source": [
        "# History Quuiz\n",
        "\n",
        "Use LangChain and Python to create a very simple class with a few methods for:\n",
        "* Writing a historical question that has a date as the correct answer\n",
        "* Getting the correct answer from LLM\n",
        "* Getting a Human user's best guess at at correct answer\n",
        "* Checking/reporting the difference between the correct answer and the user answer\n"
      ],
      "metadata": {
        "id": "LXCf6PT9b_-U"
      }
    },
    {
      "cell_type": "code",
      "source": [
        "from langchain.prompts import (\n",
        "    ChatPromptTemplate,\n",
        "    PromptTemplate,\n",
        "    SystemMessagePromptTemplate,\n",
        "    AIMessagePromptTemplate,\n",
        "    HumanMessagePromptTemplate,\n",
        ")\n",
        "from datetime import datetime\n",
        "from langchain_openai import OpenAI\n",
        "from langchain.output_parsers import DatetimeOutputParser\n",
        "from langchain.chat_models import ChatOpenAI\n"
      ],
      "metadata": {
        "id": "1kBll8PtERP9"
      },
      "execution_count": null,
      "outputs": []
    },
    {
      "cell_type": "code",
      "source": [
        "class HistoryQuiz():\n",
        "\n",
        "    def create_history_question(self,topic):\n",
        "        '''\n",
        "        This method should output a historical question about the topic that has a date as the correct answer.\n",
        "        For example:\n",
        "\n",
        "            \"On what date did World War 2 end?\"\n",
        "\n",
        "        '''\n",
        "        # System context:\n",
        "        system_template=\"Write single quiz questions about {topic}. Return the quiz question.\"\n",
        "        system_message_prompt = SystemMessagePromptTemplate.from_template(system_template)\n",
        "\n",
        "        # human request\n",
        "        human_template=\"{question_request}\"\n",
        "        human_message_prompt = HumanMessagePromptTemplate.from_template(human_template)\n",
        "\n",
        "        # compile prompt\n",
        "        chat_prompt = ChatPromptTemplate.from_messages([system_message_prompt, human_message_prompt])\n",
        "\n",
        "        # add variables\n",
        "        request = chat_prompt.format_prompt(topic=topic,question_request=\"Give me a quiz question where the correct answer is a specific date.\").to_messages()\n",
        "\n",
        "        # send request\n",
        "        chat = ChatOpenAI(openai_api_key=api_key)\n",
        "        result = chat.invoke(request)\n",
        "\n",
        "        return result.content\n",
        "\n",
        "    def get_AI_answer(self,question):\n",
        "        '''\n",
        "        This method should get the answer to the historical question from the method above.\n",
        "        Note: This answer must be in datetime format! Use DateTimeOutputParser to confirm!\n",
        "\n",
        "        September 2, 1945 --> datetime.datetime(1945, 9, 2, 0, 0)\n",
        "        '''\n",
        "        # Datetime Parser\n",
        "        output_parser = DatetimeOutputParser()\n",
        "\n",
        "        # SYSTEM Template\n",
        "        system_template = \"Answer quiz questions with just a date.\"\n",
        "        system_message_prompt = SystemMessagePromptTemplate.from_template(system_template)\n",
        "\n",
        "\n",
        "        # HUMAN Template\n",
        "        human_template = \"\"\"Answer the user's question:\n",
        "\n",
        "        {question}\n",
        "\n",
        "        {format_instructions}\"\"\"\n",
        "        human_message_prompt = HumanMessagePromptTemplate.from_template(human_template)\n",
        "\n",
        "        # Compile ChatTemplate\n",
        "        chat_prompt = ChatPromptTemplate.from_messages([system_message_prompt,human_message_prompt])\n",
        "\n",
        "        # Insert question and format instructions\n",
        "\n",
        "        request = chat_prompt.format_prompt(question=question,\n",
        "                                            format_instructions=output_parser.get_format_instructions()).to_messages()\n",
        "\n",
        "\n",
        "\n",
        "        # Chat Bot\n",
        "        chat = ChatOpenAI(openai_api_key=api_key)\n",
        "        result = chat.invoke(request)\n",
        "        # Format Request to datetime\n",
        "        correct_datetime = output_parser.parse(result.content)\n",
        "        return correct_datetime\n",
        "\n",
        "    def get_user_answer(self,question):\n",
        "        '''\n",
        "        This method should grab a user answer and convert it to datetime. It should collect a Year, Month, and Day.\n",
        "        You can just use input() for this.\n",
        "        '''\n",
        "        print(question)\n",
        "\n",
        "        # Get the year, month, and day from the user\n",
        "        year = int(input(\"Enter the year: \"))\n",
        "        month = int(input(\"Enter the month (1-12): \"))\n",
        "        day = int(input(\"Enter the day (1-31): \"))\n",
        "\n",
        "        # Create a datetime object\n",
        "        user_datetime = datetime(year, month, day)\n",
        "\n",
        "        return user_datetime\n",
        "\n",
        "\n",
        "    def check_user_answer(self,user_answer,ai_answer):\n",
        "        '''\n",
        "        Should check the user answer against the AI answer and return the difference between them\n",
        "        '''\n",
        "\n",
        "        # Calculate the difference between the dates\n",
        "        difference = user_answer - ai_answer\n",
        "\n",
        "        # Format the difference into a string\n",
        "        formatted_difference = str(difference)\n",
        "\n",
        "        # Return the string reporting the difference\n",
        "        print(\"The difference between the dates is:\", formatted_difference)\n",
        "\n"
      ],
      "metadata": {
        "id": "OVMITwmmcdcO"
      },
      "execution_count": null,
      "outputs": []
    },
    {
      "cell_type": "code",
      "source": [
        "quiz_bot = HistoryQuiz()"
      ],
      "metadata": {
        "id": "mkNocwgwdhzX"
      },
      "execution_count": null,
      "outputs": []
    },
    {
      "cell_type": "code",
      "source": [
        "question = quiz_bot.create_history_question(topic='World War 2')"
      ],
      "metadata": {
        "id": "i1oYhJ_XdkJs",
        "outputId": "256fe1e6-b626-464f-d541-f59e7a33649f",
        "colab": {
          "base_uri": "https://localhost:8080/"
        }
      },
      "execution_count": null,
      "outputs": [
        {
          "output_type": "stream",
          "name": "stderr",
          "text": [
            "/usr/local/lib/python3.10/dist-packages/langchain_core/_api/deprecation.py:119: LangChainDeprecationWarning: The class `ChatOpenAI` was deprecated in LangChain 0.0.10 and will be removed in 0.3.0. An updated version of the class exists in the langchain-openai package and should be used instead. To use it run `pip install -U langchain-openai` and import as `from langchain_openai import ChatOpenAI`.\n",
            "  warn_deprecated(\n"
          ]
        }
      ]
    },
    {
      "cell_type": "code",
      "source": [
        "question"
      ],
      "metadata": {
        "id": "S7QFF-FhdyqO",
        "outputId": "fd53459f-61e3-4268-f2e2-e5fa6f125b09",
        "colab": {
          "base_uri": "https://localhost:8080/",
          "height": 55
        }
      },
      "execution_count": null,
      "outputs": [
        {
          "output_type": "execute_result",
          "data": {
            "text/plain": [
              "'On what date did the attack on Pearl Harbor take place, drawing the United States into World War II?'"
            ],
            "application/vnd.google.colaboratory.intrinsic+json": {
              "type": "string"
            }
          },
          "metadata": {},
          "execution_count": 11
        }
      ]
    },
    {
      "cell_type": "code",
      "source": [
        "ai_answer = quiz_bot.get_AI_answer(question)"
      ],
      "metadata": {
        "id": "4ujBa8YEd4V-"
      },
      "execution_count": null,
      "outputs": []
    },
    {
      "cell_type": "code",
      "source": [
        "ai_answer"
      ],
      "metadata": {
        "id": "lbxnDuRbd7Dx",
        "outputId": "7db8612b-c79b-430d-a10a-6d1ef23b7d95",
        "colab": {
          "base_uri": "https://localhost:8080/"
        }
      },
      "execution_count": null,
      "outputs": [
        {
          "output_type": "execute_result",
          "data": {
            "text/plain": [
              "datetime.datetime(1941, 12, 7, 7, 55)"
            ]
          },
          "metadata": {},
          "execution_count": 13
        }
      ]
    },
    {
      "cell_type": "code",
      "source": [
        "user_answer = quiz_bot.get_user_answer(question)"
      ],
      "metadata": {
        "id": "aXitjvovd-gq",
        "outputId": "4c3415ce-cd96-46d7-f320-7b6ce50ac1fc",
        "colab": {
          "base_uri": "https://localhost:8080/"
        }
      },
      "execution_count": null,
      "outputs": [
        {
          "name": "stdout",
          "output_type": "stream",
          "text": [
            "On what date did the attack on Pearl Harbor take place, drawing the United States into World War II?\n",
            "Enter the year: 1942\n",
            "Enter the month (1-12): 12\n",
            "Enter the day (1-31): 12\n"
          ]
        }
      ]
    },
    {
      "cell_type": "code",
      "source": [
        "user_answer"
      ],
      "metadata": {
        "id": "jNnuLeAaeIHX",
        "outputId": "c0c765de-104c-4a08-f0b8-b6df18621079",
        "colab": {
          "base_uri": "https://localhost:8080/"
        }
      },
      "execution_count": null,
      "outputs": [
        {
          "output_type": "execute_result",
          "data": {
            "text/plain": [
              "datetime.datetime(1942, 12, 12, 0, 0)"
            ]
          },
          "metadata": {},
          "execution_count": 15
        }
      ]
    },
    {
      "cell_type": "code",
      "source": [
        "quiz_bot.check_user_answer(user_answer,ai_answer)"
      ],
      "metadata": {
        "id": "wicx2KWAePw9",
        "outputId": "1cf6783b-62e6-4f6d-f5cd-07547db0738b",
        "colab": {
          "base_uri": "https://localhost:8080/"
        }
      },
      "execution_count": null,
      "outputs": [
        {
          "output_type": "stream",
          "name": "stdout",
          "text": [
            "The difference between the dates is: 369 days, 16:05:00\n"
          ]
        }
      ]
    },
    {
      "cell_type": "code",
      "source": [],
      "metadata": {
        "id": "VxOq8R9DeSSK"
      },
      "execution_count": null,
      "outputs": []
    }
  ]
}