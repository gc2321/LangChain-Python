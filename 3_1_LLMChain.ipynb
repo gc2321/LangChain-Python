{
  "nbformat": 4,
  "nbformat_minor": 0,
  "metadata": {
    "colab": {
      "provenance": [],
      "authorship_tag": "ABX9TyNXXKigVutswRrNrWamC/lN",
      "include_colab_link": true
    },
    "kernelspec": {
      "name": "python3",
      "display_name": "Python 3"
    },
    "language_info": {
      "name": "python"
    }
  },
  "cells": [
    {
      "cell_type": "markdown",
      "metadata": {
        "id": "view-in-github",
        "colab_type": "text"
      },
      "source": [
        "<a href=\"https://colab.research.google.com/github/gc2321/LangChain-Python/blob/main/3_1_LLMChain.ipynb\" target=\"_parent\"><img src=\"https://colab.research.google.com/assets/colab-badge.svg\" alt=\"Open In Colab\"/></a>"
      ]
    },
    {
      "cell_type": "code",
      "source": [
        "import os"
      ],
      "metadata": {
        "id": "0rhqmgDGfXS4"
      },
      "execution_count": 1,
      "outputs": []
    },
    {
      "cell_type": "code",
      "source": [
        "!pip install --upgrade --quiet langchain-openai langchain-community\n",
        "!pip install -quiet openai"
      ],
      "metadata": {
        "colab": {
          "base_uri": "https://localhost:8080/"
        },
        "id": "zWtxT39ffGb6",
        "outputId": "82afd213-e723-41a3-b7c3-f7dbddb65030"
      },
      "execution_count": 2,
      "outputs": [
        {
          "output_type": "stream",
          "name": "stdout",
          "text": [
            "\u001b[2K     \u001b[90m━━━━━━━━━━━━━━━━━━━━━━━━━━━━━━━━━━━━━━━━\u001b[0m \u001b[32m2.1/2.1 MB\u001b[0m \u001b[31m10.2 MB/s\u001b[0m eta \u001b[36m0:00:00\u001b[0m\n",
            "\u001b[2K     \u001b[90m━━━━━━━━━━━━━━━━━━━━━━━━━━━━━━━━━━━━━━━━\u001b[0m \u001b[32m310.2/310.2 kB\u001b[0m \u001b[31m9.7 MB/s\u001b[0m eta \u001b[36m0:00:00\u001b[0m\n",
            "\u001b[2K     \u001b[90m━━━━━━━━━━━━━━━━━━━━━━━━━━━━━━━━━━━━━━━━\u001b[0m \u001b[32m320.7/320.7 kB\u001b[0m \u001b[31m8.6 MB/s\u001b[0m eta \u001b[36m0:00:00\u001b[0m\n",
            "\u001b[2K     \u001b[90m━━━━━━━━━━━━━━━━━━━━━━━━━━━━━━━━━━━━━━━━\u001b[0m \u001b[32m1.1/1.1 MB\u001b[0m \u001b[31m14.6 MB/s\u001b[0m eta \u001b[36m0:00:00\u001b[0m\n",
            "\u001b[2K     \u001b[90m━━━━━━━━━━━━━━━━━━━━━━━━━━━━━━━━━━━━━━━━\u001b[0m \u001b[32m973.5/973.5 kB\u001b[0m \u001b[31m24.3 MB/s\u001b[0m eta \u001b[36m0:00:00\u001b[0m\n",
            "\u001b[2K     \u001b[90m━━━━━━━━━━━━━━━━━━━━━━━━━━━━━━━━━━━━━━━━\u001b[0m \u001b[32m124.4/124.4 kB\u001b[0m \u001b[31m6.6 MB/s\u001b[0m eta \u001b[36m0:00:00\u001b[0m\n",
            "\u001b[2K     \u001b[90m━━━━━━━━━━━━━━━━━━━━━━━━━━━━━━━━━━━━━━━━\u001b[0m \u001b[32m49.3/49.3 kB\u001b[0m \u001b[31m2.9 MB/s\u001b[0m eta \u001b[36m0:00:00\u001b[0m\n",
            "\u001b[2K     \u001b[90m━━━━━━━━━━━━━━━━━━━━━━━━━━━━━━━━━━━━━━━━\u001b[0m \u001b[32m53.0/53.0 kB\u001b[0m \u001b[31m2.7 MB/s\u001b[0m eta \u001b[36m0:00:00\u001b[0m\n",
            "\u001b[2K     \u001b[90m━━━━━━━━━━━━━━━━━━━━━━━━━━━━━━━━━━━━━━━━\u001b[0m \u001b[32m142.5/142.5 kB\u001b[0m \u001b[31m1.5 MB/s\u001b[0m eta \u001b[36m0:00:00\u001b[0m\n",
            "\u001b[2K     \u001b[90m━━━━━━━━━━━━━━━━━━━━━━━━━━━━━━━━━━━━━━━━\u001b[0m \u001b[32m75.6/75.6 kB\u001b[0m \u001b[31m5.3 MB/s\u001b[0m eta \u001b[36m0:00:00\u001b[0m\n",
            "\u001b[2K     \u001b[90m━━━━━━━━━━━━━━━━━━━━━━━━━━━━━━━━━━━━━━━━\u001b[0m \u001b[32m77.9/77.9 kB\u001b[0m \u001b[31m3.8 MB/s\u001b[0m eta \u001b[36m0:00:00\u001b[0m\n",
            "\u001b[2K     \u001b[90m━━━━━━━━━━━━━━━━━━━━━━━━━━━━━━━━━━━━━━━━\u001b[0m \u001b[32m58.3/58.3 kB\u001b[0m \u001b[31m4.4 MB/s\u001b[0m eta \u001b[36m0:00:00\u001b[0m\n",
            "\u001b[?25h\n",
            "Usage:   \n",
            "  pip3 install [options] <requirement specifier> [package-index-options] ...\n",
            "  pip3 install [options] -r <requirements file> [package-index-options] ...\n",
            "  pip3 install [options] [-e] <vcs project url> ...\n",
            "  pip3 install [options] [-e] <local project path> ...\n",
            "  pip3 install [options] <archive url/path> ...\n",
            "\n",
            "no such option: -u\n"
          ]
        }
      ]
    },
    {
      "cell_type": "code",
      "source": [
        "from google.colab import drive\n",
        "drive.mount('/content/gdrive')"
      ],
      "metadata": {
        "colab": {
          "base_uri": "https://localhost:8080/"
        },
        "id": "RZ9bQosqpV5k",
        "outputId": "a657b456-9801-46a3-a876-2cc267d7b6e6"
      },
      "execution_count": 3,
      "outputs": [
        {
          "output_type": "stream",
          "name": "stdout",
          "text": [
            "Mounted at /content/gdrive\n"
          ]
        }
      ]
    },
    {
      "cell_type": "code",
      "source": [
        "open_ai_api =\"/content/gdrive/MyDrive/llm/api_key.txt\"\n",
        "f = open(open_ai_api)\n",
        "api_key = f.read()"
      ],
      "metadata": {
        "id": "__dZDI4qp9JP"
      },
      "execution_count": 4,
      "outputs": []
    },
    {
      "cell_type": "code",
      "source": [
        "os.environ['OPENAI_API_KEY'] = api_key"
      ],
      "metadata": {
        "id": "CQXfi3im9qIz"
      },
      "execution_count": 5,
      "outputs": []
    },
    {
      "cell_type": "markdown",
      "source": [
        "# LLM Chain Object"
      ],
      "metadata": {
        "id": "LXCf6PT9b_-U"
      }
    },
    {
      "cell_type": "code",
      "source": [
        "from langchain_openai import ChatOpenAI\n",
        "from langchain.prompts.chat import (\n",
        "    ChatPromptTemplate,\n",
        "    HumanMessagePromptTemplate,\n",
        ")"
      ],
      "metadata": {
        "id": "SlgYsy12K4Yw"
      },
      "execution_count": 6,
      "outputs": []
    },
    {
      "cell_type": "code",
      "source": [
        "human_message_prompt = HumanMessagePromptTemplate.from_template(\n",
        "        \"Make up a funny company name for a company that produces {product}\"\n",
        "    )"
      ],
      "metadata": {
        "id": "j3oBbm8CQCQ0"
      },
      "execution_count": 7,
      "outputs": []
    },
    {
      "cell_type": "code",
      "source": [
        "chat_prompt_template = ChatPromptTemplate.from_messages([human_message_prompt])"
      ],
      "metadata": {
        "id": "84flvMFCQEd_"
      },
      "execution_count": 8,
      "outputs": []
    },
    {
      "cell_type": "code",
      "source": [
        "chat = ChatOpenAI()"
      ],
      "metadata": {
        "id": "RZcBcI_UQHIF"
      },
      "execution_count": 9,
      "outputs": []
    },
    {
      "cell_type": "code",
      "source": [
        "chain = chat_prompt_template | chat"
      ],
      "metadata": {
        "id": "G5as58xyQKa4"
      },
      "execution_count": 10,
      "outputs": []
    },
    {
      "cell_type": "code",
      "source": [
        "chain"
      ],
      "metadata": {
        "id": "Ha2JVasiQNXs",
        "outputId": "3f7fd9f7-8051-4d85-ab9c-05a7f68d0f78",
        "colab": {
          "base_uri": "https://localhost:8080/"
        }
      },
      "execution_count": 11,
      "outputs": [
        {
          "output_type": "execute_result",
          "data": {
            "text/plain": [
              "ChatPromptTemplate(input_variables=['product'], messages=[HumanMessagePromptTemplate(prompt=PromptTemplate(input_variables=['product'], template='Make up a funny company name for a company that produces {product}'))])\n",
              "| ChatOpenAI(client=<openai.resources.chat.completions.Completions object at 0x7ba03ee9c2b0>, async_client=<openai.resources.chat.completions.AsyncCompletions object at 0x7ba03ee9d9c0>, openai_api_key=SecretStr('**********'), openai_proxy='')"
            ]
          },
          "metadata": {},
          "execution_count": 11
        }
      ]
    },
    {
      "cell_type": "code",
      "source": [
        "print(chain.invoke(input=\"Pets\").content)"
      ],
      "metadata": {
        "id": "VbR-rOz6QRh8",
        "outputId": "68c09448-2ea8-4d4b-bead-875c99fdad94",
        "colab": {
          "base_uri": "https://localhost:8080/"
        }
      },
      "execution_count": 12,
      "outputs": [
        {
          "output_type": "stream",
          "name": "stdout",
          "text": [
            "Furball Factory Co.\n"
          ]
        }
      ]
    },
    {
      "cell_type": "markdown",
      "source": [
        "## Simple Sequential Chain"
      ],
      "metadata": {
        "id": "6BGN_qjhRVdY"
      }
    },
    {
      "cell_type": "code",
      "source": [
        "from langchain_openai import ChatOpenAI\n",
        "from langchain.prompts import ChatPromptTemplate\n",
        "from langchain.chains import SimpleSequentialChain"
      ],
      "metadata": {
        "id": "qeHfRp-1RI2w"
      },
      "execution_count": 13,
      "outputs": []
    },
    {
      "cell_type": "code",
      "source": [
        "llm = ChatOpenAI()"
      ],
      "metadata": {
        "id": "z9Tu0TyOReBG"
      },
      "execution_count": 14,
      "outputs": []
    },
    {
      "cell_type": "code",
      "source": [
        "template = \"Give me a simple bullet point outline for a blog post on {topic}\"\n",
        "first_prompt = ChatPromptTemplate.from_template(template)\n",
        "chain_one = first_prompt|llm"
      ],
      "metadata": {
        "id": "zFZenEHaRfvE"
      },
      "execution_count": 15,
      "outputs": []
    },
    {
      "cell_type": "code",
      "source": [
        "template = \"Write a blog post using this outline: {outline}\"\n",
        "second_prompt = ChatPromptTemplate.from_template(template)\n",
        "chain_two = second_prompt|llm"
      ],
      "metadata": {
        "id": "67jsV_nARjl2"
      },
      "execution_count": 16,
      "outputs": []
    },
    {
      "cell_type": "code",
      "source": [
        "chain_one"
      ],
      "metadata": {
        "id": "skD3sWhnRl6X",
        "outputId": "747c3d71-ed72-48f7-b9cf-0b61e2c69f02",
        "colab": {
          "base_uri": "https://localhost:8080/"
        }
      },
      "execution_count": 17,
      "outputs": [
        {
          "output_type": "execute_result",
          "data": {
            "text/plain": [
              "ChatPromptTemplate(input_variables=['topic'], messages=[HumanMessagePromptTemplate(prompt=PromptTemplate(input_variables=['topic'], template='Give me a simple bullet point outline for a blog post on {topic}'))])\n",
              "| ChatOpenAI(client=<openai.resources.chat.completions.Completions object at 0x7ba03e0e4d90>, async_client=<openai.resources.chat.completions.AsyncCompletions object at 0x7ba03e0e64a0>, openai_api_key=SecretStr('**********'), openai_proxy='')"
            ]
          },
          "metadata": {},
          "execution_count": 17
        }
      ]
    },
    {
      "cell_type": "code",
      "source": [
        "chain_two"
      ],
      "metadata": {
        "id": "UVz8zKfhRpYT",
        "outputId": "1f44646d-5b12-451a-a079-64bdd5f85744",
        "colab": {
          "base_uri": "https://localhost:8080/"
        }
      },
      "execution_count": 18,
      "outputs": [
        {
          "output_type": "execute_result",
          "data": {
            "text/plain": [
              "ChatPromptTemplate(input_variables=['outline'], messages=[HumanMessagePromptTemplate(prompt=PromptTemplate(input_variables=['outline'], template='Write a blog post using this outline: {outline}'))])\n",
              "| ChatOpenAI(client=<openai.resources.chat.completions.Completions object at 0x7ba03e0e4d90>, async_client=<openai.resources.chat.completions.AsyncCompletions object at 0x7ba03e0e64a0>, openai_api_key=SecretStr('**********'), openai_proxy='')"
            ]
          },
          "metadata": {},
          "execution_count": 18
        }
      ]
    },
    {
      "cell_type": "code",
      "source": [
        "full_chain = chain_one|chain_two"
      ],
      "metadata": {
        "id": "S5fHsOOQRyQ1"
      },
      "execution_count": 19,
      "outputs": []
    },
    {
      "cell_type": "code",
      "source": [
        "result = full_chain.invoke(\"Astrology\")\n",
        "print(result.content)"
      ],
      "metadata": {
        "id": "fxH4Lle6RrIR",
        "outputId": "4ce2b602-8f16-4472-a793-688f6c285276",
        "colab": {
          "base_uri": "https://localhost:8080/"
        }
      },
      "execution_count": 20,
      "outputs": [
        {
          "output_type": "stream",
          "name": "stdout",
          "text": [
            "Astrology has been a fascinating and enduring practice for centuries, offering insights into our personalities, relationships, and the world around us. In this blog post, we'll explore the history of Astrology, the different zodiac signs, how Astrology is used and interpreted, common misconceptions, how to find your own zodiac sign and birth chart, and the impact of Astrology on daily life and relationships. Let's dive in!\n",
            "\n",
            "Introduction to Astrology\n",
            "\n",
            "Astrology is the belief that the positions and movements of celestial bodies can influence human affairs and natural events. It is often used as a tool for self-discovery, understanding others, and predicting future events. While some view Astrology as a science, others see it as a form of divination or entertainment.\n",
            "\n",
            "Brief history of Astrology\n",
            "\n",
            "Astrology has a long and varied history, with roots in ancient civilizations such as Mesopotamia, Egypt, and Greece. It was practiced by cultures around the world, from China to India to the Middle East. In the Western world, Astrology gained popularity during the Renaissance and Enlightenment periods, influencing art, literature, and politics.\n",
            "\n",
            "Explanation of the different zodiac signs\n",
            "\n",
            "The zodiac is divided into 12 signs, each representing a different personality type and set of characteristics. These signs are based on the position of the sun at the time of a person's birth. The signs are Aries, Taurus, Gemini, Cancer, Leo, Virgo, Libra, Scorpio, Sagittarius, Capricorn, Aquarius, and Pisces.\n",
            "\n",
            "Overview of how Astrology is used and interpreted\n",
            "\n",
            "Astrology is used in a variety of ways, from daily horoscopes in newspapers to more in-depth readings by professional astrologers. It can be used to gain insights into one's personality, relationships, career, and future prospects. Astrologers interpret the positions of the planets and stars to create personalized readings for individuals.\n",
            "\n",
            "Common misconceptions about Astrology\n",
            "\n",
            "One common misconception about Astrology is that it is solely based on sun signs. In reality, a birth chart, which takes into account the positions of all the planets at the time of a person's birth, provides a more accurate and detailed picture of an individual's personality and life path. Another misconception is that Astrology is deterministic, when in fact it is meant to be a tool for self-awareness and growth.\n",
            "\n",
            "How to find your own zodiac sign and birth chart\n",
            "\n",
            "To find your zodiac sign, simply input your birth date into an online calculator or consult a zodiac chart. To create a birth chart, you will need your birth date, time, and location. Many websites offer free birth chart calculators that can provide you with a detailed analysis of your astrological profile.\n",
            "\n",
            "The impact of Astrology on daily life and relationships\n",
            "\n",
            "Astrology can have a profound impact on how we navigate our daily lives and relationships. By understanding our own strengths and weaknesses, as well as those of others, we can improve communication, empathy, and overall well-being. Astrology can also provide guidance on important life decisions and help us align with our true purpose.\n",
            "\n",
            "Conclusion and final thoughts on the significance of Astrology in modern society\n",
            "\n",
            "While Astrology may not be a science in the traditional sense, it continues to hold a special place in our society as a tool for self-reflection, understanding others, and finding meaning in the chaos of life. Whether you're a skeptic or a believer, exploring Astrology can offer valuable insights into yourself and the world around you. So why not give it a try and see what the stars have to say about you?\n"
          ]
        }
      ]
    },
    {
      "cell_type": "code",
      "source": [],
      "metadata": {
        "id": "4SomrobJR1NZ"
      },
      "execution_count": null,
      "outputs": []
    }
  ]
}