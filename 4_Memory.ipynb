{
  "nbformat": 4,
  "nbformat_minor": 0,
  "metadata": {
    "colab": {
      "provenance": [],
      "authorship_tag": "ABX9TyOkh+FR80D1ZhQnpHvytKE6",
      "include_colab_link": true
    },
    "kernelspec": {
      "name": "python3",
      "display_name": "Python 3"
    },
    "language_info": {
      "name": "python"
    }
  },
  "cells": [
    {
      "cell_type": "markdown",
      "metadata": {
        "id": "view-in-github",
        "colab_type": "text"
      },
      "source": [
        "<a href=\"https://colab.research.google.com/github/gc2321/LangChain-Python/blob/main/4_Memory.ipynb\" target=\"_parent\"><img src=\"https://colab.research.google.com/assets/colab-badge.svg\" alt=\"Open In Colab\"/></a>"
      ]
    },
    {
      "cell_type": "code",
      "source": [
        "import os"
      ],
      "metadata": {
        "id": "0rhqmgDGfXS4"
      },
      "execution_count": 1,
      "outputs": []
    },
    {
      "cell_type": "code",
      "source": [
        "!pip install --upgrade --quiet langchain-openai langchain-community\n",
        "!pip install -quiet openai"
      ],
      "metadata": {
        "colab": {
          "base_uri": "https://localhost:8080/"
        },
        "id": "zWtxT39ffGb6",
        "outputId": "62dbef31-f750-42ad-a1ff-319a708e8dab"
      },
      "execution_count": 2,
      "outputs": [
        {
          "output_type": "stream",
          "name": "stdout",
          "text": [
            "\u001b[2K     \u001b[90m━━━━━━━━━━━━━━━━━━━━━━━━━━━━━━━━━━━━━━━━\u001b[0m \u001b[32m2.1/2.1 MB\u001b[0m \u001b[31m14.3 MB/s\u001b[0m eta \u001b[36m0:00:00\u001b[0m\n",
            "\u001b[2K     \u001b[90m━━━━━━━━━━━━━━━━━━━━━━━━━━━━━━━━━━━━━━━━\u001b[0m \u001b[32m310.2/310.2 kB\u001b[0m \u001b[31m22.6 MB/s\u001b[0m eta \u001b[36m0:00:00\u001b[0m\n",
            "\u001b[2K     \u001b[90m━━━━━━━━━━━━━━━━━━━━━━━━━━━━━━━━━━━━━━━━\u001b[0m \u001b[32m320.7/320.7 kB\u001b[0m \u001b[31m24.0 MB/s\u001b[0m eta \u001b[36m0:00:00\u001b[0m\n",
            "\u001b[2K     \u001b[90m━━━━━━━━━━━━━━━━━━━━━━━━━━━━━━━━━━━━━━━━\u001b[0m \u001b[32m1.1/1.1 MB\u001b[0m \u001b[31m36.9 MB/s\u001b[0m eta \u001b[36m0:00:00\u001b[0m\n",
            "\u001b[2K     \u001b[90m━━━━━━━━━━━━━━━━━━━━━━━━━━━━━━━━━━━━━━━━\u001b[0m \u001b[32m973.5/973.5 kB\u001b[0m \u001b[31m40.1 MB/s\u001b[0m eta \u001b[36m0:00:00\u001b[0m\n",
            "\u001b[2K     \u001b[90m━━━━━━━━━━━━━━━━━━━━━━━━━━━━━━━━━━━━━━━━\u001b[0m \u001b[32m124.4/124.4 kB\u001b[0m \u001b[31m9.8 MB/s\u001b[0m eta \u001b[36m0:00:00\u001b[0m\n",
            "\u001b[2K     \u001b[90m━━━━━━━━━━━━━━━━━━━━━━━━━━━━━━━━━━━━━━━━\u001b[0m \u001b[32m49.3/49.3 kB\u001b[0m \u001b[31m3.8 MB/s\u001b[0m eta \u001b[36m0:00:00\u001b[0m\n",
            "\u001b[2K     \u001b[90m━━━━━━━━━━━━━━━━━━━━━━━━━━━━━━━━━━━━━━━━\u001b[0m \u001b[32m53.0/53.0 kB\u001b[0m \u001b[31m5.5 MB/s\u001b[0m eta \u001b[36m0:00:00\u001b[0m\n",
            "\u001b[2K     \u001b[90m━━━━━━━━━━━━━━━━━━━━━━━━━━━━━━━━━━━━━━━━\u001b[0m \u001b[32m142.5/142.5 kB\u001b[0m \u001b[31m3.4 MB/s\u001b[0m eta \u001b[36m0:00:00\u001b[0m\n",
            "\u001b[2K     \u001b[90m━━━━━━━━━━━━━━━━━━━━━━━━━━━━━━━━━━━━━━━━\u001b[0m \u001b[32m75.6/75.6 kB\u001b[0m \u001b[31m5.1 MB/s\u001b[0m eta \u001b[36m0:00:00\u001b[0m\n",
            "\u001b[2K     \u001b[90m━━━━━━━━━━━━━━━━━━━━━━━━━━━━━━━━━━━━━━━━\u001b[0m \u001b[32m77.9/77.9 kB\u001b[0m \u001b[31m5.8 MB/s\u001b[0m eta \u001b[36m0:00:00\u001b[0m\n",
            "\u001b[2K     \u001b[90m━━━━━━━━━━━━━━━━━━━━━━━━━━━━━━━━━━━━━━━━\u001b[0m \u001b[32m58.3/58.3 kB\u001b[0m \u001b[31m4.0 MB/s\u001b[0m eta \u001b[36m0:00:00\u001b[0m\n",
            "\u001b[?25h\n",
            "Usage:   \n",
            "  pip3 install [options] <requirement specifier> [package-index-options] ...\n",
            "  pip3 install [options] -r <requirements file> [package-index-options] ...\n",
            "  pip3 install [options] [-e] <vcs project url> ...\n",
            "  pip3 install [options] [-e] <local project path> ...\n",
            "  pip3 install [options] <archive url/path> ...\n",
            "\n",
            "no such option: -u\n"
          ]
        }
      ]
    },
    {
      "cell_type": "code",
      "source": [
        "from google.colab import drive\n",
        "drive.mount('/content/gdrive')"
      ],
      "metadata": {
        "colab": {
          "base_uri": "https://localhost:8080/"
        },
        "id": "RZ9bQosqpV5k",
        "outputId": "74a70eac-6709-47a8-8485-5c4a2fc05964"
      },
      "execution_count": 3,
      "outputs": [
        {
          "output_type": "stream",
          "name": "stdout",
          "text": [
            "Mounted at /content/gdrive\n"
          ]
        }
      ]
    },
    {
      "cell_type": "code",
      "source": [
        "open_ai_api =\"/content/gdrive/MyDrive/llm/api_key.txt\"\n",
        "f = open(open_ai_api)\n",
        "api_key = f.read()"
      ],
      "metadata": {
        "id": "__dZDI4qp9JP"
      },
      "execution_count": 4,
      "outputs": []
    },
    {
      "cell_type": "code",
      "source": [
        "os.environ['OPENAI_API_KEY'] = api_key"
      ],
      "metadata": {
        "id": "CQXfi3im9qIz"
      },
      "execution_count": 5,
      "outputs": []
    },
    {
      "cell_type": "markdown",
      "source": [
        "### Read Email"
      ],
      "metadata": {
        "id": "jyIn-cFDPsn2"
      }
    },
    {
      "cell_type": "code",
      "source": [
        "path = \"/content/gdrive/MyDrive/llm/langchain/some_data/spanish_customer_email.txt\""
      ],
      "metadata": {
        "id": "Noxa9za_Pv7f"
      },
      "execution_count": 6,
      "outputs": []
    },
    {
      "cell_type": "code",
      "source": [
        "# Open the file with the correct encoding\n",
        "with open(path, 'r', encoding='latin-1') as f:\n",
        "    spanish_email = f.read()"
      ],
      "metadata": {
        "id": "_pMwmjKMQIkK"
      },
      "execution_count": 10,
      "outputs": []
    },
    {
      "cell_type": "code",
      "source": [
        "print(spanish_email)"
      ],
      "metadata": {
        "colab": {
          "base_uri": "https://localhost:8080/"
        },
        "id": "fjZREhN8QLOR",
        "outputId": "2ef2b04d-4437-4709-dad5-a3f5e966f7de"
      },
      "execution_count": 11,
      "outputs": [
        {
          "output_type": "stream",
          "name": "stdout",
          "text": [
            "Asunto: Reporte de Problemas Técnicos - Funcionalidad del Panel SAAS\n",
            "\n",
            "Estimado Equipo de Soporte al Cliente,\n",
            "\n",
            "Espero que este mensaje les encuentre bien. Les escribo para informarles sobre un problema técnico que he encontrado mientras utilizo su producto de panel SAAS. Como cliente leal, aprecio el valor que su producto aporta a mi negocio, pero actualmente me enfrento a un desafío que requiere su experiencia.\n",
            "\n",
            "Me gustaría describir detalladamente el problema que estoy experimentando:\n",
            "\n",
            "1. Problema Gráfico: Al iniciar sesión en el panel SAAS, he notado que los gráficos y las tablas en la página principal del panel no se renderizan correctamente. Los puntos de datos aparecen distorsionados y algunos elementos se superponen, lo que dificulta la interpretación precisa de la información.\n",
            "\n",
            "2. Fallo en la Función de Exportación: Además, no he podido exportar informes y datos desde el panel. Cada vez que intento exportar un informe en formato CSV o PDF, recibo un mensaje de error que indica que la exportación ha fallado. Esta funcionalidad es crucial para compartir información con mi equipo y partes interesadas externas, por lo que es imperativo que se resuelva rápidamente.\n",
            "\n",
            "3. Lentitud en la Carga: Durante la última semana, he notado una disminución significativa en la velocidad de carga del panel SAAS. Las páginas tardan un tiempo inusualmente largo en cargarse, lo que afecta mi productividad y genera frustración. Tengo una conexión a internet confiable, por lo que creo que el problema radica en el panel mismo.\n",
            "\n",
            "Ya he realizado los siguientes pasos para solucionar el problema:\n",
            "\n",
            "1. Limpieza de Cache: Limpié la memoria caché y las cookies de mi navegador para asegurarme de que los datos desactualizados no estén causando conflictos. Sin embargo, los problemas persisten incluso después de realizar esta acción.\n",
            "\n",
            "2. Varios Navegadores: Probé el panel SAAS en diferentes navegadores web (Chrome, Firefox y Safari) para determinar si el problema era específico del navegador. Desafortunadamente, los problemas gráficos, los fallos en la exportación y la lentitud en la carga persistieron en todos los navegadores.\n",
            "\n",
            "Les solicito amablemente su ayuda para resolver estos problemas, ya que están obstaculizando mi capacidad de aprovechar todo el potencial de su panel SAAS. Aquí están las acciones específicas que agradecería:\n",
            "\n",
            "1. Solución para Problemas Gráficos: Por favor, investiguen y corrijan los problemas gráficos presentes en la página principal del panel para garantizar una visualización precisa de los datos.\n",
            "\n",
            "2. Solución para la Función de Exportación: Identifiquen y solucionen el problema con la exportación de informes en formatos CSV y PDF, permitiéndome compartir datos con mi equipo y partes interesadas de manera fluida.\n",
            "\n",
            "3. Optimización del Rendimiento: Por favor, aborden la lentitud en la carga del panel SAAS para mejorar la experiencia general del usuario y aumentar la productividad.\n",
            "\n",
            "Entiendo que los problemas técnicos pueden surgir de vez en cuando y aprecio su pronta atención a este asunto. Si requieren información adicional o ayuda de mi parte, no duden en contactarme. Espero su pronta respuesta y una pronta resolución a estos desafíos.\n",
            "\n",
            "Gracias por su comprensión y apoyo.\n",
            "\n",
            "Atentamente,\n",
            "\n",
            "María Rodríguez\n",
            "ID de Cliente: 123456789\n",
            "Información de la Cuenta: Empresa Ejemplo S.A.\n"
          ]
        }
      ]
    },
    {
      "cell_type": "code",
      "source": [
        "from langchain_openai import ChatOpenAI\n",
        "from langchain.prompts import ChatPromptTemplate"
      ],
      "metadata": {
        "id": "vp7CsoQQQayH"
      },
      "execution_count": 12,
      "outputs": []
    },
    {
      "cell_type": "code",
      "source": [
        "def translate_and_summarize(email):\n",
        "    \"\"\"\n",
        "    Translates an email written in a detected language to English and generates a summary.\n",
        "\n",
        "    Args:\n",
        "        email (str): The email to be processed and translated.\n",
        "\n",
        "    Returns:\n",
        "        dict: A dictionary containing the following keys:\n",
        "            - 'language': The language the email was written in.\n",
        "            - 'translated_email': The translated version of the email in English.\n",
        "            - 'summary': A short summary of the translated email.\n",
        "\n",
        "    Raises:\n",
        "        Exception: If any error occurs during the LLM chain execution.\n",
        "\n",
        "    Example:\n",
        "        email = \"Hola, ¿cómo estás? Espero que todo vaya bien.\"\n",
        "        result = translate_and_summarize(email)\n",
        "        print(result)\n",
        "        # Output:\n",
        "        # {\n",
        "        #     'language': 'Spanish',\n",
        "        #     'translated_email': 'Hello, how are you? I hope everything is going well.',\n",
        "        #     'summary': 'A friendly greeting and a wish for well-being.'\n",
        "        # }\n",
        "    \"\"\"\n",
        "    # Create Model\n",
        "    llm = ChatOpenAI()\n",
        "\n",
        "    # CREATE A CHAIN THAT DOES THE FOLLOWING:\n",
        "\n",
        "    # Detect Language\n",
        "    template1 = \"Return the language this email is written in:\\n{email}.\\nONLY return the language it was written in.\"\n",
        "    prompt1 = ChatPromptTemplate.from_template(template1)\n",
        "    chain_1 = prompt1|llm\n",
        "\n",
        "    # Translate from detected language to English\n",
        "    template2 = \"Translate this email from {language} to English. Here is the email:\\n\"+email\n",
        "    prompt2 = ChatPromptTemplate.from_template(template2)\n",
        "    chain_2 = prompt2|llm\n",
        "\n",
        "    # Return English Summary AND the Translated Email\n",
        "    template3 = \"Create a short summary of this email:\\n{translated_email}\"\n",
        "    prompt3 = ChatPromptTemplate.from_template(template3)\n",
        "    chain_3 = prompt3|llm\n",
        "\n",
        "    language_chain = chain_1\n",
        "    translation_chain = language_chain|chain_2\n",
        "    seq_chain = translation_chain|chain_3\n",
        "\n",
        "    return language_chain.invoke(email), translation_chain.invoke(email), seq_chain.invoke(email)"
      ],
      "metadata": {
        "id": "oXZXj7WGQh1M"
      },
      "execution_count": 13,
      "outputs": []
    },
    {
      "cell_type": "code",
      "source": [
        "result = translate_and_summarize(spanish_email)"
      ],
      "metadata": {
        "id": "hBY2MBclQnvN"
      },
      "execution_count": 14,
      "outputs": []
    },
    {
      "cell_type": "code",
      "source": [
        "result"
      ],
      "metadata": {
        "colab": {
          "base_uri": "https://localhost:8080/"
        },
        "id": "FlNt22WTQ6h5",
        "outputId": "c9fa04c0-e470-4629-fb88-676495d46ef8"
      },
      "execution_count": 15,
      "outputs": [
        {
          "output_type": "execute_result",
          "data": {
            "text/plain": [
              "(AIMessage(content='Spanish', response_metadata={'token_usage': {'completion_tokens': 1, 'prompt_tokens': 826, 'total_tokens': 827}, 'model_name': 'gpt-3.5-turbo', 'system_fingerprint': None, 'finish_reason': 'stop', 'logprobs': None}, id='run-1297bbc8-ae3e-474a-8226-f0f59e25f445-0', usage_metadata={'input_tokens': 826, 'output_tokens': 1, 'total_tokens': 827}),\n",
              " AIMessage(content=\"Subject: Technical Issues Report - SAAS Panel Functionality\\n\\nDear Customer Support Team,\\n\\nI hope this message finds you well. I am writing to inform you about a technical issue I have encountered while using your SAAS panel product. As a loyal customer, I appreciate the value your product brings to my business, but I am currently facing a challenge that requires your expertise.\\n\\nI would like to describe in detail the problem I am experiencing:\\n\\n1. Graphic Issue: When logging into the SAAS panel, I have noticed that the graphs and tables on the main panel page are not rendering correctly. Data points appear distorted and some elements overlap, making it difficult to accurately interpret the information.\\n\\n2. Export Function Failure: Additionally, I have been unable to export reports and data from the panel. Every time I try to export a report in CSV or PDF format, I receive an error message indicating that the export has failed. This functionality is crucial for sharing information with my team and external stakeholders, so it is imperative that this is resolved quickly.\\n\\n3. Slow Loading: Over the past week, I have noticed a significant decrease in the loading speed of the SAAS panel. Pages take an unusually long time to load, affecting my productivity and causing frustration. I have a reliable internet connection, so I believe the issue lies within the panel itself.\\n\\nI have already taken the following steps to troubleshoot the issue:\\n\\n1. Cache Clearing: I cleared my browser's cache and cookies to ensure that outdated data is not causing conflicts. However, the issues persist even after taking this action.\\n\\n2. Multiple Browsers: I tried the SAAS panel on different web browsers (Chrome, Firefox, and Safari) to determine if the issue was browser-specific. Unfortunately, the graphic issues, export failures, and slow loading persisted on all browsers.\\n\\nI kindly request your assistance in resolving these issues, as they are hindering my ability to fully leverage the potential of your SAAS panel. Here are the specific actions I would appreciate:\\n\\n1. Graphic Issues Solution: Please investigate and correct the graphic issues on the main panel page to ensure accurate data visualization.\\n\\n2. Export Function Solution: Identify and resolve the problem with exporting reports in CSV and PDF formats, allowing me to smoothly share data with my team and stakeholders.\\n\\n3. Performance Optimization: Please address the slow loading of the SAAS panel to improve the overall user experience and increase productivity.\\n\\nI understand that technical issues can arise from time to time and appreciate your prompt attention to this matter. If you require additional information or assistance from me, please do not hesitate to contact me. I look forward to your prompt response and a swift resolution to these challenges.\\n\\nThank you for your understanding and support.\\n\\nSincerely,\\n\\nMaria Rodriguez\\nCustomer ID: 123456789\\nAccount Information: Example Company S.A.\", response_metadata={'token_usage': {'completion_tokens': 566, 'prompt_tokens': 939, 'total_tokens': 1505}, 'model_name': 'gpt-3.5-turbo', 'system_fingerprint': None, 'finish_reason': 'stop', 'logprobs': None}, id='run-b40f546a-49d1-4f6c-85ca-34f7e9d2379e-0', usage_metadata={'input_tokens': 939, 'output_tokens': 566, 'total_tokens': 1505}),\n",
              " AIMessage(content='This email outlines technical issues with a SAAS panel product, including graphical rendering problems, export function failures, and slow loading speeds. The customer has already attempted troubleshooting steps and requests assistance from the customer support team to resolve these issues promptly. They provide specific actions they would like to see taken to improve the functionality of the SAAS panel.', response_metadata={'token_usage': {'completion_tokens': 67, 'prompt_tokens': 739, 'total_tokens': 806}, 'model_name': 'gpt-3.5-turbo', 'system_fingerprint': None, 'finish_reason': 'stop', 'logprobs': None}, id='run-d423672b-caea-487f-91e0-6a41f09932a1-0', usage_metadata={'input_tokens': 739, 'output_tokens': 67, 'total_tokens': 806}))"
            ]
          },
          "metadata": {},
          "execution_count": 15
        }
      ]
    },
    {
      "cell_type": "code",
      "source": [
        "result[0]"
      ],
      "metadata": {
        "colab": {
          "base_uri": "https://localhost:8080/"
        },
        "id": "e672CYmKRAV0",
        "outputId": "0eda23b6-267e-4f7d-ecfe-f39b767ff353"
      },
      "execution_count": 16,
      "outputs": [
        {
          "output_type": "execute_result",
          "data": {
            "text/plain": [
              "AIMessage(content='Spanish', response_metadata={'token_usage': {'completion_tokens': 1, 'prompt_tokens': 826, 'total_tokens': 827}, 'model_name': 'gpt-3.5-turbo', 'system_fingerprint': None, 'finish_reason': 'stop', 'logprobs': None}, id='run-1297bbc8-ae3e-474a-8226-f0f59e25f445-0', usage_metadata={'input_tokens': 826, 'output_tokens': 1, 'total_tokens': 827})"
            ]
          },
          "metadata": {},
          "execution_count": 16
        }
      ]
    },
    {
      "cell_type": "code",
      "source": [
        "result[1]"
      ],
      "metadata": {
        "colab": {
          "base_uri": "https://localhost:8080/"
        },
        "id": "iLh0MiiHRCZ2",
        "outputId": "cdbb2bfd-d6bf-4c9a-fcd9-e2639edb1780"
      },
      "execution_count": 17,
      "outputs": [
        {
          "output_type": "execute_result",
          "data": {
            "text/plain": [
              "AIMessage(content=\"Subject: Technical Issues Report - SAAS Panel Functionality\\n\\nDear Customer Support Team,\\n\\nI hope this message finds you well. I am writing to inform you about a technical issue I have encountered while using your SAAS panel product. As a loyal customer, I appreciate the value your product brings to my business, but I am currently facing a challenge that requires your expertise.\\n\\nI would like to describe in detail the problem I am experiencing:\\n\\n1. Graphic Issue: When logging into the SAAS panel, I have noticed that the graphs and tables on the main panel page are not rendering correctly. Data points appear distorted and some elements overlap, making it difficult to accurately interpret the information.\\n\\n2. Export Function Failure: Additionally, I have been unable to export reports and data from the panel. Every time I try to export a report in CSV or PDF format, I receive an error message indicating that the export has failed. This functionality is crucial for sharing information with my team and external stakeholders, so it is imperative that this is resolved quickly.\\n\\n3. Slow Loading: Over the past week, I have noticed a significant decrease in the loading speed of the SAAS panel. Pages take an unusually long time to load, affecting my productivity and causing frustration. I have a reliable internet connection, so I believe the issue lies within the panel itself.\\n\\nI have already taken the following steps to troubleshoot the issue:\\n\\n1. Cache Clearing: I cleared my browser's cache and cookies to ensure that outdated data is not causing conflicts. However, the issues persist even after taking this action.\\n\\n2. Multiple Browsers: I tried the SAAS panel on different web browsers (Chrome, Firefox, and Safari) to determine if the issue was browser-specific. Unfortunately, the graphic issues, export failures, and slow loading persisted on all browsers.\\n\\nI kindly request your assistance in resolving these issues, as they are hindering my ability to fully leverage the potential of your SAAS panel. Here are the specific actions I would appreciate:\\n\\n1. Graphic Issues Solution: Please investigate and correct the graphic issues on the main panel page to ensure accurate data visualization.\\n\\n2. Export Function Solution: Identify and resolve the problem with exporting reports in CSV and PDF formats, allowing me to smoothly share data with my team and stakeholders.\\n\\n3. Performance Optimization: Please address the slow loading of the SAAS panel to improve the overall user experience and increase productivity.\\n\\nI understand that technical issues can arise from time to time and appreciate your prompt attention to this matter. If you require additional information or assistance from me, please do not hesitate to contact me. I look forward to your prompt response and a swift resolution to these challenges.\\n\\nThank you for your understanding and support.\\n\\nSincerely,\\n\\nMaria Rodriguez\\nCustomer ID: 123456789\\nAccount Information: Example Company S.A.\", response_metadata={'token_usage': {'completion_tokens': 566, 'prompt_tokens': 939, 'total_tokens': 1505}, 'model_name': 'gpt-3.5-turbo', 'system_fingerprint': None, 'finish_reason': 'stop', 'logprobs': None}, id='run-b40f546a-49d1-4f6c-85ca-34f7e9d2379e-0', usage_metadata={'input_tokens': 939, 'output_tokens': 566, 'total_tokens': 1505})"
            ]
          },
          "metadata": {},
          "execution_count": 17
        }
      ]
    },
    {
      "cell_type": "code",
      "source": [
        "result[2]"
      ],
      "metadata": {
        "colab": {
          "base_uri": "https://localhost:8080/"
        },
        "id": "CtxFfWOvRFFR",
        "outputId": "01b265bb-c7b6-49f2-eae0-d45c7805d10c"
      },
      "execution_count": 18,
      "outputs": [
        {
          "output_type": "execute_result",
          "data": {
            "text/plain": [
              "AIMessage(content='This email outlines technical issues with a SAAS panel product, including graphical rendering problems, export function failures, and slow loading speeds. The customer has already attempted troubleshooting steps and requests assistance from the customer support team to resolve these issues promptly. They provide specific actions they would like to see taken to improve the functionality of the SAAS panel.', response_metadata={'token_usage': {'completion_tokens': 67, 'prompt_tokens': 739, 'total_tokens': 806}, 'model_name': 'gpt-3.5-turbo', 'system_fingerprint': None, 'finish_reason': 'stop', 'logprobs': None}, id='run-d423672b-caea-487f-91e0-6a41f09932a1-0', usage_metadata={'input_tokens': 739, 'output_tokens': 67, 'total_tokens': 806})"
            ]
          },
          "metadata": {},
          "execution_count": 18
        }
      ]
    },
    {
      "cell_type": "code",
      "source": [],
      "metadata": {
        "id": "WIRMRArfRIZo"
      },
      "execution_count": null,
      "outputs": []
    }
  ]
}