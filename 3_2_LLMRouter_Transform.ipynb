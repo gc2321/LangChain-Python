{
  "nbformat": 4,
  "nbformat_minor": 0,
  "metadata": {
    "colab": {
      "provenance": [],
      "authorship_tag": "ABX9TyPEiWq468PqISHRdLZzPeTE",
      "include_colab_link": true
    },
    "kernelspec": {
      "name": "python3",
      "display_name": "Python 3"
    },
    "language_info": {
      "name": "python"
    }
  },
  "cells": [
    {
      "cell_type": "markdown",
      "metadata": {
        "id": "view-in-github",
        "colab_type": "text"
      },
      "source": [
        "<a href=\"https://colab.research.google.com/github/gc2321/LangChain-Python/blob/main/3_2_LLMRouter_Transform.ipynb\" target=\"_parent\"><img src=\"https://colab.research.google.com/assets/colab-badge.svg\" alt=\"Open In Colab\"/></a>"
      ]
    },
    {
      "cell_type": "code",
      "source": [
        "import os"
      ],
      "metadata": {
        "id": "0rhqmgDGfXS4"
      },
      "execution_count": 2,
      "outputs": []
    },
    {
      "cell_type": "code",
      "source": [
        "!pip install --upgrade --quiet langchain-openai langchain-community\n",
        "!pip install -quiet openai"
      ],
      "metadata": {
        "colab": {
          "base_uri": "https://localhost:8080/"
        },
        "id": "zWtxT39ffGb6",
        "outputId": "55fa1893-3e3f-4184-81ed-d6717f6c69d2"
      },
      "execution_count": 1,
      "outputs": [
        {
          "output_type": "stream",
          "name": "stdout",
          "text": [
            "\u001b[2K     \u001b[90m━━━━━━━━━━━━━━━━━━━━━━━━━━━━━━━━━━━━━━━━\u001b[0m \u001b[32m2.1/2.1 MB\u001b[0m \u001b[31m20.9 MB/s\u001b[0m eta \u001b[36m0:00:00\u001b[0m\n",
            "\u001b[2K     \u001b[90m━━━━━━━━━━━━━━━━━━━━━━━━━━━━━━━━━━━━━━━━\u001b[0m \u001b[32m310.2/310.2 kB\u001b[0m \u001b[31m15.7 MB/s\u001b[0m eta \u001b[36m0:00:00\u001b[0m\n",
            "\u001b[2K     \u001b[90m━━━━━━━━━━━━━━━━━━━━━━━━━━━━━━━━━━━━━━━━\u001b[0m \u001b[32m320.7/320.7 kB\u001b[0m \u001b[31m14.4 MB/s\u001b[0m eta \u001b[36m0:00:00\u001b[0m\n",
            "\u001b[2K     \u001b[90m━━━━━━━━━━━━━━━━━━━━━━━━━━━━━━━━━━━━━━━━\u001b[0m \u001b[32m1.1/1.1 MB\u001b[0m \u001b[31m32.1 MB/s\u001b[0m eta \u001b[36m0:00:00\u001b[0m\n",
            "\u001b[2K     \u001b[90m━━━━━━━━━━━━━━━━━━━━━━━━━━━━━━━━━━━━━━━━\u001b[0m \u001b[32m973.5/973.5 kB\u001b[0m \u001b[31m15.4 MB/s\u001b[0m eta \u001b[36m0:00:00\u001b[0m\n",
            "\u001b[2K     \u001b[90m━━━━━━━━━━━━━━━━━━━━━━━━━━━━━━━━━━━━━━━━\u001b[0m \u001b[32m124.4/124.4 kB\u001b[0m \u001b[31m2.8 MB/s\u001b[0m eta \u001b[36m0:00:00\u001b[0m\n",
            "\u001b[2K     \u001b[90m━━━━━━━━━━━━━━━━━━━━━━━━━━━━━━━━━━━━━━━━\u001b[0m \u001b[32m49.3/49.3 kB\u001b[0m \u001b[31m1.3 MB/s\u001b[0m eta \u001b[36m0:00:00\u001b[0m\n",
            "\u001b[2K     \u001b[90m━━━━━━━━━━━━━━━━━━━━━━━━━━━━━━━━━━━━━━━━\u001b[0m \u001b[32m53.0/53.0 kB\u001b[0m \u001b[31m2.6 MB/s\u001b[0m eta \u001b[36m0:00:00\u001b[0m\n",
            "\u001b[2K     \u001b[90m━━━━━━━━━━━━━━━━━━━━━━━━━━━━━━━━━━━━━━━━\u001b[0m \u001b[32m142.5/142.5 kB\u001b[0m \u001b[31m3.4 MB/s\u001b[0m eta \u001b[36m0:00:00\u001b[0m\n",
            "\u001b[2K     \u001b[90m━━━━━━━━━━━━━━━━━━━━━━━━━━━━━━━━━━━━━━━━\u001b[0m \u001b[32m75.6/75.6 kB\u001b[0m \u001b[31m5.5 MB/s\u001b[0m eta \u001b[36m0:00:00\u001b[0m\n",
            "\u001b[2K     \u001b[90m━━━━━━━━━━━━━━━━━━━━━━━━━━━━━━━━━━━━━━━━\u001b[0m \u001b[32m77.9/77.9 kB\u001b[0m \u001b[31m5.9 MB/s\u001b[0m eta \u001b[36m0:00:00\u001b[0m\n",
            "\u001b[2K     \u001b[90m━━━━━━━━━━━━━━━━━━━━━━━━━━━━━━━━━━━━━━━━\u001b[0m \u001b[32m58.3/58.3 kB\u001b[0m \u001b[31m4.1 MB/s\u001b[0m eta \u001b[36m0:00:00\u001b[0m\n",
            "\u001b[?25h\n",
            "Usage:   \n",
            "  pip3 install [options] <requirement specifier> [package-index-options] ...\n",
            "  pip3 install [options] -r <requirements file> [package-index-options] ...\n",
            "  pip3 install [options] [-e] <vcs project url> ...\n",
            "  pip3 install [options] [-e] <local project path> ...\n",
            "  pip3 install [options] <archive url/path> ...\n",
            "\n",
            "no such option: -u\n"
          ]
        }
      ]
    },
    {
      "cell_type": "code",
      "source": [
        "from google.colab import drive\n",
        "drive.mount('/content/gdrive')"
      ],
      "metadata": {
        "colab": {
          "base_uri": "https://localhost:8080/"
        },
        "id": "RZ9bQosqpV5k",
        "outputId": "073b5b52-2811-4ebd-e217-aac67da4924c"
      },
      "execution_count": 3,
      "outputs": [
        {
          "output_type": "stream",
          "name": "stdout",
          "text": [
            "Mounted at /content/gdrive\n"
          ]
        }
      ]
    },
    {
      "cell_type": "code",
      "source": [
        "open_ai_api =\"/content/gdrive/MyDrive/llm/api_key.txt\"\n",
        "f = open(open_ai_api)\n",
        "api_key = f.read()"
      ],
      "metadata": {
        "id": "__dZDI4qp9JP"
      },
      "execution_count": 4,
      "outputs": []
    },
    {
      "cell_type": "code",
      "source": [
        "os.environ['OPENAI_API_KEY'] = api_key"
      ],
      "metadata": {
        "id": "CQXfi3im9qIz"
      },
      "execution_count": 5,
      "outputs": []
    },
    {
      "cell_type": "markdown",
      "source": [
        "# LLM Router Chain"
      ],
      "metadata": {
        "id": "LXCf6PT9b_-U"
      }
    },
    {
      "cell_type": "markdown",
      "source": [
        "### Rout Template"
      ],
      "metadata": {
        "id": "OpUzEMItU2OT"
      }
    },
    {
      "cell_type": "code",
      "source": [
        "beginner_template = '''You are a physics teacher who is really\n",
        "focused on beginners and explaining complex topics in simple to understand terms.\n",
        "You assume no prior knowledge. Here is the question\\n{input}'''"
      ],
      "metadata": {
        "id": "SlgYsy12K4Yw"
      },
      "execution_count": 6,
      "outputs": []
    },
    {
      "cell_type": "code",
      "source": [
        "expert_template = '''You are a world expert physics professor who explains physics topics\n",
        "to advanced audience members. You can assume anyone you answer has a\n",
        "PhD level understanding of Physics. Here is the question\\n{input}'''"
      ],
      "metadata": {
        "id": "j3oBbm8CQCQ0"
      },
      "execution_count": 7,
      "outputs": []
    },
    {
      "cell_type": "code",
      "source": [
        "empty_template = 'empty'"
      ],
      "metadata": {
        "id": "sP8xRR6pU_uY"
      },
      "execution_count": 9,
      "outputs": []
    },
    {
      "cell_type": "markdown",
      "source": [
        "### Route Prompts"
      ],
      "metadata": {
        "id": "TGrpQVEmVKWz"
      }
    },
    {
      "cell_type": "code",
      "source": [
        "prompt_infos = [\n",
        "    {'name':'empty','description':'Replies to empty questions','prompt_template':empty_template},\n",
        "    {'name':'advanced physics','description': 'Answers advanced physics questions',\n",
        "     'prompt_template':expert_template},\n",
        "    {'name':'beginner physics','description': 'Answers basic beginner physics questions',\n",
        "     'prompt_template':beginner_template},\n",
        "\n",
        "]"
      ],
      "metadata": {
        "id": "84flvMFCQEd_"
      },
      "execution_count": 10,
      "outputs": []
    },
    {
      "cell_type": "markdown",
      "source": [
        "### Routing Chain Call"
      ],
      "metadata": {
        "id": "dZJg5ht1Va9w"
      }
    },
    {
      "cell_type": "code",
      "source": [
        "from langchain_openai import ChatOpenAI\n",
        "from langchain.chains.router import MultiPromptChain\n",
        "llm = ChatOpenAI()"
      ],
      "metadata": {
        "id": "RZcBcI_UQHIF"
      },
      "execution_count": 11,
      "outputs": []
    },
    {
      "cell_type": "code",
      "source": [
        "chain = MultiPromptChain.from_prompts(llm, prompt_infos, verbose=True)"
      ],
      "metadata": {
        "id": "G5as58xyQKa4"
      },
      "execution_count": 12,
      "outputs": []
    },
    {
      "cell_type": "code",
      "source": [
        "chain.invoke(\"How do magnets work?\")"
      ],
      "metadata": {
        "colab": {
          "base_uri": "https://localhost:8080/"
        },
        "id": "Ha2JVasiQNXs",
        "outputId": "cc7689c5-80cb-478d-cb23-c8fc5ce2ed8c"
      },
      "execution_count": 14,
      "outputs": [
        {
          "output_type": "stream",
          "name": "stdout",
          "text": [
            "\n",
            "\n",
            "\u001b[1m> Entering new MultiPromptChain chain...\u001b[0m\n",
            "beginner physics: {'input': 'How do magnets work?'}\n",
            "\u001b[1m> Finished chain.\u001b[0m\n"
          ]
        },
        {
          "output_type": "execute_result",
          "data": {
            "text/plain": [
              "{'input': 'How do magnets work?',\n",
              " 'text': \"Magnets are really cool because they have the ability to attract or repel other objects without even touching them! This is all thanks to the invisible magnetic field that surrounds the magnet. \\n\\nInside a magnet, there are tiny particles called electrons that all have their own magnetic field. When these particles line up in the same direction, they create a strong magnetic force. This force is what allows magnets to attract certain materials, like iron and steel.\\n\\nWhen two magnets are brought close together, their magnetic fields interact. If the poles of the magnets are opposite (one is north and the other is south), they will attract each other. But if the poles are the same (both north or both south), they will repel each other.\\n\\nSo basically, magnets work because of the magnetic fields created by the alignment of electrons inside them. It's like they have their own invisible superpower that allows them to interact with other objects in a really cool way!\"}"
            ]
          },
          "metadata": {},
          "execution_count": 14
        }
      ]
    },
    {
      "cell_type": "code",
      "source": [
        "chain.invoke(\"How do Feynman Diagrams work?\")"
      ],
      "metadata": {
        "id": "5tWPNBs2WSjd",
        "outputId": "63e5be96-8d93-46b9-b3bb-28e790b0042a",
        "colab": {
          "base_uri": "https://localhost:8080/"
        }
      },
      "execution_count": 15,
      "outputs": [
        {
          "output_type": "stream",
          "name": "stdout",
          "text": [
            "\n",
            "\n",
            "\u001b[1m> Entering new MultiPromptChain chain...\u001b[0m\n",
            "advanced physics: {'input': 'How do Feynman Diagrams work in quantum field theory?'}\n",
            "\u001b[1m> Finished chain.\u001b[0m\n"
          ]
        },
        {
          "output_type": "execute_result",
          "data": {
            "text/plain": [
              "{'input': 'How do Feynman Diagrams work in quantum field theory?',\n",
              " 'text': 'Feynman diagrams are a graphical representation of the interactions between particles in quantum field theory. They were developed by physicist Richard Feynman in the 1940s as a way to visualize and calculate the probabilities of different particle interactions.\\n\\nIn a Feynman diagram, particles are represented by lines, with different types of particles denoted by different styles of lines. For example, fermions like electrons are represented by solid lines, while bosons like photons are represented by wavy lines. Vertices in the diagram represent interactions between particles, with each vertex corresponding to a specific interaction term in the quantum field theory Lagrangian.\\n\\nThe lines in the diagram also have arrows indicating the direction of particle flow, with outgoing particles on the right side of the diagram and incoming particles on the left side. The lines are also labeled with momentum and energy values, which are conserved at each vertex in the diagram.\\n\\nTo calculate the probability of a particular particle interaction, one must sum over all possible Feynman diagrams that contribute to that interaction. This involves calculating the Feynman amplitude for each diagram, which is a complex number that encodes the probability amplitude for the interaction to occur.\\n\\nOverall, Feynman diagrams provide a powerful tool for visualizing and calculating the complex interactions between particles in quantum field theory. They have been instrumental in the development of quantum electrodynamics, quantum chromodynamics, and other quantum field theories.'}"
            ]
          },
          "metadata": {},
          "execution_count": 15
        }
      ]
    },
    {
      "cell_type": "code",
      "source": [],
      "metadata": {
        "id": "4wbF_gC-WTe2"
      },
      "execution_count": null,
      "outputs": []
    }
  ]
}