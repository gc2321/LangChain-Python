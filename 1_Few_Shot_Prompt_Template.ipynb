{
  "nbformat": 4,
  "nbformat_minor": 0,
  "metadata": {
    "colab": {
      "provenance": [],
      "authorship_tag": "ABX9TyNKdJnkQ7yoYn87tsSOiMUr",
      "include_colab_link": true
    },
    "kernelspec": {
      "name": "python3",
      "display_name": "Python 3"
    },
    "language_info": {
      "name": "python"
    }
  },
  "cells": [
    {
      "cell_type": "markdown",
      "metadata": {
        "id": "view-in-github",
        "colab_type": "text"
      },
      "source": [
        "<a href=\"https://colab.research.google.com/github/gc2321/LangChain-Python/blob/main/1_Few_Shot_Prompt_Template.ipynb\" target=\"_parent\"><img src=\"https://colab.research.google.com/assets/colab-badge.svg\" alt=\"Open In Colab\"/></a>"
      ]
    },
    {
      "cell_type": "code",
      "source": [
        "import os"
      ],
      "metadata": {
        "id": "0rhqmgDGfXS4"
      },
      "execution_count": 1,
      "outputs": []
    },
    {
      "cell_type": "code",
      "source": [
        "!pip install --upgrade --quiet langchain-openai langchain-community\n",
        "!pip install -quiet openai"
      ],
      "metadata": {
        "colab": {
          "base_uri": "https://localhost:8080/"
        },
        "id": "zWtxT39ffGb6",
        "outputId": "49113b8c-1074-4879-9f09-d0e72fae4004"
      },
      "execution_count": 24,
      "outputs": [
        {
          "output_type": "stream",
          "name": "stdout",
          "text": [
            "\u001b[2K     \u001b[90m━━━━━━━━━━━━━━━━━━━━━━━━━━━━━━━━━━━━━━━━\u001b[0m \u001b[32m2.1/2.1 MB\u001b[0m \u001b[31m32.8 MB/s\u001b[0m eta \u001b[36m0:00:00\u001b[0m\n",
            "\u001b[2K     \u001b[90m━━━━━━━━━━━━━━━━━━━━━━━━━━━━━━━━━━━━━━━━\u001b[0m \u001b[32m310.2/310.2 kB\u001b[0m \u001b[31m22.6 MB/s\u001b[0m eta \u001b[36m0:00:00\u001b[0m\n",
            "\u001b[2K     \u001b[90m━━━━━━━━━━━━━━━━━━━━━━━━━━━━━━━━━━━━━━━━\u001b[0m \u001b[32m320.7/320.7 kB\u001b[0m \u001b[31m26.1 MB/s\u001b[0m eta \u001b[36m0:00:00\u001b[0m\n",
            "\u001b[2K     \u001b[90m━━━━━━━━━━━━━━━━━━━━━━━━━━━━━━━━━━━━━━━━\u001b[0m \u001b[32m1.1/1.1 MB\u001b[0m \u001b[31m30.4 MB/s\u001b[0m eta \u001b[36m0:00:00\u001b[0m\n",
            "\u001b[2K     \u001b[90m━━━━━━━━━━━━━━━━━━━━━━━━━━━━━━━━━━━━━━━━\u001b[0m \u001b[32m973.5/973.5 kB\u001b[0m \u001b[31m39.6 MB/s\u001b[0m eta \u001b[36m0:00:00\u001b[0m\n",
            "\u001b[2K     \u001b[90m━━━━━━━━━━━━━━━━━━━━━━━━━━━━━━━━━━━━━━━━\u001b[0m \u001b[32m124.3/124.3 kB\u001b[0m \u001b[31m11.4 MB/s\u001b[0m eta \u001b[36m0:00:00\u001b[0m\n",
            "\u001b[2K     \u001b[90m━━━━━━━━━━━━━━━━━━━━━━━━━━━━━━━━━━━━━━━━\u001b[0m \u001b[32m49.3/49.3 kB\u001b[0m \u001b[31m5.8 MB/s\u001b[0m eta \u001b[36m0:00:00\u001b[0m\n",
            "\u001b[2K     \u001b[90m━━━━━━━━━━━━━━━━━━━━━━━━━━━━━━━━━━━━━━━━\u001b[0m \u001b[32m53.0/53.0 kB\u001b[0m \u001b[31m6.3 MB/s\u001b[0m eta \u001b[36m0:00:00\u001b[0m\n",
            "\u001b[2K     \u001b[90m━━━━━━━━━━━━━━━━━━━━━━━━━━━━━━━━━━━━━━━━\u001b[0m \u001b[32m142.5/142.5 kB\u001b[0m \u001b[31m15.2 MB/s\u001b[0m eta \u001b[36m0:00:00\u001b[0m\n",
            "\u001b[2K     \u001b[90m━━━━━━━━━━━━━━━━━━━━━━━━━━━━━━━━━━━━━━━━\u001b[0m \u001b[32m75.6/75.6 kB\u001b[0m \u001b[31m8.2 MB/s\u001b[0m eta \u001b[36m0:00:00\u001b[0m\n",
            "\u001b[2K     \u001b[90m━━━━━━━━━━━━━━━━━━━━━━━━━━━━━━━━━━━━━━━━\u001b[0m \u001b[32m77.9/77.9 kB\u001b[0m \u001b[31m8.4 MB/s\u001b[0m eta \u001b[36m0:00:00\u001b[0m\n",
            "\u001b[2K     \u001b[90m━━━━━━━━━━━━━━━━━━━━━━━━━━━━━━━━━━━━━━━━\u001b[0m \u001b[32m58.3/58.3 kB\u001b[0m \u001b[31m7.1 MB/s\u001b[0m eta \u001b[36m0:00:00\u001b[0m\n",
            "\u001b[?25h\n",
            "Usage:   \n",
            "  pip3 install [options] <requirement specifier> [package-index-options] ...\n",
            "  pip3 install [options] -r <requirements file> [package-index-options] ...\n",
            "  pip3 install [options] [-e] <vcs project url> ...\n",
            "  pip3 install [options] [-e] <local project path> ...\n",
            "  pip3 install [options] <archive url/path> ...\n",
            "\n",
            "no such option: -u\n"
          ]
        }
      ]
    },
    {
      "cell_type": "code",
      "source": [
        "from google.colab import drive\n",
        "drive.mount('/content/gdrive')"
      ],
      "metadata": {
        "colab": {
          "base_uri": "https://localhost:8080/"
        },
        "id": "RZ9bQosqpV5k",
        "outputId": "298c2b0c-7c0a-4875-80d5-f1412c427ba2"
      },
      "execution_count": 7,
      "outputs": [
        {
          "output_type": "stream",
          "name": "stdout",
          "text": [
            "Mounted at /content/gdrive\n"
          ]
        }
      ]
    },
    {
      "cell_type": "code",
      "source": [
        "open_ai_api =\"/content/gdrive/MyDrive/llm/api_key.txt\"\n",
        "f = open(open_ai_api)\n",
        "api_key = f.read()"
      ],
      "metadata": {
        "id": "__dZDI4qp9JP"
      },
      "execution_count": 8,
      "outputs": []
    },
    {
      "cell_type": "code",
      "source": [
        "from langchain_openai import ChatOpenAI\n",
        "from langchain.prompts import (\n",
        "    ChatPromptTemplate,\n",
        "    PromptTemplate,\n",
        "    SystemMessagePromptTemplate,\n",
        "    AIMessagePromptTemplate,\n",
        "    HumanMessagePromptTemplate,\n",
        ")\n"
      ],
      "metadata": {
        "id": "1kBll8PtERP9"
      },
      "execution_count": 26,
      "outputs": []
    },
    {
      "cell_type": "code",
      "source": [
        "def travel_idea(interest,budget):\n",
        "    '''\n",
        "    INPUTS:\n",
        "        interest: A str interest or hobby (e.g. fishing)\n",
        "        budget: A str budget (e.g. $10,000)\n",
        "    '''\n",
        "    # PART ONE: SYSTEM\n",
        "    system_template=\"You are an AI Travel Agent that helps people plan trips about {interest} on a budget of {budget}\"\n",
        "    system_message_prompt = SystemMessagePromptTemplate.from_template(system_template)\n",
        "    # PART TWO: HUMAN REQUEST\n",
        "    human_template=\"{travel_help_request}\"\n",
        "    human_message_prompt = HumanMessagePromptTemplate.from_template(human_template)\n",
        "    # PART THREE: COMPILE TO CHAT\n",
        "    chat_prompt = ChatPromptTemplate.from_messages([system_message_prompt, human_message_prompt])\n",
        "    # PART FOUR: INSERT VARIABLES\n",
        "    request = chat_prompt.format_prompt(interest=interest, budget=budget, travel_help_request=\"Please give me an example travel itinerary\").to_messages()\n",
        "    # PART FIVE: CHAT REQUEST\n",
        "    chat = ChatOpenAI(openai_api_key=api_key)\n",
        "    result = chat.invoke(request)\n",
        "    return result.content"
      ],
      "metadata": {
        "id": "V_hKsY_FGM56"
      },
      "execution_count": 27,
      "outputs": []
    },
    {
      "cell_type": "code",
      "execution_count": 29,
      "metadata": {
        "id": "-UWxoC8Fe-zJ",
        "colab": {
          "base_uri": "https://localhost:8080/"
        },
        "outputId": "3ed339fe-ed5f-4b79-e0ad-f4d2cf58379a"
      },
      "outputs": [
        {
          "output_type": "stream",
          "name": "stdout",
          "text": [
            "Sure! Here's a sample travel itinerary for a camping trip on a budget of $2,000:\n",
            "\n",
            "Destination: Great Smoky Mountains National Park, Tennessee\n",
            "\n",
            "Day 1:\n",
            "- Arrive at Great Smoky Mountains National Park\n",
            "- Set up camp at a designated campsite ($20 per night)\n",
            "- Explore the visitor center and learn about the park's history and wildlife\n",
            "- Have a picnic dinner at one of the park's scenic spots\n",
            "\n",
            "Day 2:\n",
            "- Go on a hike along one of the park's many trails, such as the Alum Cave Trail to Mount LeConte\n",
            "- Enjoy a packed lunch with sandwiches and snacks\n",
            "- Relax by a waterfall or stream in the afternoon\n",
            "- Cook dinner over a campfire at your campsite\n",
            "\n",
            "Day 3:\n",
            "- Drive to Cades Cove and explore the historic buildings and scenic views\n",
            "- Have a picnic lunch in Cades Cove\n",
            "- Go for a bike ride or hike around the loop road\n",
            "- Watch for wildlife such as deer, black bears, and wild turkeys\n",
            "\n",
            "Day 4:\n",
            "- Pack up camp and head to a nearby town for breakfast\n",
            "- Visit a local farmers' market or craft fair\n",
            "- Stop at a scenic overlook for a final view of the mountains\n",
            "- Begin the journey back home\n",
            "\n",
            "Total estimated cost for this trip:\n",
            "- Camping fees: $60 (3 nights at $20 per night)\n",
            "- Food and supplies: $300 (including groceries, snacks, and meals out)\n",
            "- Gasoline: $150 (estimate for round trip from your starting point)\n",
            "- Souvenirs and miscellaneous expenses: $100\n",
            "- Total: $610\n",
            "\n",
            "This leaves plenty of room in your budget for additional activities, such as guided tours, horseback riding, or whitewater rafting, or for any unexpected expenses that may arise during your trip. Enjoy your camping adventure in the Great Smoky Mountains National Park!\n"
          ]
        }
      ],
      "source": [
        "print(travel_idea('camping','$2,000'))"
      ]
    }
  ]
}